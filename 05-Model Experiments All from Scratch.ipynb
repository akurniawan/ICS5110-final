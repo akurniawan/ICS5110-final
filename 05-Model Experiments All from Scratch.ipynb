{
 "cells": [
  {
   "cell_type": "code",
   "execution_count": 1,
   "metadata": {
    "colab": {
     "base_uri": "https://localhost:8080/"
    },
    "executionInfo": {
     "elapsed": 711,
     "status": "ok",
     "timestamp": 1608632808065,
     "user": {
      "displayName": "Evgeniya Ustinova",
      "photoUrl": "https://lh3.googleusercontent.com/a-/AOh14GgRbRDfzut5kZgL8AICLyJyejg1MjN8KfuU-umu=s64",
      "userId": "15678872750946301013"
     },
     "user_tz": -60
    },
    "id": "EPdY3l318ids",
    "outputId": "4f5f82b7-17bd-4815-8bf7-1fba047e50eb"
   },
   "outputs": [],
   "source": [
    "import re\n",
    "import pandas as pd\n",
    "import numpy as np\n",
    "import time\n",
    "\n",
    "from collections import defaultdict\n",
    "from nltk.corpus import stopwords\n",
    "from tqdm import tqdm\n",
    "from scipy.sparse import csr_matrix, diags\n",
    "from scipy.special import logsumexp\n",
    "from scipy.sparse.linalg import svds"
   ]
  },
  {
   "cell_type": "code",
   "execution_count": 2,
   "metadata": {
    "executionInfo": {
     "elapsed": 1527,
     "status": "ok",
     "timestamp": 1608632552703,
     "user": {
      "displayName": "Evgeniya Ustinova",
      "photoUrl": "https://lh3.googleusercontent.com/a-/AOh14GgRbRDfzut5kZgL8AICLyJyejg1MjN8KfuU-umu=s64",
      "userId": "15678872750946301013"
     },
     "user_tz": -60
    },
    "id": "CTsCXs9u8idv"
   },
   "outputs": [],
   "source": [
    "# Using default token pattern from sklearn\n",
    "token_pattern = re.compile(r\"(?u)\\b\\w\\w+\\b\")\n",
    "ngram_range = (1, 3)\n",
    "min_freq = 10"
   ]
  },
  {
   "cell_type": "code",
   "execution_count": 3,
   "metadata": {
    "executionInfo": {
     "elapsed": 3741,
     "status": "ok",
     "timestamp": 1608632781106,
     "user": {
      "displayName": "Evgeniya Ustinova",
      "photoUrl": "https://lh3.googleusercontent.com/a-/AOh14GgRbRDfzut5kZgL8AICLyJyejg1MjN8KfuU-umu=s64",
      "userId": "15678872750946301013"
     },
     "user_tz": -60
    },
    "id": "V0ikxxFe8idw"
   },
   "outputs": [],
   "source": [
    "df = pd.read_csv(\"yelp_review_sentiment_2classes.tsv\", delimiter=\"\\t\")\n",
    "df = df.dropna()"
   ]
  },
  {
   "cell_type": "markdown",
   "metadata": {
    "id": "812xsTF88idx"
   },
   "source": [
    "## train_test_split Implementation"
   ]
  },
  {
   "cell_type": "code",
   "execution_count": 4,
   "metadata": {
    "executionInfo": {
     "elapsed": 2246,
     "status": "ok",
     "timestamp": 1608632781107,
     "user": {
      "displayName": "Evgeniya Ustinova",
      "photoUrl": "https://lh3.googleusercontent.com/a-/AOh14GgRbRDfzut5kZgL8AICLyJyejg1MjN8KfuU-umu=s64",
      "userId": "15678872750946301013"
     },
     "user_tz": -60
    },
    "id": "gsNeqQtg8idx"
   },
   "outputs": [],
   "source": [
    "def split_data(X, y, test_size=0.1):\n",
    "    total_data = len(X)\n",
    "    total_test = int(total_data * test_size)\n",
    "    sample_idx = np.arange(total_data)\n",
    "    np.random.shuffle(sample_idx)\n",
    "\n",
    "    X_train = X.iloc[sample_idx[total_test:]]\n",
    "    y_train = y.iloc[sample_idx[total_test:]]\n",
    "\n",
    "    X_test = X.iloc[sample_idx[:total_test]]\n",
    "    y_test = y.iloc[sample_idx[:total_test]]\n",
    "    return (X_train, y_train), (X_test, y_test)"
   ]
  },
  {
   "cell_type": "code",
   "execution_count": 5,
   "metadata": {
    "executionInfo": {
     "elapsed": 762,
     "status": "ok",
     "timestamp": 1608632781404,
     "user": {
      "displayName": "Evgeniya Ustinova",
      "photoUrl": "https://lh3.googleusercontent.com/a-/AOh14GgRbRDfzut5kZgL8AICLyJyejg1MjN8KfuU-umu=s64",
      "userId": "15678872750946301013"
     },
     "user_tz": -60
    },
    "id": "LhrZfrKW8idz"
   },
   "outputs": [],
   "source": [
    "(X_train, y_train), (X_test, y_test) = split_data(df[\"text\"], df[\"sentiment\"])"
   ]
  },
  {
   "cell_type": "code",
   "execution_count": 6,
   "metadata": {
    "colab": {
     "base_uri": "https://localhost:8080/"
    },
    "executionInfo": {
     "elapsed": 592,
     "status": "ok",
     "timestamp": 1608632782414,
     "user": {
      "displayName": "Evgeniya Ustinova",
      "photoUrl": "https://lh3.googleusercontent.com/a-/AOh14GgRbRDfzut5kZgL8AICLyJyejg1MjN8KfuU-umu=s64",
      "userId": "15678872750946301013"
     },
     "user_tz": -60
    },
    "id": "o5Xm7G5O8idz",
    "outputId": "01b9d6e2-5526-4787-a767-c9973383b389"
   },
   "outputs": [
    {
     "data": {
      "text/plain": [
       "((224981,), (24997,))"
      ]
     },
     "execution_count": 6,
     "metadata": {},
     "output_type": "execute_result"
    }
   ],
   "source": [
    "X_train.shape, X_test.shape"
   ]
  },
  {
   "cell_type": "markdown",
   "metadata": {
    "id": "jrZrOEar8id0"
   },
   "source": [
    "## CountVectorizer Implementation\n",
    "\n",
    "Something weird happens with the sklearn's CountVectorizer.\n",
    "\n",
    "The result from CountVectorizer\n",
    "'beer', 'beer copyright', 'burger', 'copyright'  \n",
    "6 4 5 5  \n",
    "\n",
    "The correct result should be  \n",
    "'beer', 'pizza', 'beer copyright', 'burger', 'copyright'  \n",
    "6 4 4 5 5  \n",
    "'pizza' is missing from the transformation."
   ]
  },
  {
   "cell_type": "code",
   "execution_count": 7,
   "metadata": {
    "executionInfo": {
     "elapsed": 880,
     "status": "ok",
     "timestamp": 1608633015657,
     "user": {
      "displayName": "Evgeniya Ustinova",
      "photoUrl": "https://lh3.googleusercontent.com/a-/AOh14GgRbRDfzut5kZgL8AICLyJyejg1MjN8KfuU-umu=s64",
      "userId": "15678872750946301013"
     },
     "user_tz": -60
    },
    "id": "dpMqGfrQ8id0"
   },
   "outputs": [],
   "source": [
    "en_stopwords = stopwords.words('english') + [\"-PRON-\", \"-pron-\", \"PRON\", \"pron\"]\n",
    "\n",
    "def preprocessing(text, ngram_range):\n",
    "    tokens = token_pattern.findall(text)\n",
    "    tokens = list(filter(lambda x: x not in en_stopwords, tokens))\n",
    "    tokens = build_ngrams(tokens, ngram_range)\n",
    "    return tokens\n",
    "\n",
    "\n",
    "def build_ngrams(text, ngram_range):\n",
    "    vocabs = []\n",
    "    join_space = \" \".join\n",
    "    for i in range(ngram_range[0], ngram_range[1] + 1):\n",
    "        for j in range(len(text)):\n",
    "            if j + i <= len(text):\n",
    "                vocabs.append(join_space(text[j:j+i]))\n",
    "    return vocabs\n",
    "\n",
    "\n",
    "def build_vocab(doc, ngram_range, min_freq):\n",
    "    vocabs = {}\n",
    "    vocab_counts = defaultdict(int)\n",
    "    for text in tqdm(doc):\n",
    "        tokens = preprocessing(text, ngram_range)\n",
    "        for word in tokens:\n",
    "            vocab_counts[word] += 1\n",
    "\n",
    "    vocab_counts = dict(filter(lambda x: x[1] >= min_freq, vocab_counts.items()))\n",
    "    for idx, key in enumerate(vocab_counts.keys()):\n",
    "        vocabs[key] = idx\n",
    "    return vocabs, vocab_counts\n",
    "\n",
    "\n",
    "def build_count_vector(doc, vocabs):\n",
    "    data = []\n",
    "    indices = []\n",
    "    indptr = [0]\n",
    "    for text in tqdm(doc):\n",
    "        tokens = preprocessing(text, ngram_range)\n",
    "        feature_counts = defaultdict(int)\n",
    "        for word in tokens:\n",
    "            if word in vocabs:\n",
    "                feature_counts[vocabs[word]] += 1\n",
    "        data.extend(feature_counts.values())\n",
    "        indices.extend(feature_counts.keys())\n",
    "        indptr.append(len(data))\n",
    "    \n",
    "    return csr_matrix((data, indices, indptr), shape=(len(doc), len(vocabs)), dtype=float)"
   ]
  },
  {
   "cell_type": "code",
   "execution_count": 8,
   "metadata": {
    "colab": {
     "base_uri": "https://localhost:8080/"
    },
    "executionInfo": {
     "elapsed": 93072,
     "status": "ok",
     "timestamp": 1608633116308,
     "user": {
      "displayName": "Evgeniya Ustinova",
      "photoUrl": "https://lh3.googleusercontent.com/a-/AOh14GgRbRDfzut5kZgL8AICLyJyejg1MjN8KfuU-umu=s64",
      "userId": "15678872750946301013"
     },
     "user_tz": -60
    },
    "id": "kaeu-slI8id1",
    "outputId": "e267baf4-3b66-4919-a5a6-4e7f7da12be9"
   },
   "outputs": [
    {
     "name": "stderr",
     "output_type": "stream",
     "text": [
      "100%|██████████| 224981/224981 [01:22<00:00, 2734.20it/s]\n"
     ]
    }
   ],
   "source": [
    "vocabs, vocab_counts = build_vocab(X_train, ngram_range, min_freq)"
   ]
  },
  {
   "cell_type": "markdown",
   "metadata": {
    "id": "tM5hhZ4n8id2"
   },
   "source": [
    "## TfIdfVectorizer Implementation"
   ]
  },
  {
   "cell_type": "code",
   "execution_count": 9,
   "metadata": {
    "executionInfo": {
     "elapsed": 903,
     "status": "ok",
     "timestamp": 1608633019647,
     "user": {
      "displayName": "Evgeniya Ustinova",
      "photoUrl": "https://lh3.googleusercontent.com/a-/AOh14GgRbRDfzut5kZgL8AICLyJyejg1MjN8KfuU-umu=s64",
      "userId": "15678872750946301013"
     },
     "user_tz": -60
    },
    "id": "1kYFDGu18id5"
   },
   "outputs": [],
   "source": [
    "def build_tfidf_vector(doc, vocabs):\n",
    "    term_vectors = build_count_vector(doc, vocabs)\n",
    "    document_vectors = np.bincount(term_vectors.indices, minlength=term_vectors.shape[1])\n",
    "    # Add smoothing for both numerator and denumerator to prevent division by 0 or having 0\n",
    "    # as the result\n",
    "    idf = (term_vectors.shape[0] + 1) / (document_vectors + 1)\n",
    "    idf = np.log(idf)\n",
    "    # The default action for csr_matrix multiplied by numpy vector is dot product, therefore\n",
    "    # we need to create a diagonal matrix first to simulate element by element multiplication\n",
    "    # without blowing up the memory\n",
    "    diag_idf = diags(idf, offsets=0, format=\"csr\")\n",
    "    return term_vectors * diag_idf"
   ]
  },
  {
   "cell_type": "markdown",
   "metadata": {
    "id": "8CaaZnWK8id6"
   },
   "source": [
    "## Normalizer Implementation"
   ]
  },
  {
   "cell_type": "code",
   "execution_count": 10,
   "metadata": {
    "executionInfo": {
     "elapsed": 879,
     "status": "ok",
     "timestamp": 1608633021494,
     "user": {
      "displayName": "Evgeniya Ustinova",
      "photoUrl": "https://lh3.googleusercontent.com/a-/AOh14GgRbRDfzut5kZgL8AICLyJyejg1MjN8KfuU-umu=s64",
      "userId": "15678872750946301013"
     },
     "user_tz": -60
    },
    "id": "7ILENAzO8id6"
   },
   "outputs": [],
   "source": [
    "def normalize(X):\n",
    "    new_data = []\n",
    "    for x in X:\n",
    "        square_sum = 0\n",
    "        for i in x.data:\n",
    "            square_sum += i * i\n",
    "        norm = np.sqrt(square_sum)\n",
    "        new_data.extend((x.data / norm).tolist())\n",
    "    new_mat = csr_matrix((np.array(new_data), X.indices, X.indptr), dtype=np.float64)\n",
    "    return new_mat"
   ]
  },
  {
   "cell_type": "markdown",
   "metadata": {
    "id": "36HQIlTt8id7"
   },
   "source": [
    "## Metrics Implementation"
   ]
  },
  {
   "cell_type": "code",
   "execution_count": 11,
   "metadata": {
    "executionInfo": {
     "elapsed": 850,
     "status": "ok",
     "timestamp": 1608633152727,
     "user": {
      "displayName": "Evgeniya Ustinova",
      "photoUrl": "https://lh3.googleusercontent.com/a-/AOh14GgRbRDfzut5kZgL8AICLyJyejg1MjN8KfuU-umu=s64",
      "userId": "15678872750946301013"
     },
     "user_tz": -60
    },
    "id": "8vVJWmcY8id8"
   },
   "outputs": [],
   "source": [
    "def safe_division(a, b):\n",
    "    if b == 0:\n",
    "        return 0.\n",
    "    return a / b\n",
    "\n",
    "\n",
    "def confusion_matrix(true, pred):\n",
    "    tp = 0\n",
    "    fp = 0\n",
    "    tn = 0\n",
    "    fn = 0\n",
    "    for y, y_hat in zip(true, pred):\n",
    "        if y == 1 and y_hat == 1:\n",
    "            tp += 1\n",
    "        elif y == 0 and y_hat == 1:\n",
    "            fp += 1\n",
    "        elif y == 1 and y_hat == 0:\n",
    "            fn += 1\n",
    "        elif y == 0 and y_hat == 0:\n",
    "            tn += 1\n",
    "    return tp, fp, tn, fn\n",
    "\n",
    "\n",
    "def precision_micro(true, pred):\n",
    "    tp, fp, tn, fn = confusion_matrix(true, pred)\n",
    "    return safe_division(tp, (tp + fp))\n",
    "\n",
    "\n",
    "def recall_micro(true, pred):\n",
    "    tp, fp, tn, fn = confusion_matrix(true, pred)\n",
    "    return safe_division(tp, (tp + fn))\n",
    "\n",
    "\n",
    "def f1_micro(true, pred):\n",
    "    precision = precision_micro(true, pred)\n",
    "    recall = recall_micro(true, pred)\n",
    "    return safe_division((2 * precision * recall), (precision + recall))\n"
   ]
  },
  {
   "cell_type": "markdown",
   "metadata": {},
   "source": [
    "## Cross Validation Implementation"
   ]
  },
  {
   "cell_type": "code",
   "execution_count": 12,
   "metadata": {
    "executionInfo": {
     "elapsed": 819,
     "status": "ok",
     "timestamp": 1608633155143,
     "user": {
      "displayName": "Evgeniya Ustinova",
      "photoUrl": "https://lh3.googleusercontent.com/a-/AOh14GgRbRDfzut5kZgL8AICLyJyejg1MjN8KfuU-umu=s64",
      "userId": "15678872750946301013"
     },
     "user_tz": -60
    },
    "id": "7qqPCno-8id8"
   },
   "outputs": [],
   "source": [
    "from joblib import delayed, Parallel\n",
    "from scipy.sparse import vstack\n",
    "\n",
    "\n",
    "def cross_validate(model, X, y, folds=5):\n",
    "    fold_size = int(X.shape[0] / folds)\n",
    "    fold_ranges = [(i, i + fold_size) for i in range(0, X.shape[0], fold_size)]\n",
    "    scores = {\n",
    "        \"fit_time\": [],\n",
    "        \"score_time\": [],\n",
    "        \"test_f1_micro\": [],\n",
    "        \"train_f1_micro\": [],\n",
    "        \"test_precision_micro\": [],\n",
    "        \"train_precision_micro\": [],\n",
    "        \"test_recall_micro\": [],\n",
    "        \"train_recall_micro\": []\n",
    "    }\n",
    "\n",
    "    def _fit(start, end):\n",
    "        # Need to use vstack to deal with sparse matrix\n",
    "        X_train = vstack([X[0:start], X[end:]])\n",
    "        y_train = np.concatenate([y[0:start], y[end:]])\n",
    "\n",
    "        X_test = X[start:end]\n",
    "        y_test = y[start:end]\n",
    "\n",
    "        start_time = time.time()\n",
    "        model.fit(X_train, y_train)\n",
    "        fit_time = time.time() - start_time\n",
    "\n",
    "        start_time = time.time()\n",
    "        preds_train = model.predict(X_train)\n",
    "        preds_test = model.predict(X_test)\n",
    "        score_time = time.time() - start_time\n",
    "\n",
    "        metrics = [precision_micro, recall_micro, f1_micro]\n",
    "        scores = []\n",
    "        for metric in metrics:\n",
    "            name = metric.__name__\n",
    "            scores.append({\n",
    "                f\"train_{name}\": metric(y_train, preds_train),\n",
    "                f\"test_{name}\": metric(y_test, preds_test)})\n",
    "        return fit_time, score_time, scores\n",
    "\n",
    "    fit_results = Parallel(n_jobs=-1)(delayed(_fit)(start, end) for start, end in fold_ranges)\n",
    "    \n",
    "    for res in fit_results:\n",
    "        scores[\"fit_time\"].append(res[0])\n",
    "        scores[\"score_time\"].append(res[1])\n",
    "        for score in res[2]:\n",
    "            for k, v in score.items():\n",
    "                scores[k].append(v)\n",
    "\n",
    "    return scores"
   ]
  },
  {
   "cell_type": "markdown",
   "metadata": {
    "id": "_OiY19vx8id8"
   },
   "source": [
    "## OneHotEncoder and Label Encoder Implementation"
   ]
  },
  {
   "cell_type": "code",
   "execution_count": 13,
   "metadata": {
    "executionInfo": {
     "elapsed": 856,
     "status": "ok",
     "timestamp": 1608633158302,
     "user": {
      "displayName": "Evgeniya Ustinova",
      "photoUrl": "https://lh3.googleusercontent.com/a-/AOh14GgRbRDfzut5kZgL8AICLyJyejg1MjN8KfuU-umu=s64",
      "userId": "15678872750946301013"
     },
     "user_tz": -60
    },
    "id": "zWRrDhOK8id8"
   },
   "outputs": [],
   "source": [
    "class OneHotEncoder(object):\n",
    "    def __init__(self):\n",
    "        self.num_class = 0\n",
    "        self.idx_mapping = {}\n",
    "\n",
    "    def fit(self, X):\n",
    "        unique_classes = np.unique(X)\n",
    "        for unique_class in unique_classes:\n",
    "            self.idx_mapping[unique_class] = len(self.idx_mapping)\n",
    "        self.num_class = unique_classes.shape[0]\n",
    "\n",
    "    def transform(self, X):\n",
    "        idx = []\n",
    "        for row in X:\n",
    "            idx.append(self.idx_mapping[row])\n",
    "        idx = np.array(idx)\n",
    "        onehot = np.zeros((X.shape[0], self.num_class), dtype=np.int64)\n",
    "        onehot[np.arange(X.shape[0]), idx] = 1\n",
    "        return onehot\n",
    "\n",
    "    def fit_transform(self, X):\n",
    "        if not self.idx_mapping and self.num_class == 0:\n",
    "            self.fit(X)\n",
    "        return self.transform(X)"
   ]
  },
  {
   "cell_type": "code",
   "execution_count": 14,
   "metadata": {
    "executionInfo": {
     "elapsed": 849,
     "status": "ok",
     "timestamp": 1608633160822,
     "user": {
      "displayName": "Evgeniya Ustinova",
      "photoUrl": "https://lh3.googleusercontent.com/a-/AOh14GgRbRDfzut5kZgL8AICLyJyejg1MjN8KfuU-umu=s64",
      "userId": "15678872750946301013"
     },
     "user_tz": -60
    },
    "id": "U4X3SSl18id9"
   },
   "outputs": [],
   "source": [
    "class LabelEncoder(object):\n",
    "    def __init__(self):\n",
    "        self.num_class = 0\n",
    "        self.idx_mapping = {}\n",
    "\n",
    "    def fit(self, X):\n",
    "        unique_classes = np.unique(X)\n",
    "        for unique_class in unique_classes:\n",
    "            self.idx_mapping[unique_class] = len(self.idx_mapping)\n",
    "        self.num_class = unique_classes.shape[0]\n",
    "\n",
    "    def transform(self, X):\n",
    "        label = np.zeros(X.shape[0], dtype=np.int64)\n",
    "        for idx, row in enumerate(X):\n",
    "            label[idx] = self.idx_mapping[row]\n",
    "        return label\n",
    "\n",
    "    def fit_transform(self, X):\n",
    "        if not self.idx_mapping and self.num_class == 0:\n",
    "            self.fit(X)\n",
    "        return self.transform(X)"
   ]
  },
  {
   "cell_type": "markdown",
   "metadata": {
    "id": "tdM8uC_s8id9"
   },
   "source": [
    "## Model Implementation\n",
    "\n",
    "### Logistic Regression with Softmax"
   ]
  },
  {
   "cell_type": "code",
   "execution_count": 15,
   "metadata": {
    "executionInfo": {
     "elapsed": 915,
     "status": "ok",
     "timestamp": 1608633214834,
     "user": {
      "displayName": "Evgeniya Ustinova",
      "photoUrl": "https://lh3.googleusercontent.com/a-/AOh14GgRbRDfzut5kZgL8AICLyJyejg1MjN8KfuU-umu=s64",
      "userId": "15678872750946301013"
     },
     "user_tz": -60
    },
    "id": "t5FXE_XV8id9"
   },
   "outputs": [],
   "source": [
    "def softmax(z):\n",
    "    # Ensure numerical stability\n",
    "    exp_scores = np.exp(z - np.max(z, axis=1, keepdims=True))\n",
    "    return exp_scores / exp_scores.sum(1)[:, np.newaxis]\n",
    "\n",
    "def crossentropy(x, y):\n",
    "    m = (x * y).sum(1)\n",
    "    ce = np.log(m)\n",
    "    return -ce.sum()\n",
    "\n",
    "class SoftmaxRegression(object):\n",
    "    def __init__(self, w=None, b=None, lr=0.1, epochs=10):\n",
    "        self.lr = lr\n",
    "        self.epochs = epochs\n",
    "        self.w = w\n",
    "        self.b = b\n",
    "        self.label_bin = OneHotEncoder()\n",
    "\n",
    "    def get_params(self, deep=True):\n",
    "        # suppose this estimator has parameters \"alpha\" and \"recursive\"\n",
    "        return {\"w\": self.w, \"b\": self.b, \"lr\": self.lr, \"epochs\": self.epochs}\n",
    "\n",
    "    def set_params(self, **parameters):\n",
    "        for parameter, value in parameters.items():\n",
    "            setattr(self, parameter, value)\n",
    "        return self\n",
    "\n",
    "    def fit(self, X, y):\n",
    "        y = np.asarray(self.label_bin.fit_transform(y))\n",
    "        # Weights and biases initialization\n",
    "        limit = 1./np.sqrt(X.shape[1])\n",
    "        self.w = np.random.uniform(low=-limit, high=limit, size=(X.shape[1], y.shape[1]))\n",
    "        self.b = np.random.uniform(low=-limit, high=limit, size=(y.shape[1]))\n",
    "\n",
    "        for i in range(self.epochs):\n",
    "            z = X.dot(self.w) + self.b\n",
    "            z = softmax(z)\n",
    "            loss = crossentropy(z, y)\n",
    "\n",
    "            # Calculate gradients\n",
    "            dW = (X.T.dot(z - y) / X.shape[0])\n",
    "            db = z.sum(0) / X.shape[0]\n",
    "\n",
    "            self.w = self.w - self.lr * dW\n",
    "            self.b = self.b - self.lr * db\n",
    "\n",
    "    def predict_proba(self, X):\n",
    "        z = X.dot(self.w) + self.b\n",
    "        z = softmax(z)\n",
    "        return z\n",
    "    \n",
    "    def predict(self, X):\n",
    "        return self.predict_proba(X).argmax(axis=1)"
   ]
  },
  {
   "cell_type": "markdown",
   "metadata": {},
   "source": [
    "### Naive Bayes"
   ]
  },
  {
   "cell_type": "code",
   "execution_count": 16,
   "metadata": {
    "executionInfo": {
     "elapsed": 749,
     "status": "ok",
     "timestamp": 1608633232378,
     "user": {
      "displayName": "Evgeniya Ustinova",
      "photoUrl": "https://lh3.googleusercontent.com/a-/AOh14GgRbRDfzut5kZgL8AICLyJyejg1MjN8KfuU-umu=s64",
      "userId": "15678872750946301013"
     },
     "user_tz": -60
    },
    "id": "EEv_xhk78id9"
   },
   "outputs": [],
   "source": [
    "class NaiveBayesClassification(object):\n",
    "    def __init__(self):\n",
    "        self.label_bin = OneHotEncoder()\n",
    "\n",
    "    def get_params(self, deep=True):\n",
    "        # suppose this estimator has parameters \"alpha\" and \"recursive\"\n",
    "        return {}\n",
    "\n",
    "    def set_params(self, **parameters):\n",
    "        for parameter, value in parameters.items():\n",
    "            setattr(self, parameter, value)\n",
    "        return self\n",
    "\n",
    "    def fit(self, X, y):\n",
    "        _y = np.asarray(self.label_bin.fit_transform(y))\n",
    "        num_class = np.unique(y).shape[0]\n",
    "\n",
    "        # Calculate prior probability p(y)\n",
    "        self.prior = np.zeros((num_class))\n",
    "        for i in range(num_class):\n",
    "            self.prior[i] = (y == 1).sum() / y.shape[0]\n",
    "        self.log_prior = np.log(self.prior)\n",
    "\n",
    "        # Calculate likelihood p(x|y)\n",
    "        sum_words = (_y.T @ X) + 1\n",
    "        total_words = sum_words.sum()\n",
    "        self.log_likelihood = np.log(sum_words) - np.log(total_words)\n",
    "\n",
    "    def predict_proba(self, X):\n",
    "        llh = X @ self.log_likelihood.T\n",
    "        posterior = llh + self.log_prior\n",
    "        # Normalized by Z but in logarithmic form\n",
    "        posterior = posterior - logsumexp(posterior, axis=1).reshape(-1, 1)\n",
    "        return np.exp(posterior)\n",
    "\n",
    "    def predict(self, X):\n",
    "        preds = self.predict_proba(X)\n",
    "        return preds.argmax(axis=1)"
   ]
  },
  {
   "cell_type": "markdown",
   "metadata": {},
   "source": [
    "## Latent Semantic Analysis Implementation"
   ]
  },
  {
   "cell_type": "code",
   "execution_count": 17,
   "metadata": {
    "executionInfo": {
     "elapsed": 808,
     "status": "ok",
     "timestamp": 1608633241375,
     "user": {
      "displayName": "Evgeniya Ustinova",
      "photoUrl": "https://lh3.googleusercontent.com/a-/AOh14GgRbRDfzut5kZgL8AICLyJyejg1MjN8KfuU-umu=s64",
      "userId": "15678872750946301013"
     },
     "user_tz": -60
    },
    "id": "2nSshzU48id-"
   },
   "outputs": [],
   "source": [
    "def lsa(k):\n",
    "    def fn(M):\n",
    "        U, s, Vt = svds(M, k)\n",
    "        T = M.dot(Vt.T)\n",
    "        return T\n",
    "    return fn"
   ]
  },
  {
   "cell_type": "markdown",
   "metadata": {},
   "source": [
    "## Cross Validation Experiments"
   ]
  },
  {
   "cell_type": "code",
   "execution_count": 18,
   "metadata": {
    "colab": {
     "base_uri": "https://localhost:8080/"
    },
    "id": "jaOztiV18id_",
    "outputId": "e1d83105-60dc-42f8-99e2-2eee730e5838"
   },
   "outputs": [
    {
     "name": "stderr",
     "output_type": "stream",
     "text": [
      "100%|██████████| 224981/224981 [01:19<00:00, 2823.48it/s]\n"
     ]
    },
    {
     "name": "stdout",
     "output_type": "stream",
     "text": [
      "Cross-validate SoftmaxRegression-build_count_vector-None-None\n"
     ]
    },
    {
     "name": "stderr",
     "output_type": "stream",
     "text": [
      "  0%|          | 376/224981 [00:00<01:59, 1871.79it/s]"
     ]
    },
    {
     "name": "stdout",
     "output_type": "stream",
     "text": [
      "SoftmaxRegression-build_count_vector-None-None {'fit_time': [232.131178855896, 228.6640329360962, 228.06778287887573, 224.22521495819092, 228.84534311294556, 245.65803384780884], 'score_time': [0.21337103843688965, 0.3043198585510254, 0.3620798587799072, 0.28757596015930176, 0.2936592102050781, 0.0769948959350586], 'test_f1_micro': [0.9150220780391096, 0.9160851672928969, 0.9156717747683535, 0.9150178757799836, 0.9183732461699243, 1.0], 'train_f1_micro': [0.9211723768736617, 0.9214562700516112, 0.9213813126378381, 0.9215574548907883, 0.9207352834393658, 0.9205470152653344], 'test_precision_micro': [0.918747737965979, 0.9169054441260746, 0.9172653844437503, 0.916096042685638, 0.9208507981806832, 1.0], 'train_precision_micro': [0.9241613892183409, 0.9240289605317638, 0.9234281621415941, 0.9235178861333483, 0.9225336347966242, 0.9228881784559726], 'test_recall_micro': [0.9113265122958176, 0.9152663568108688, 0.9140836928002846, 0.913942243712017, 0.915908990109549, 1.0], 'train_recall_micro': [0.9182026369033062, 0.918897865616167, 0.9193435170638767, 0.9196053291710797, 0.9189439297142411, 0.9182177000454396]}\n",
      "\n"
     ]
    },
    {
     "name": "stderr",
     "output_type": "stream",
     "text": [
      "100%|██████████| 224981/224981 [01:16<00:00, 2927.56it/s]\n"
     ]
    },
    {
     "name": "stdout",
     "output_type": "stream",
     "text": [
      "Cross-validate SoftmaxRegression-build_tfidf_vector-None-None\n"
     ]
    },
    {
     "name": "stderr",
     "output_type": "stream",
     "text": [
      "  0%|          | 120/224981 [00:00<03:07, 1196.71it/s]"
     ]
    },
    {
     "name": "stdout",
     "output_type": "stream",
     "text": [
      "SoftmaxRegression-build_tfidf_vector-None-None {'fit_time': [226.2145390510559, 224.3187620639801, 223.31201004981995, 220.43329405784607, 223.497056722641, 240.0168890953064], 'score_time': [0.14808297157287598, 0.20966005325317383, 0.2555429935455322, 0.2957339286804199, 0.22802305221557617, 0.0791158676147461], 'test_f1_micro': [0.9276856249015327, 0.9295284030010719, 0.9270626989249706, 0.9289435020702551, 0.9284763510515573, 1.0], 'train_f1_micro': [0.9854313782272616, 0.9853574792791889, 0.9853753221110404, 0.9854580761804849, 0.9851451156403342, 0.9805220309933587], 'test_precision_micro': [0.9305549284327448, 0.9288646911817208, 0.9279921575617146, 0.9323472898699674, 0.9288472635270096, 1.0], 'train_precision_micro': [0.9873228434326526, 0.9870905781321541, 0.986563913553359, 0.98647093653294, 0.9865164016904809, 0.9823899258570266], 'test_recall_micro': [0.9248339615867888, 0.9301930639971397, 0.9261351002801619, 0.9255644767777137, 0.9281057346875415, 1.0], 'train_recall_micro': [0.9835471463192298, 0.9836304555874563, 0.9841895912023264, 0.9844472936061096, 0.9837776365521624, 0.978661225798979]}\n",
      "\n"
     ]
    },
    {
     "name": "stderr",
     "output_type": "stream",
     "text": [
      "100%|██████████| 224981/224981 [01:17<00:00, 2890.46it/s]\n"
     ]
    },
    {
     "name": "stdout",
     "output_type": "stream",
     "text": [
      "Cross-validate SoftmaxRegression-build_count_vector-normalize-None\n"
     ]
    },
    {
     "name": "stderr",
     "output_type": "stream",
     "text": [
      "  0%|          | 167/224981 [00:00<02:15, 1655.77it/s]"
     ]
    },
    {
     "name": "stdout",
     "output_type": "stream",
     "text": [
      "SoftmaxRegression-build_count_vector-normalize-None {'fit_time': [223.52940917015076, 222.8086497783661, 221.86705994606018, 218.66800475120544, 222.27337384223938, 239.2504162788391], 'score_time': [0.20783424377441406, 0.20789504051208496, 0.2573509216308594, 0.32579493522644043, 0.30600881576538086, 0.08613133430480957], 'test_f1_micro': [0.8399891579327792, 0.8440613455725959, 0.8409095980897547, 0.8410391700947953, 0.8417700376366836, 1.0], 'train_f1_micro': [0.8424330867593695, 0.8414803375187448, 0.8421040841812878, 0.8419162279646651, 0.8417104696010433, 0.8418404572942825], 'test_precision_micro': [0.8456430780425687, 0.8457086455202117, 0.8439795735531267, 0.847825107054316, 0.8453658972982645, 1.0], 'train_precision_micro': [0.8474414209703365, 0.8462534044612511, 0.8465366600612503, 0.8449557561873962, 0.8452164137155705, 0.8459033500053974], 'test_recall_micro': [0.8344103392568659, 0.84242045048266, 0.8378618757504336, 0.8343609989797276, 0.8382046391981195, 1.0], 'train_recall_micro': [0.8374836027302843, 0.8367608110213438, 0.8377176855968179, 0.8388984893249345, 0.838233490539742, 0.8378164063544108]}\n",
      "\n"
     ]
    },
    {
     "name": "stderr",
     "output_type": "stream",
     "text": [
      "100%|██████████| 224981/224981 [01:21<00:00, 2746.92it/s]\n"
     ]
    },
    {
     "name": "stdout",
     "output_type": "stream",
     "text": [
      "Cross-validate SoftmaxRegression-build_tfidf_vector-normalize-None\n"
     ]
    },
    {
     "name": "stderr",
     "output_type": "stream",
     "text": [
      "  0%|          | 161/224981 [00:00<02:20, 1604.15it/s]"
     ]
    },
    {
     "name": "stdout",
     "output_type": "stream",
     "text": [
      "SoftmaxRegression-build_tfidf_vector-normalize-None {'fit_time': [243.6550772190094, 241.89380288124084, 241.6330921649933, 237.4497628211975, 241.06980109214783, 257.2757863998413], 'score_time': [0.17233896255493164, 0.21787500381469727, 0.2240748405456543, 0.27785825729370117, 0.24553704261779785, 0.08696317672729492], 'test_f1_micro': [0.8671704823294066, 0.8680892124827299, 0.8679600595603048, 0.8661424221847415, 0.8664702673213311, 1.0], 'train_f1_micro': [0.8691280319312251, 0.8683386956855942, 0.8685898844311641, 0.8688147485272883, 0.8680880035579177, 0.8682933683438643], 'test_precision_micro': [0.8591121289526997, 0.8522585367954183, 0.8549674302230275, 0.8555170921678927, 0.8528653664404159, 1.0], 'train_precision_micro': [0.8574503991864818, 0.8569988728975204, 0.8565733167217378, 0.855860338337732, 0.8551894242627491, 0.8560136445491066], 'test_recall_micro': [0.8753814395979178, 0.8845191276367537, 0.8813536710099168, 0.8770349997782017, 0.8805162549341375, 1.0], 'train_recall_micro': [0.8811281321564355, 0.8799826400480737, 0.8809484016891177, 0.8821673448910196, 0.8813816324937842, 0.8809305309300854]}\n",
      "\n"
     ]
    },
    {
     "name": "stderr",
     "output_type": "stream",
     "text": [
      "100%|██████████| 224981/224981 [01:16<00:00, 2945.09it/s]\n"
     ]
    },
    {
     "name": "stdout",
     "output_type": "stream",
     "text": [
      "Cross-validate SoftmaxRegression-build_count_vector-None-fn\n"
     ]
    },
    {
     "name": "stderr",
     "output_type": "stream",
     "text": [
      "  0%|          | 27/224981 [00:00<14:05, 265.97it/s]"
     ]
    },
    {
     "name": "stdout",
     "output_type": "stream",
     "text": [
      "SoftmaxRegression-build_count_vector-None-fn {'fit_time': [629.2014820575714, 629.5304338932037, 629.2956352233887, 632.6180901527405, 630.3139593601227, 702.4358022212982], 'score_time': [1.144320011138916, 1.0869488716125488, 1.164362907409668, 0.7558290958404541, 1.5350902080535889, 0.3978750705718994], 'test_f1_micro': [0.8918650345544061, 0.89433480432786, 0.893821449223789, 0.892549889135255, 0.8960398239921774, 1.0], 'train_f1_micro': [0.89458130276232, 0.8940475659274463, 0.894027792510873, 0.8945784309893288, 0.8936286634766246, 0.8942793233233769], 'test_precision_micro': [0.8977448395016823, 0.8965641140803953, 0.8940600667408232, 0.8922729086314669, 0.8979555476370763, 1.0], 'train_precision_micro': [0.8974135230679733, 0.8962270480620849, 0.895973680087733, 0.8961246727675475, 0.8950429491768075, 0.8962681224270628], 'test_recall_micro': [0.8860617483396158, 0.8921165534501251, 0.8935829590430027, 0.8928270416537284, 0.8941322570630239, 1.0], 'train_recall_micro': [0.8917669030837984, 0.891878658387305, 0.8920903388263084, 0.8930375160265344, 0.8922188402403809, 0.892299330880191]}\n",
      "\n"
     ]
    },
    {
     "name": "stderr",
     "output_type": "stream",
     "text": [
      "100%|██████████| 224981/224981 [01:22<00:00, 2725.11it/s]\n"
     ]
    },
    {
     "name": "stdout",
     "output_type": "stream",
     "text": [
      "Cross-validate SoftmaxRegression-build_tfidf_vector-None-fn\n"
     ]
    },
    {
     "name": "stderr",
     "output_type": "stream",
     "text": [
      "  0%|          | 89/224981 [00:00<04:17, 871.89it/s]"
     ]
    },
    {
     "name": "stdout",
     "output_type": "stream",
     "text": [
      "SoftmaxRegression-build_tfidf_vector-None-fn {'fit_time': [670.0725450515747, 669.9183571338654, 670.5886681079865, 669.1399509906769, 671.4852070808411, 743.4385719299316], 'score_time': [0.9737539291381836, 1.3017199039459229, 1.071652889251709, 1.3111271858215332, 1.3402812480926514, 0.4607679843902588], 'test_f1_micro': [0.9070170307543477, 0.9089001495635869, 0.908674479108759, 0.9069190195470057, 0.9095474037371964, 1.0], 'train_f1_micro': [0.9088439615247597, 0.908656470352341, 0.9089004768908499, 0.9090017224176278, 0.9085895414714582, 0.9088016400017827], 'test_precision_micro': [0.9094518384840965, 0.9079880469202979, 0.9087351005159224, 0.9061960228530935, 0.9113089937666964, 1.0], 'train_precision_micro': [0.9101612147969764, 0.909578501338091, 0.9089308596579196, 0.9089561223579774, 0.9079471820793159, 0.9091419756939181], 'test_recall_micro': [0.904595225273739, 0.9098140865212728, 0.9086138657891226, 0.9076431708290822, 0.9077926109903757, 1.0], 'train_recall_micro': [0.9075305155968606, 0.9077363067815094, 0.9088700961549175, 0.90904732705279, 0.9092328104269102, 0.9084615590224258]}\n",
      "\n"
     ]
    },
    {
     "name": "stderr",
     "output_type": "stream",
     "text": [
      "100%|██████████| 224981/224981 [01:27<00:00, 2578.70it/s]\n"
     ]
    },
    {
     "name": "stdout",
     "output_type": "stream",
     "text": [
      "Cross-validate NaiveBayesClassification-build_count_vector-None-None\n",
      "NaiveBayesClassification-build_count_vector-None-None {'fit_time': [0.342987060546875, 0.34334325790405273, 0.3730318546295166, 0.33892297744750977, 0.34114813804626465, 0.44217920303344727], 'score_time': [0.3437027931213379, 0.3071000576019287, 0.3065989017486572, 0.3380873203277588, 0.35144710540771484, 0.27550315856933594], 'test_f1_micro': [0.8086326434864203, 0.8122739952474429, 0.8071129057307034, 0.8068691661079882, 0.8058721666537437, 0.0], 'train_f1_micro': [0.8298089171974522, 0.8284512418534288, 0.8256358296245944, 0.8262018367451645, 0.8254760880867261, 0.8246476598668053], 'test_precision_micro': [0.9645566471831861, 0.9623011015911873, 0.9655663590759893, 0.963482973089476, 0.9656838453914767, 0.0], 'train_precision_micro': [0.9715717567043523, 0.9714666387221366, 0.972607913940804, 0.9725363489499192, 0.9726970201179852, 0.9711287673879444], 'test_recall_micro': [0.6961048285765572, 0.7027171969967823, 0.6933339262685106, 0.6940513684957637, 0.691444538076019, 0.0], 'train_recall_micro': [0.7241478978144384, 0.7221406156106029, 0.7172510612695123, 0.7181448241262055, 0.7169615680503061, 0.7165640564163333]}\n",
      "\n"
     ]
    }
   ],
   "source": [
    "logistic = SoftmaxRegression(lr=0.5, epochs=500)\n",
    "nb = NaiveBayesClassification()\n",
    "label_enc = LabelEncoder()\n",
    "label_enc.fit(y_train)\n",
    "\n",
    "combinations = [\n",
    "    (logistic, build_count_vector, None, None),\n",
    "    (logistic, build_tfidf_vector, None, None),\n",
    "    (logistic, build_count_vector, normalize, None),\n",
    "    (logistic, build_tfidf_vector, normalize, None),\n",
    "    (logistic, build_count_vector, None, lsa(300)),\n",
    "    (logistic, build_tfidf_vector, None, lsa(300)),\n",
    "    (nb, build_count_vector, None, None)\n",
    "]\n",
    "\n",
    "res = {}\n",
    "for comb in combinations:\n",
    "    model = comb[0]\n",
    "    model_name = type(model).__name__\n",
    "    \n",
    "    featurizer = comb[1]\n",
    "    featurizer_name = featurizer.__name__\n",
    "    _X_train = featurizer(X_train, vocabs)\n",
    "    _y_train = label_enc.transform(y_train)\n",
    "    # _X_test = featurizer(X_test, vocabs)\n",
    "    # _y_test = label_enc.transform(y_test)\n",
    "    \n",
    "    normalizer_name = \"None\"\n",
    "    if comb[2]:\n",
    "        normalizer = comb[2]\n",
    "        normalizer_name = normalizer.__name__\n",
    "        _X_train = normalizer(_X_train)\n",
    "        # _X_test = normalizer.transform(_X_test)\n",
    "        \n",
    "    decomposer_name = \"None\"\n",
    "    if comb[3]:\n",
    "        decomposer = comb[3]\n",
    "        decomposer = comb[3]\n",
    "        decomposer_name = decomposer.__name__\n",
    "        _X_train = decomposer(_X_train)\n",
    "        # _X_test = decomposer(_X_test)\n",
    "        \n",
    "    metadata = model_name + \"-\" + featurizer_name + \"-\" + normalizer_name + \"-\" + decomposer_name\n",
    "    \n",
    "    print(\"Cross-validate {}\".format(metadata))\n",
    "    score = cross_validate(model, _X_train, _y_train, folds=5)\n",
    "    res[metadata] = score\n",
    "    print(metadata, score)\n",
    "    print()"
   ]
  },
  {
   "cell_type": "code",
   "execution_count": 19,
   "metadata": {},
   "outputs": [],
   "source": [
    "analysis_df = pd.DataFrame()\n",
    "for k, v in res.items():\n",
    "    tmp_df = pd.DataFrame.from_dict(res[k])\n",
    "    tmp_df[\"meta\"] = k\n",
    "    \n",
    "    analysis_df = pd.concat([analysis_df, tmp_df])"
   ]
  },
  {
   "cell_type": "code",
   "execution_count": 20,
   "metadata": {},
   "outputs": [],
   "source": [
    "analysis_df[\"meta\"] = analysis_df[\"meta\"].map(lambda x: x.replace(\"-fn\", \"-TruncatedSVD\"))"
   ]
  },
  {
   "cell_type": "code",
   "execution_count": 21,
   "metadata": {},
   "outputs": [
    {
     "data": {
      "text/plain": [
       "(0.8, 0.95)"
      ]
     },
     "execution_count": 21,
     "metadata": {},
     "output_type": "execute_result"
    },
    {
     "data": {
      "image/png": "[encoded data removed]",
      "text/plain": [
       "<Figure size 720x504 with 1 Axes>"
      ]
     },
     "metadata": {},
     "output_type": "display_data"
    }
   ],
   "source": [
    "from matplotlib import pyplot\n",
    "import seaborn as sns\n",
    "\n",
    "sns.set(font_scale=1.5)\n",
    "a4_dims = (10, 7)\n",
    "fig, ax = pyplot.subplots(figsize=a4_dims)\n",
    "g = sns.boxplot(data=analysis_df, x=\"test_f1_micro\", y=\"meta\")\n",
    "g.set_xlim([0.8, 0.95])"
   ]
  },
  {
   "cell_type": "code",
   "execution_count": 22,
   "metadata": {},
   "outputs": [],
   "source": [
    "analysis_df.to_csv(\"all_scratch_performance.csv\", index=False)"
   ]
  },
  {
   "cell_type": "markdown",
   "metadata": {},
   "source": [
    "## Testing Performance with Testing Data"
   ]
  },
  {
   "cell_type": "code",
   "execution_count": 23,
   "metadata": {},
   "outputs": [
    {
     "name": "stderr",
     "output_type": "stream",
     "text": [
      "100%|██████████| 224981/224981 [01:22<00:00, 2740.11it/s]\n",
      "100%|██████████| 24997/24997 [00:08<00:00, 2905.02it/s]\n"
     ]
    },
    {
     "name": "stdout",
     "output_type": "stream",
     "text": [
      "precision_micro: 0.9284007645747053\n",
      "recall_micro: 0.9281789951429253\n",
      "f1_micro: 0.9282898666135776\n"
     ]
    }
   ],
   "source": [
    "label_enc = LabelEncoder()\n",
    "label_enc.fit(y_train)\n",
    "_X_train = build_tfidf_vector(X_train, vocabs)\n",
    "_y_train = label_enc.transform(y_train)\n",
    "_X_test = build_tfidf_vector(X_test, vocabs)\n",
    "_y_test = label_enc.transform(y_test)\n",
    "model = SoftmaxRegression(lr=0.5, epochs=500)\n",
    "model.fit(_X_train, _y_train)\n",
    "preds = model.predict(_X_test)\n",
    "\n",
    "metrics = [precision_micro, recall_micro, f1_micro]\n",
    "scores = []\n",
    "for metric in metrics:\n",
    "    name = metric.__name__\n",
    "    print(f\"{name}:\", metric(_y_test, preds))"
   ]
  },
  {
   "cell_type": "code",
   "execution_count": null,
   "metadata": {},
   "outputs": [],
   "source": []
  }
 ],
 "metadata": {
  "colab": {
   "name": "06-Model Experiments All from Scratch.ipynb",
   "provenance": [],
   "toc_visible": true
  },
  "kernelspec": {
   "display_name": "Python 3",
   "language": "python",
   "name": "python3"
  },
  "language_info": {
   "codemirror_mode": {
    "name": "ipython",
    "version": 3
   },
   "file_extension": ".py",
   "mimetype": "text/x-python",
   "name": "python",
   "nbconvert_exporter": "python",
   "pygments_lexer": "ipython3",
   "version": "3.8.5"
  }
 },
 "nbformat": 4,
 "nbformat_minor": 4
}
