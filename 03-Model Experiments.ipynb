{
 "cells": [
  {
   "cell_type": "code",
   "execution_count": 1,
   "metadata": {},
   "outputs": [],
   "source": [
    "import pandas as pd\n",
    "import seaborn as sns\n",
    "\n",
    "from nltk.corpus import stopwords\n",
    "from matplotlib import pyplot\n",
    "\n",
    "from sklearn.feature_extraction.text import CountVectorizer, TfidfVectorizer\n",
    "from sklearn.preprocessing import LabelBinarizer, LabelEncoder\n",
    "\n",
    "from sklearn.linear_model import LogisticRegression\n",
    "from sklearn.naive_bayes import MultinomialNB\n",
    "from sklearn.ensemble import RandomForestClassifier\n",
    "from sklearn.decomposition import PCA, TruncatedSVD\n",
    "from sklearn.metrics import f1_score, classification_report\n",
    "from sklearn.preprocessing import StandardScaler, Normalizer\n",
    "from sklearn.model_selection import train_test_split\n",
    "from sklearn.model_selection import cross_validate"
   ]
  },
  {
   "cell_type": "code",
   "execution_count": 2,
   "metadata": {},
   "outputs": [],
   "source": [
    "df = pd.read_csv(\"yelp_review_sentiment_2classes.tsv\", delimiter=\"\\t\")\n",
    "df = df.dropna()"
   ]
  },
  {
   "cell_type": "markdown",
   "metadata": {},
   "source": [
    "# Machine Learning Model Experiments with 4 Classes"
   ]
  },
  {
   "cell_type": "code",
   "execution_count": 6,
   "metadata": {
    "jupyter": {
     "source_hidden": true
    }
   },
   "outputs": [],
   "source": [
    "en_stopwords = stopwords.words('english') + [\"-pron-\", \"pron\"]\n",
    "\n",
    "cnt_vec = CountVectorizer(ngram_range=(1, 3), min_df=10, stop_words=en_stopwords)\n",
    "tfidf_vec = TfidfVectorizer(ngram_range=(1, 3), min_df=10, stop_words=en_stopwords)\n",
    "label_enc = LabelEncoder()\n",
    "label_bin = LabelBinarizer()\n",
    "normalizer = Normalizer()"
   ]
  },
  {
   "cell_type": "code",
   "execution_count": 7,
   "metadata": {
    "collapsed": true,
    "jupyter": {
     "outputs_hidden": true,
     "source_hidden": true
    }
   },
   "outputs": [
    {
     "name": "stderr",
     "output_type": "stream",
     "text": [
      "/Users/akurniawan/opt/miniconda3/envs/ics5110/lib/python3.8/site-packages/sklearn/feature_extraction/text.py:383: UserWarning: Your stop_words may be inconsistent with your preprocessing. Tokenizing the stop words generated tokens ['pron'] not in stop_words.\n",
      "  warnings.warn('Your stop_words may be inconsistent with '\n"
     ]
    },
    {
     "data": {
      "text/plain": [
       "((198000, 230884), (198000, 230884))"
      ]
     },
     "execution_count": 7,
     "metadata": {},
     "output_type": "execute_result"
    }
   ],
   "source": [
    "sample_data = df.sample(220000)\n",
    "train, test = train_test_split(sample_data, test_size=0.1, shuffle=True)\n",
    "\n",
    "cnt_vec.fit(train[\"text\"])\n",
    "tfidf_vec.fit(train[\"text\"])\n",
    "label_enc.fit(df[\"sentiment\"].unique())"
   ]
  },
  {
   "cell_type": "code",
   "execution_count": 56,
   "metadata": {
    "collapsed": true,
    "jupyter": {
     "outputs_hidden": true,
     "source_hidden": true
    }
   },
   "outputs": [
    {
     "name": "stdout",
     "output_type": "stream",
     "text": [
      "Prepare data to train..\n",
      "Cross-validate LogisticRegression-CountVectorizer-None\n",
      "LogisticRegression-CountVectorizer-None {'fit_time': array([2447.32094288, 2435.27109909, 2447.24594998, 2434.61051106,\n",
      "       2369.61255503]), 'score_time': array([0.204386  , 0.3321619 , 0.20633531, 0.47214317, 0.40806508]), 'test_f1_micro': array([0.65      , 0.64941919, 0.65234848, 0.65017677, 0.64891414]), 'train_f1_micro': array([0.99838384, 0.99828283, 0.99840909, 0.99835859, 0.99834596]), 'test_precision_micro': array([0.65      , 0.64941919, 0.65234848, 0.65017677, 0.64891414]), 'train_precision_micro': array([0.99838384, 0.99828283, 0.99840909, 0.99835859, 0.99834596]), 'test_recall_micro': array([0.65      , 0.64941919, 0.65234848, 0.65017677, 0.64891414]), 'train_recall_micro': array([0.99838384, 0.99828283, 0.99840909, 0.99835859, 0.99834596])}\n",
      "Prepare data to train..\n",
      "Cross-validate LogisticRegression-TfidfVectorizer-None\n",
      "LogisticRegression-TfidfVectorizer-None {'fit_time': array([423.11136198, 432.02383995, 400.60890007, 429.76350117,\n",
      "       427.4641242 ]), 'score_time': array([0.14662004, 0.07674217, 0.20067501, 0.09830999, 0.12761974]), 'test_f1_micro': array([0.68409091, 0.68441919, 0.6885101 , 0.68242424, 0.68515152]), 'train_f1_micro': array([0.83314394, 0.834375  , 0.83322601, 0.83315025, 0.83306818]), 'test_precision_micro': array([0.68409091, 0.68441919, 0.6885101 , 0.68242424, 0.68515152]), 'train_precision_micro': array([0.83314394, 0.834375  , 0.83322601, 0.83315025, 0.83306818]), 'test_recall_micro': array([0.68409091, 0.68441919, 0.6885101 , 0.68242424, 0.68515152]), 'train_recall_micro': array([0.83314394, 0.834375  , 0.83322601, 0.83315025, 0.83306818])}\n",
      "Prepare data to train..\n",
      "Cross-validate LogisticRegression-CountVectorizer-Normalizer\n",
      "LogisticRegression-CountVectorizer-Normalizer {'fit_time': array([528.87411618, 499.01473713, 510.59268117, 551.90089798,\n",
      "       524.45800805]), 'score_time': array([0.10629296, 0.19608498, 0.14710593, 0.06768632, 0.12864184]), 'test_f1_micro': array([0.68078283, 0.68174242, 0.6839899 , 0.67939394, 0.68121212]), 'train_f1_micro': array([0.75397096, 0.75424874, 0.75301768, 0.75418561, 0.75397096]), 'test_precision_micro': array([0.68078283, 0.68174242, 0.6839899 , 0.67939394, 0.68121212]), 'train_precision_micro': array([0.75397096, 0.75424874, 0.75301768, 0.75418561, 0.75397096]), 'test_recall_micro': array([0.68078283, 0.68174242, 0.6839899 , 0.67939394, 0.68121212]), 'train_recall_micro': array([0.75397096, 0.75424874, 0.75301768, 0.75418561, 0.75397096])}\n",
      "Prepare data to train..\n",
      "Cross-validate LogisticRegression-TfidfVectorizer-Normalizer\n",
      "LogisticRegression-TfidfVectorizer-Normalizer {'fit_time': array([417.51948023, 415.45464206, 430.5539372 , 424.23150778,\n",
      "       439.92411089]), 'score_time': array([0.1404798 , 0.18105793, 0.10616183, 0.11697721, 0.08378792]), 'test_f1_micro': array([0.68411616, 0.68426768, 0.6885101 , 0.68244949, 0.68510101]), 'train_f1_micro': array([0.8333649 , 0.83457702, 0.83332071, 0.8332197 , 0.83320076]), 'test_precision_micro': array([0.68411616, 0.68426768, 0.6885101 , 0.68244949, 0.68510101]), 'train_precision_micro': array([0.8333649 , 0.83457702, 0.83332071, 0.8332197 , 0.83320076]), 'test_recall_micro': array([0.68411616, 0.68426768, 0.6885101 , 0.68244949, 0.68510101]), 'train_recall_micro': array([0.8333649 , 0.83457702, 0.83332071, 0.8332197 , 0.83320076])}\n",
      "Prepare data to train..\n",
      "Cross-validate MultinomialNB-CountVectorizer-None\n",
      "MultinomialNB-CountVectorizer-None {'fit_time': array([0.80194879, 0.79458213, 0.76680398, 0.77655101, 0.76670408]), 'score_time': array([0.14892912, 0.17452502, 0.17317295, 0.16017795, 0.16872406]), 'test_f1_micro': array([0.63015152, 0.63005051, 0.62863636, 0.62631313, 0.63272727]), 'train_f1_micro': array([0.7135101 , 0.71373106, 0.71272727, 0.71248106, 0.71256944]), 'test_precision_micro': array([0.63015152, 0.63005051, 0.62863636, 0.62631313, 0.63272727]), 'train_precision_micro': array([0.7135101 , 0.71373106, 0.71272727, 0.71248106, 0.71256944]), 'test_recall_micro': array([0.63015152, 0.63005051, 0.62863636, 0.62631313, 0.63272727]), 'train_recall_micro': array([0.7135101 , 0.71373106, 0.71272727, 0.71248106, 0.71256944])}\n",
      "Prepare data to train..\n",
      "Cross-validate RandomForestClassifier-CountVectorizer-None\n",
      "RandomForestClassifier-CountVectorizer-None {'fit_time': array([5274.174649  , 5273.97677898, 5268.79587317, 5262.67987704,\n",
      "       5268.52152705]), 'score_time': array([26.89758086, 27.06985092, 20.78207517, 10.31403208, 20.926615  ]), 'test_f1_micro': array([0.6135101 , 0.61277778, 0.61409091, 0.61280303, 0.61671717]), 'train_f1_micro': array([0.99989899, 0.99988636, 0.99991162, 0.99991793, 0.99989268]), 'test_precision_micro': array([0.6135101 , 0.61277778, 0.61409091, 0.61280303, 0.61671717]), 'train_precision_micro': array([0.99989899, 0.99988636, 0.99991162, 0.99991793, 0.99989268]), 'test_recall_micro': array([0.6135101 , 0.61277778, 0.61409091, 0.61280303, 0.61671717]), 'train_recall_micro': array([0.99989899, 0.99988636, 0.99991162, 0.99991793, 0.99989268])}\n",
      "Prepare data to train..\n",
      "Cross-validate RandomForestClassifier-TfidfVectorizer-None\n",
      "RandomForestClassifier-TfidfVectorizer-None {'fit_time': array([4857.32646918, 4849.94711185, 4843.58540702, 4842.46209216,\n",
      "       4842.18226314]), 'score_time': array([14.76049399, 14.940696  , 14.58631873, 14.71790576, 14.19580388]), 'test_f1_micro': array([0.61169192, 0.61128788, 0.61015152, 0.60664141, 0.60772727]), 'train_f1_micro': array([0.99989899, 0.99988636, 0.99991162, 0.99991793, 0.99989268]), 'test_precision_micro': array([0.61169192, 0.61128788, 0.61015152, 0.60664141, 0.60772727]), 'train_precision_micro': array([0.99989899, 0.99988636, 0.99991162, 0.99991793, 0.99989268]), 'test_recall_micro': array([0.61169192, 0.61128788, 0.61015152, 0.60664141, 0.60772727]), 'train_recall_micro': array([0.99989899, 0.99988636, 0.99991162, 0.99991793, 0.99989268])}\n",
      "Prepare data to train..\n",
      "Cross-validate RandomForestClassifier-CountVectorizer-Normalizer\n",
      "RandomForestClassifier-CountVectorizer-Normalizer {'fit_time': array([4831.97311425, 4814.08076429, 4799.42218518, 4799.9808588 ,\n",
      "       4800.31488299]), 'score_time': array([20.53565788, 17.49214387, 13.12945008, 13.45480919, 13.38710093]), 'test_f1_micro': array([0.61022727, 0.61080808, 0.60909091, 0.60540404, 0.60921717]), 'train_f1_micro': array([0.99989899, 0.99988636, 0.99991162, 0.99991793, 0.99989268]), 'test_precision_micro': array([0.61022727, 0.61080808, 0.60909091, 0.60540404, 0.60921717]), 'train_precision_micro': array([0.99989899, 0.99988636, 0.99991162, 0.99991793, 0.99989268]), 'test_recall_micro': array([0.61022727, 0.61080808, 0.60909091, 0.60540404, 0.60921717]), 'train_recall_micro': array([0.99989899, 0.99988636, 0.99991162, 0.99991793, 0.99989268])}\n",
      "Prepare data to train..\n",
      "Cross-validate RandomForestClassifier-TfidfVectorizer-Normalizer\n",
      "RandomForestClassifier-TfidfVectorizer-Normalizer {'fit_time': array([4863.17444706, 4844.59765792, 4845.14817691, 4848.89596701,\n",
      "       4842.29199719]), 'score_time': array([21.38997984, 14.55444026, 14.60203695, 13.6011169 , 11.52279615]), 'test_f1_micro': array([0.61169192, 0.61128788, 0.61015152, 0.60664141, 0.60772727]), 'train_f1_micro': array([0.99989899, 0.99988636, 0.99991162, 0.99991793, 0.99989268]), 'test_precision_micro': array([0.61169192, 0.61128788, 0.61015152, 0.60664141, 0.60772727]), 'train_precision_micro': array([0.99989899, 0.99988636, 0.99991162, 0.99991793, 0.99989268]), 'test_recall_micro': array([0.61169192, 0.61128788, 0.61015152, 0.60664141, 0.60772727]), 'train_recall_micro': array([0.99989899, 0.99988636, 0.99991162, 0.99991793, 0.99989268])}\n"
     ]
    }
   ],
   "source": [
    "logistic = LogisticRegression(random_state=42, max_iter=100000)\n",
    "mnb = MultinomialNB()\n",
    "rf = RandomForestClassifier(n_jobs=-1, random_state=42)\n",
    "\n",
    "\n",
    "combinations = [\n",
    "    (logistic, cnt_vec, None),\n",
    "    (logistic, tfidf_vec, None),\n",
    "    (logistic, cnt_vec, normalizer),\n",
    "    (logistic, tfidf_vec, normalizer),\n",
    "    (mnb, cnt_vec, None),\n",
    "    (rf, cnt_vec, None),\n",
    "    (rf, tfidf_vec, None),\n",
    "    (rf, cnt_vec, normalizer),\n",
    "    (rf, tfidf_vec, normalizer),\n",
    "]\n",
    "\n",
    "res = {}\n",
    "for comb in combinations:\n",
    "    model = comb[0]\n",
    "    model_name = type(model).__name__\n",
    "    \n",
    "    print(\"Prepare data to train..\")\n",
    "    featurizer = comb[1]\n",
    "    featurizer_name = type(featurizer).__name__\n",
    "    X_train = featurizer.transform(train[\"text\"])\n",
    "    y_train = label_enc.transform(train[\"sentiment\"])\n",
    "    X_test = featurizer.transform(test[\"text\"])\n",
    "    y_test = label_enc.transform(test[\"sentiment\"])\n",
    "    \n",
    "    normalizer_name = \"None\"\n",
    "    if comb[2]:\n",
    "        normalizer = comb[2]\n",
    "        normalizer_name = type(normalizer).__name__\n",
    "        X_train = normalizer.fit_transform(X_train)\n",
    "        X_test = normalizer.transform(X_test)\n",
    "        \n",
    "    metadata = model_name + \"-\" + featurizer_name + \"-\" + normalizer_name\n",
    "    \n",
    "    print(\"Cross-validate {}\".format(metadata))\n",
    "    score = cross_validate(model, X_train, y_train,\n",
    "                           scoring=[\"f1_micro\", \"precision_micro\", \"recall_micro\"],\n",
    "                           cv=5, n_jobs=-1, return_train_score=True)\n",
    "    res[metadata] = score\n",
    "    print(metadata, score)"
   ]
  },
  {
   "cell_type": "code",
   "execution_count": 65,
   "metadata": {},
   "outputs": [],
   "source": [
    "import pickle\n",
    "pickle.dump(res, open(\"4class_result.pkl\", \"wb\"))"
   ]
  },
  {
   "cell_type": "markdown",
   "metadata": {},
   "source": [
    "# Machine Learning Model Experiments with 2 Classes"
   ]
  },
  {
   "cell_type": "code",
   "execution_count": 3,
   "metadata": {},
   "outputs": [],
   "source": [
    "en_stopwords = stopwords.words('english') + [\"-PRON-\", \"-pron-\", \"PRON\", \"pron\"]\n",
    "\n",
    "cnt_vec = CountVectorizer(ngram_range=(1, 3), min_df=10, stop_words=en_stopwords)\n",
    "tfidf_vec = TfidfVectorizer(ngram_range=(1, 3), min_df=10, stop_words=en_stopwords)\n",
    "label_enc = LabelEncoder()\n",
    "label_bin = LabelBinarizer()\n",
    "normalizer = Normalizer()\n",
    "pca_cnt = TruncatedSVD(300)\n",
    "pca_tfidf = TruncatedSVD(300)"
   ]
  },
  {
   "cell_type": "code",
   "execution_count": 4,
   "metadata": {},
   "outputs": [
    {
     "data": {
      "text/plain": [
       "TruncatedSVD(n_components=300)"
      ]
     },
     "execution_count": 4,
     "metadata": {},
     "output_type": "execute_result"
    }
   ],
   "source": [
    "train, test = train_test_split(df, test_size=0.1, shuffle=True, random_state=42)\n",
    "\n",
    "cnt_vec.fit(train[\"text\"])\n",
    "tfidf_vec.fit(train[\"text\"])\n",
    "label_enc.fit(df[\"sentiment\"].unique())\n",
    "\n",
    "pca_cnt.fit(cnt_vec.transform(train[\"text\"]))\n",
    "pca_tfidf.fit(tfidf_vec.transform(train[\"text\"]))"
   ]
  },
  {
   "cell_type": "code",
   "execution_count": 5,
   "metadata": {},
   "outputs": [
    {
     "name": "stdout",
     "output_type": "stream",
     "text": [
      "Prepare data to train..\n",
      "Cross-validate LogisticRegression-CountVectorizer-None-None\n",
      "LogisticRegression-CountVectorizer-None-None {'fit_time': array([ 99.09668183, 102.1154871 ,  98.83908725, 102.81194305,\n",
      "       102.26351881]), 'score_time': array([0.32912207, 0.20766377, 0.29225278, 0.17417121, 0.20286393]), 'test_f1_micro': array([0.92325985, 0.9245044 , 0.9232154 , 0.92510445, 0.92461552]), 'train_f1_micro': array([0.99738866, 0.99732754, 0.99736088, 0.99754978, 0.99755534]), 'test_precision_micro': array([0.92325985, 0.9245044 , 0.9232154 , 0.92510445, 0.92461552]), 'train_precision_micro': array([0.99738866, 0.99732754, 0.99736088, 0.99754978, 0.99755534]), 'test_recall_micro': array([0.92325985, 0.9245044 , 0.9232154 , 0.92510445, 0.92461552]), 'train_recall_micro': array([0.99738866, 0.99732754, 0.99736088, 0.99754978, 0.99755534])}\n",
      "\n",
      "Prepare data to train..\n",
      "Cross-validate LogisticRegression-TfidfVectorizer-None-None\n",
      "LogisticRegression-TfidfVectorizer-None-None {'fit_time': array([29.84667587, 32.5659821 , 28.49510407, 32.81581116, 31.32070804]), 'score_time': array([0.12490797, 0.07489014, 0.13244295, 0.06417298, 0.09032869]), 'test_f1_micro': array([0.92941595, 0.92621566, 0.9272602 , 0.9280825 , 0.92750467]), 'train_f1_micro': array([0.94726753, 0.94813428, 0.94798427, 0.94767313, 0.94770091]), 'test_precision_micro': array([0.92941595, 0.92621566, 0.9272602 , 0.9280825 , 0.92750467]), 'train_precision_micro': array([0.94726753, 0.94813428, 0.94798427, 0.94767313, 0.94770091]), 'test_recall_micro': array([0.92941595, 0.92621566, 0.9272602 , 0.9280825 , 0.92750467]), 'train_recall_micro': array([0.94726753, 0.94813428, 0.94798427, 0.94767313, 0.94770091])}\n",
      "\n",
      "Prepare data to train..\n",
      "Cross-validate LogisticRegression-CountVectorizer-Normalizer-None\n",
      "LogisticRegression-CountVectorizer-Normalizer-None {'fit_time': array([48.52074099, 45.95063901, 47.88865113, 50.7971139 , 50.3942709 ]), 'score_time': array([0.11716986, 0.15525699, 0.12026286, 0.07749915, 0.08422208]), 'test_f1_micro': array([0.92657125, 0.92405992, 0.92417104, 0.92641568, 0.92445995]), 'train_f1_micro': array([0.93654992, 0.93724998, 0.93714997, 0.93699996, 0.93688328]), 'test_precision_micro': array([0.92657125, 0.92405992, 0.92417104, 0.92641568, 0.92445995]), 'train_precision_micro': array([0.93654992, 0.93724998, 0.93714997, 0.93699996, 0.93688328]), 'test_recall_micro': array([0.92657125, 0.92405992, 0.92417104, 0.92641568, 0.92445995]), 'train_recall_micro': array([0.93654992, 0.93724998, 0.93714997, 0.93699996, 0.93688328])}\n",
      "\n",
      "Prepare data to train..\n",
      "Cross-validate LogisticRegression-TfidfVectorizer-Normalizer-None\n",
      "LogisticRegression-TfidfVectorizer-Normalizer-None {'fit_time': array([29.11768293, 33.36657095, 28.24108505, 29.34991002, 27.31600595]), 'score_time': array([0.09263587, 0.05827212, 0.11633706, 0.08978796, 0.13866329]), 'test_f1_micro': array([0.92941595, 0.92619344, 0.92728243, 0.92806027, 0.92748244]), 'train_f1_micro': array([0.94725642, 0.9481565 , 0.94798427, 0.94766201, 0.94772313]), 'test_precision_micro': array([0.92941595, 0.92619344, 0.92728243, 0.92806027, 0.92748244]), 'train_precision_micro': array([0.94725642, 0.9481565 , 0.94798427, 0.94766201, 0.94772313]), 'test_recall_micro': array([0.92941595, 0.92619344, 0.92728243, 0.92806027, 0.92748244]), 'train_recall_micro': array([0.94725642, 0.9481565 , 0.94798427, 0.94766201, 0.94772313])}\n",
      "\n",
      "Prepare data to train..\n",
      "Cross-validate LogisticRegression-CountVectorizer-None-TruncatedSVD\n",
      "LogisticRegression-CountVectorizer-None-TruncatedSVD {'fit_time': array([15.68449092, 14.22836185, 14.60657883, 13.68682384, 14.11711693]), 'score_time': array([0.08029699, 0.17299199, 0.16257   , 0.2062819 , 0.17585206]), 'test_f1_micro': array([0.89745755, 0.89321273, 0.89156814, 0.89421282, 0.89365721]), 'train_f1_micro': array([0.89405725, 0.89510734, 0.89531292, 0.89507956, 0.89486288]), 'test_precision_micro': array([0.89745755, 0.89321273, 0.89156814, 0.89421282, 0.89365721]), 'train_precision_micro': array([0.89405725, 0.89510734, 0.89531292, 0.89507956, 0.89486288]), 'test_recall_micro': array([0.89745755, 0.89321273, 0.89156814, 0.89421282, 0.89365721]), 'train_recall_micro': array([0.89405725, 0.89510734, 0.89531292, 0.89507956, 0.89486288])}\n",
      "\n",
      "Prepare data to train..\n",
      "Cross-validate LogisticRegression-TfidfVectorizer-None-TruncatedSVD\n",
      "LogisticRegression-TfidfVectorizer-None-TruncatedSVD {'fit_time': array([12.36505389, 12.03976703, 10.79853106,  8.82179475,  8.58151913]), 'score_time': array([0.09079695, 0.11052322, 0.10773301, 0.16003609, 0.15490079]), 'test_f1_micro': array([0.91012534, 0.90681394, 0.90648058, 0.90945862, 0.90808072]), 'train_f1_micro': array([0.90815295, 0.90915304, 0.90914192, 0.90836963, 0.90878078]), 'test_precision_micro': array([0.91012534, 0.90681394, 0.90648058, 0.90945862, 0.90808072]), 'train_precision_micro': array([0.90815295, 0.90915304, 0.90914192, 0.90836963, 0.90878078]), 'test_recall_micro': array([0.91012534, 0.90681394, 0.90648058, 0.90945862, 0.90808072]), 'train_recall_micro': array([0.90815295, 0.90915304, 0.90914192, 0.90836963, 0.90878078])}\n",
      "\n",
      "Prepare data to train..\n",
      "Cross-validate MultinomialNB-CountVectorizer-None-None\n",
      "MultinomialNB-CountVectorizer-None-None {'fit_time': array([0.55770802, 0.5380559 , 0.52018476, 0.54808497, 0.27867699]), 'score_time': array([0.1606369 , 0.165277  , 0.15705228, 0.14690304, 0.08182597]), 'test_f1_micro': array([0.88407858, 0.88127834, 0.88232287, 0.88367855, 0.88138946]), 'train_f1_micro': array([0.89579629, 0.89626856, 0.89739088, 0.89652969, 0.89687972]), 'test_precision_micro': array([0.88407858, 0.88127834, 0.88232287, 0.88367855, 0.88138946]), 'train_precision_micro': array([0.89579629, 0.89626856, 0.89739088, 0.89652969, 0.89687972]), 'test_recall_micro': array([0.88407858, 0.88127834, 0.88232287, 0.88367855, 0.88138946]), 'train_recall_micro': array([0.89579629, 0.89626856, 0.89739088, 0.89652969, 0.89687972])}\n",
      "\n",
      "Prepare data to train..\n",
      "Cross-validate RandomForestClassifier-CountVectorizer-None-None\n",
      "RandomForestClassifier-CountVectorizer-None-None {'fit_time': array([3764.09784293, 3764.43729711, 3769.77237701, 3783.10237312,\n",
      "       3770.2761972 ]), 'score_time': array([12.37499905, 12.13951182, 13.34043407, 19.72567391, 13.46750593]), 'test_f1_micro': array([0.90341364, 0.89987999, 0.90072451, 0.9030136 , 0.89927994]), 'train_f1_micro': array([0.99993888, 0.99992777, 0.99993888, 0.99993333, 0.99995   ]), 'test_precision_micro': array([0.90341364, 0.89987999, 0.90072451, 0.9030136 , 0.89927994]), 'train_precision_micro': array([0.99993888, 0.99992777, 0.99993888, 0.99993333, 0.99995   ]), 'test_recall_micro': array([0.90341364, 0.89987999, 0.90072451, 0.9030136 , 0.89927994]), 'train_recall_micro': array([0.99993888, 0.99992777, 0.99993888, 0.99993333, 0.99995   ])}\n",
      "\n",
      "Prepare data to train..\n",
      "Cross-validate RandomForestClassifier-TfidfVectorizer-None-None\n",
      "RandomForestClassifier-TfidfVectorizer-None-None {'fit_time': array([3310.22408509, 3301.97734189, 3311.64081383, 3299.65904903,\n",
      "       3310.04573178]), 'score_time': array([15.72688007,  8.05478811, 16.04689598,  8.71817327, 15.52011108]), 'test_f1_micro': array([0.90248022, 0.89912437, 0.89981332, 0.90081341, 0.89770202]), 'train_f1_micro': array([0.99993888, 0.99992222, 0.99993888, 0.99993333, 0.99995   ]), 'test_precision_micro': array([0.90248022, 0.89912437, 0.89981332, 0.90081341, 0.89770202]), 'train_precision_micro': array([0.99993888, 0.99992222, 0.99993888, 0.99993333, 0.99995   ]), 'test_recall_micro': array([0.90248022, 0.89912437, 0.89981332, 0.90081341, 0.89770202]), 'train_recall_micro': array([0.99993888, 0.99992222, 0.99993888, 0.99993333, 0.99995   ])}\n",
      "\n",
      "Prepare data to train..\n",
      "Cross-validate RandomForestClassifier-CountVectorizer-Normalizer-None\n",
      "RandomForestClassifier-CountVectorizer-Normalizer-None {'fit_time': array([3079.10887313, 3072.80680537, 3073.18199611, 3081.42010307,\n",
      "       3075.09163094]), 'score_time': array([14.23928213, 10.14576006, 10.81499195, 14.63109803, 12.95508695]), 'test_f1_micro': array([0.90188017, 0.89783536, 0.898791  , 0.90001333, 0.89790204]), 'train_f1_micro': array([0.99993888, 0.99992222, 0.99993888, 0.99993333, 0.99995   ]), 'test_precision_micro': array([0.90188017, 0.89783536, 0.898791  , 0.90001333, 0.89790204]), 'train_precision_micro': array([0.99993888, 0.99992222, 0.99993888, 0.99993333, 0.99995   ]), 'test_recall_micro': array([0.90188017, 0.89783536, 0.898791  , 0.90001333, 0.89790204]), 'train_recall_micro': array([0.99993888, 0.99992222, 0.99993888, 0.99993333, 0.99995   ])}\n",
      "\n",
      "Prepare data to train..\n",
      "Cross-validate RandomForestClassifier-TfidfVectorizer-Normalizer-None\n",
      "RandomForestClassifier-TfidfVectorizer-Normalizer-None {'fit_time': array([3127.98623204, 3119.53433394, 3133.17287612, 3116.75057673,\n",
      "       3129.50429082]), 'score_time': array([14.84103417,  7.47396708, 16.23877978,  8.11886501, 16.38717723]), 'test_f1_micro': array([0.90248022, 0.89912437, 0.89981332, 0.90081341, 0.89770202]), 'train_f1_micro': array([0.99993888, 0.99992222, 0.99993888, 0.99993333, 0.99995   ]), 'test_precision_micro': array([0.90248022, 0.89912437, 0.89981332, 0.90081341, 0.89770202]), 'train_precision_micro': array([0.99993888, 0.99992222, 0.99993888, 0.99993333, 0.99995   ]), 'test_recall_micro': array([0.90248022, 0.89912437, 0.89981332, 0.90081341, 0.89770202]), 'train_recall_micro': array([0.99993888, 0.99992222, 0.99993888, 0.99993333, 0.99995   ])}\n",
      "\n"
     ]
    }
   ],
   "source": [
    "logistic = LogisticRegression(random_state=42, max_iter=100000)\n",
    "mnb = MultinomialNB()\n",
    "rf = RandomForestClassifier(n_jobs=-1, random_state=42)\n",
    "\n",
    "\n",
    "combinations = [\n",
    "    (logistic, cnt_vec, None, None),\n",
    "    (logistic, tfidf_vec, None, None),\n",
    "    (logistic, cnt_vec, normalizer, None),\n",
    "    (logistic, tfidf_vec, normalizer, None),\n",
    "    (logistic, cnt_vec, None, pca_cnt),\n",
    "    (logistic, tfidf_vec, None, pca_tfidf),\n",
    "    (mnb, cnt_vec, None, None),\n",
    "    (rf, cnt_vec, None, None),\n",
    "    (rf, tfidf_vec, None, None),\n",
    "    (rf, cnt_vec, normalizer, None),\n",
    "    (rf, tfidf_vec, normalizer, None),\n",
    "]\n",
    "\n",
    "res2 = {}\n",
    "for comb in combinations:\n",
    "    model = comb[0]\n",
    "    model_name = type(model).__name__\n",
    "    \n",
    "    print(\"Prepare data to train..\")\n",
    "    featurizer = comb[1]\n",
    "    featurizer_name = type(featurizer).__name__\n",
    "    X_train = featurizer.transform(train[\"text\"])\n",
    "    y_train = label_enc.transform(train[\"sentiment\"])\n",
    "    X_test = featurizer.transform(test[\"text\"])\n",
    "    y_test = label_enc.transform(test[\"sentiment\"])\n",
    "    \n",
    "    normalizer_name = \"None\"\n",
    "    if comb[2]:\n",
    "        normalizer = comb[2]\n",
    "        normalizer_name = type(normalizer).__name__\n",
    "        X_train = normalizer.fit_transform(X_train)\n",
    "        X_test = normalizer.transform(X_test)\n",
    "        \n",
    "    decomposer_name = \"None\"\n",
    "    if comb[3]:\n",
    "        decomposer = comb[3]\n",
    "        decomposer = comb[3]\n",
    "        decomposer_name = type(decomposer).__name__\n",
    "        X_train = decomposer.transform(X_train)\n",
    "        X_test = decomposer.transform(X_test)\n",
    "        \n",
    "    metadata = model_name + \"-\" + featurizer_name + \"-\" + normalizer_name + \"-\" + decomposer_name\n",
    "    \n",
    "    print(\"Cross-validate {}\".format(metadata))\n",
    "    score = cross_validate(model, X_train, y_train,\n",
    "                           scoring=[\"f1_micro\", \"precision_micro\", \"recall_micro\"],\n",
    "                           cv=5, n_jobs=-1, return_train_score=True)\n",
    "    res2[metadata] = score\n",
    "    print(metadata, score)\n",
    "    print()"
   ]
  },
  {
   "cell_type": "code",
   "execution_count": 6,
   "metadata": {},
   "outputs": [],
   "source": [
    "analysis_df = pd.DataFrame()\n",
    "for k, v in res2.items():\n",
    "    tmp_df = pd.DataFrame.from_dict(res2[k])\n",
    "    tmp_df[\"meta\"] = k\n",
    "    \n",
    "    analysis_df = pd.concat([analysis_df, tmp_df])"
   ]
  },
  {
   "cell_type": "code",
   "execution_count": 7,
   "metadata": {},
   "outputs": [
    {
     "data": {
      "text/html": [
       "<div>\n",
       "<style scoped>\n",
       "    .dataframe tbody tr th:only-of-type {\n",
       "        vertical-align: middle;\n",
       "    }\n",
       "\n",
       "    .dataframe tbody tr th {\n",
       "        vertical-align: top;\n",
       "    }\n",
       "\n",
       "    .dataframe thead th {\n",
       "        text-align: right;\n",
       "    }\n",
       "</style>\n",
       "<table border=\"1\" class=\"dataframe\">\n",
       "  <thead>\n",
       "    <tr style=\"text-align: right;\">\n",
       "      <th></th>\n",
       "      <th>fit_time</th>\n",
       "      <th>score_time</th>\n",
       "      <th>test_f1_micro</th>\n",
       "      <th>train_f1_micro</th>\n",
       "      <th>test_precision_micro</th>\n",
       "      <th>train_precision_micro</th>\n",
       "      <th>test_recall_micro</th>\n",
       "      <th>train_recall_micro</th>\n",
       "      <th>meta</th>\n",
       "    </tr>\n",
       "  </thead>\n",
       "  <tbody>\n",
       "    <tr>\n",
       "      <th>0</th>\n",
       "      <td>99.096682</td>\n",
       "      <td>0.329122</td>\n",
       "      <td>0.923260</td>\n",
       "      <td>0.997389</td>\n",
       "      <td>0.923260</td>\n",
       "      <td>0.997389</td>\n",
       "      <td>0.923260</td>\n",
       "      <td>0.997389</td>\n",
       "      <td>LogisticRegression-CountVectorizer-None-None</td>\n",
       "    </tr>\n",
       "    <tr>\n",
       "      <th>1</th>\n",
       "      <td>102.115487</td>\n",
       "      <td>0.207664</td>\n",
       "      <td>0.924504</td>\n",
       "      <td>0.997328</td>\n",
       "      <td>0.924504</td>\n",
       "      <td>0.997328</td>\n",
       "      <td>0.924504</td>\n",
       "      <td>0.997328</td>\n",
       "      <td>LogisticRegression-CountVectorizer-None-None</td>\n",
       "    </tr>\n",
       "    <tr>\n",
       "      <th>2</th>\n",
       "      <td>98.839087</td>\n",
       "      <td>0.292253</td>\n",
       "      <td>0.923215</td>\n",
       "      <td>0.997361</td>\n",
       "      <td>0.923215</td>\n",
       "      <td>0.997361</td>\n",
       "      <td>0.923215</td>\n",
       "      <td>0.997361</td>\n",
       "      <td>LogisticRegression-CountVectorizer-None-None</td>\n",
       "    </tr>\n",
       "    <tr>\n",
       "      <th>3</th>\n",
       "      <td>102.811943</td>\n",
       "      <td>0.174171</td>\n",
       "      <td>0.925104</td>\n",
       "      <td>0.997550</td>\n",
       "      <td>0.925104</td>\n",
       "      <td>0.997550</td>\n",
       "      <td>0.925104</td>\n",
       "      <td>0.997550</td>\n",
       "      <td>LogisticRegression-CountVectorizer-None-None</td>\n",
       "    </tr>\n",
       "    <tr>\n",
       "      <th>4</th>\n",
       "      <td>102.263519</td>\n",
       "      <td>0.202864</td>\n",
       "      <td>0.924616</td>\n",
       "      <td>0.997555</td>\n",
       "      <td>0.924616</td>\n",
       "      <td>0.997555</td>\n",
       "      <td>0.924616</td>\n",
       "      <td>0.997555</td>\n",
       "      <td>LogisticRegression-CountVectorizer-None-None</td>\n",
       "    </tr>\n",
       "    <tr>\n",
       "      <th>0</th>\n",
       "      <td>29.846676</td>\n",
       "      <td>0.124908</td>\n",
       "      <td>0.929416</td>\n",
       "      <td>0.947268</td>\n",
       "      <td>0.929416</td>\n",
       "      <td>0.947268</td>\n",
       "      <td>0.929416</td>\n",
       "      <td>0.947268</td>\n",
       "      <td>LogisticRegression-TfidfVectorizer-None-None</td>\n",
       "    </tr>\n",
       "    <tr>\n",
       "      <th>1</th>\n",
       "      <td>32.565982</td>\n",
       "      <td>0.074890</td>\n",
       "      <td>0.926216</td>\n",
       "      <td>0.948134</td>\n",
       "      <td>0.926216</td>\n",
       "      <td>0.948134</td>\n",
       "      <td>0.926216</td>\n",
       "      <td>0.948134</td>\n",
       "      <td>LogisticRegression-TfidfVectorizer-None-None</td>\n",
       "    </tr>\n",
       "    <tr>\n",
       "      <th>2</th>\n",
       "      <td>28.495104</td>\n",
       "      <td>0.132443</td>\n",
       "      <td>0.927260</td>\n",
       "      <td>0.947984</td>\n",
       "      <td>0.927260</td>\n",
       "      <td>0.947984</td>\n",
       "      <td>0.927260</td>\n",
       "      <td>0.947984</td>\n",
       "      <td>LogisticRegression-TfidfVectorizer-None-None</td>\n",
       "    </tr>\n",
       "    <tr>\n",
       "      <th>3</th>\n",
       "      <td>32.815811</td>\n",
       "      <td>0.064173</td>\n",
       "      <td>0.928082</td>\n",
       "      <td>0.947673</td>\n",
       "      <td>0.928082</td>\n",
       "      <td>0.947673</td>\n",
       "      <td>0.928082</td>\n",
       "      <td>0.947673</td>\n",
       "      <td>LogisticRegression-TfidfVectorizer-None-None</td>\n",
       "    </tr>\n",
       "    <tr>\n",
       "      <th>4</th>\n",
       "      <td>31.320708</td>\n",
       "      <td>0.090329</td>\n",
       "      <td>0.927505</td>\n",
       "      <td>0.947701</td>\n",
       "      <td>0.927505</td>\n",
       "      <td>0.947701</td>\n",
       "      <td>0.927505</td>\n",
       "      <td>0.947701</td>\n",
       "      <td>LogisticRegression-TfidfVectorizer-None-None</td>\n",
       "    </tr>\n",
       "  </tbody>\n",
       "</table>\n",
       "</div>"
      ],
      "text/plain": [
       "     fit_time  score_time  test_f1_micro  train_f1_micro  \\\n",
       "0   99.096682    0.329122       0.923260        0.997389   \n",
       "1  102.115487    0.207664       0.924504        0.997328   \n",
       "2   98.839087    0.292253       0.923215        0.997361   \n",
       "3  102.811943    0.174171       0.925104        0.997550   \n",
       "4  102.263519    0.202864       0.924616        0.997555   \n",
       "0   29.846676    0.124908       0.929416        0.947268   \n",
       "1   32.565982    0.074890       0.926216        0.948134   \n",
       "2   28.495104    0.132443       0.927260        0.947984   \n",
       "3   32.815811    0.064173       0.928082        0.947673   \n",
       "4   31.320708    0.090329       0.927505        0.947701   \n",
       "\n",
       "   test_precision_micro  train_precision_micro  test_recall_micro  \\\n",
       "0              0.923260               0.997389           0.923260   \n",
       "1              0.924504               0.997328           0.924504   \n",
       "2              0.923215               0.997361           0.923215   \n",
       "3              0.925104               0.997550           0.925104   \n",
       "4              0.924616               0.997555           0.924616   \n",
       "0              0.929416               0.947268           0.929416   \n",
       "1              0.926216               0.948134           0.926216   \n",
       "2              0.927260               0.947984           0.927260   \n",
       "3              0.928082               0.947673           0.928082   \n",
       "4              0.927505               0.947701           0.927505   \n",
       "\n",
       "   train_recall_micro                                          meta  \n",
       "0            0.997389  LogisticRegression-CountVectorizer-None-None  \n",
       "1            0.997328  LogisticRegression-CountVectorizer-None-None  \n",
       "2            0.997361  LogisticRegression-CountVectorizer-None-None  \n",
       "3            0.997550  LogisticRegression-CountVectorizer-None-None  \n",
       "4            0.997555  LogisticRegression-CountVectorizer-None-None  \n",
       "0            0.947268  LogisticRegression-TfidfVectorizer-None-None  \n",
       "1            0.948134  LogisticRegression-TfidfVectorizer-None-None  \n",
       "2            0.947984  LogisticRegression-TfidfVectorizer-None-None  \n",
       "3            0.947673  LogisticRegression-TfidfVectorizer-None-None  \n",
       "4            0.947701  LogisticRegression-TfidfVectorizer-None-None  "
      ]
     },
     "execution_count": 7,
     "metadata": {},
     "output_type": "execute_result"
    }
   ],
   "source": [
    "analysis_df.head(10)"
   ]
  },
  {
   "cell_type": "code",
   "execution_count": 11,
   "metadata": {},
   "outputs": [
    {
     "data": {
      "text/plain": [
       "[Text(0, 0, 'LogisticRegression-CountVectorizer-None-None'),\n",
       " Text(1, 0, 'LogisticRegression-TfidfVectorizer-None-None'),\n",
       " Text(2, 0, 'LogisticRegression-CountVectorizer-Normalizer-None'),\n",
       " Text(3, 0, 'LogisticRegression-TfidfVectorizer-Normalizer-None'),\n",
       " Text(4, 0, 'LogisticRegression-CountVectorizer-None-TruncatedSVD'),\n",
       " Text(5, 0, 'LogisticRegression-TfidfVectorizer-None-TruncatedSVD'),\n",
       " Text(6, 0, 'MultinomialNB-CountVectorizer-None-None'),\n",
       " Text(7, 0, 'RandomForestClassifier-CountVectorizer-None-None'),\n",
       " Text(8, 0, 'RandomForestClassifier-TfidfVectorizer-None-None'),\n",
       " Text(9, 0, 'RandomForestClassifier-CountVectorizer-Normalizer-None'),\n",
       " Text(10, 0, 'RandomForestClassifier-TfidfVectorizer-Normalizer-None')]"
      ]
     },
     "execution_count": 11,
     "metadata": {},
     "output_type": "execute_result"
    },
    {
     "data": {
      "image/png": "[encoded data removed]",
      "text/plain": [
       "<Figure size 720x504 with 1 Axes>"
      ]
     },
     "metadata": {
      "needs_background": "light"
     },
     "output_type": "display_data"
    }
   ],
   "source": [
    "a4_dims = (10, 7)\n",
    "fig, ax = pyplot.subplots(figsize=a4_dims)\n",
    "g = sns.boxplot(data=analysis_df, x=\"meta\", y=\"test_f1_micro\")\n",
    "g.set_xticklabels(labels=g.get_xticklabels(), rotation=90)"
   ]
  },
  {
   "cell_type": "code",
   "execution_count": 14,
   "metadata": {},
   "outputs": [],
   "source": [
    "analysis_df.to_csv(\"sklearn_performance.csv\", index=False)"
   ]
  },
  {
   "cell_type": "code",
   "execution_count": null,
   "metadata": {},
   "outputs": [],
   "source": []
  }
 ],
 "metadata": {
  "kernelspec": {
   "display_name": "Python 3",
   "language": "python",
   "name": "python3"
  },
  "language_info": {
   "codemirror_mode": {
    "name": "ipython",
    "version": 3
   },
   "file_extension": ".py",
   "mimetype": "text/x-python",
   "name": "python",
   "nbconvert_exporter": "python",
   "pygments_lexer": "ipython3",
   "version": "3.8.5"
  }
 },
 "nbformat": 4,
 "nbformat_minor": 4
}
