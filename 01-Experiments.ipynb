{
  "nbformat": 4,
  "nbformat_minor": 0,
  "metadata": {
    "colab": {
      "name": "Untitled1.ipynb",
      "provenance": [],
      "include_colab_link": true
    },
    "kernelspec": {
      "name": "python3",
      "display_name": "Python 3.8.5 64-bit ('ics5110': conda)",
      "metadata": {
        "interpreter": {
          "hash": "a3d8fb96efc099e25dc4d6a873b44c7302ca5a21722eb7d7c39b09db89d1143d"
        }
      }
    }
  },
  "cells": [
    {
      "cell_type": "markdown",
      "metadata": {
        "id": "view-in-github",
        "colab_type": "text"
      },
      "source": [
        "<a href=\"https://colab.research.google.com/github/akurniawan/ICS5110-final/blob/main/01-Experiments.ipynb\" target=\"_parent\"><img src=\"https://colab.research.google.com/assets/colab-badge.svg\" alt=\"Open In Colab\"/></a>"
      ]
    },
    {
      "cell_type": "code",
      "metadata": {
        "id": "rFsZFmaf6qiR"
      },
      "source": [
        "import pandas as pd\n",
        "import re\n",
        "import math\n",
        "import nltk\n",
        "import numpy as np\n",
        "import spacy"
      ],
      "execution_count": 2,
      "outputs": []
    },
    {
      "cell_type": "code",
      "metadata": {
        "id": "wEn26zzsAZ81"
      },
      "source": [
        "review_df = pd.read_csv(\"/content/drive/MyDrive/Datasets/test.csv\", delimiter=\"\\t\")"
      ],
      "execution_count": 5,
      "outputs": []
    },
    {
      "cell_type": "code",
      "metadata": {
        "colab": {
          "base_uri": "https://localhost:8080/",
          "height": 206
        },
        "id": "VjXs0rahAZ81",
        "outputId": "2391f739-d6c0-41fc-e18b-406a1ee90467"
      },
      "source": [
        "review_df.head()"
      ],
      "execution_count": 6,
      "outputs": [
        {
          "output_type": "execute_result",
          "data": {
            "text/html": [
              "<div>\n",
              "<style scoped>\n",
              "    .dataframe tbody tr th:only-of-type {\n",
              "        vertical-align: middle;\n",
              "    }\n",
              "\n",
              "    .dataframe tbody tr th {\n",
              "        vertical-align: top;\n",
              "    }\n",
              "\n",
              "    .dataframe thead th {\n",
              "        text-align: right;\n",
              "    }\n",
              "</style>\n",
              "<table border=\"1\" class=\"dataframe\">\n",
              "  <thead>\n",
              "    <tr style=\"text-align: right;\">\n",
              "      <th></th>\n",
              "      <th>review_id</th>\n",
              "      <th>stars</th>\n",
              "      <th>useful</th>\n",
              "      <th>text</th>\n",
              "    </tr>\n",
              "  </thead>\n",
              "  <tbody>\n",
              "    <tr>\n",
              "      <th>0</th>\n",
              "      <td>xQY8N_XvtGbearJ5X4QryQ</td>\n",
              "      <td>2.0</td>\n",
              "      <td>5</td>\n",
              "      <td>As someone who has worked with many museums, I...</td>\n",
              "    </tr>\n",
              "    <tr>\n",
              "      <th>1</th>\n",
              "      <td>UmFMZ8PyXZTY2QcwzsfQYA</td>\n",
              "      <td>1.0</td>\n",
              "      <td>1</td>\n",
              "      <td>I am actually horrified this place is still in...</td>\n",
              "    </tr>\n",
              "    <tr>\n",
              "      <th>2</th>\n",
              "      <td>LG2ZaYiOgpr2DK_90pYjNw</td>\n",
              "      <td>5.0</td>\n",
              "      <td>1</td>\n",
              "      <td>I love Deagan's. I do. I really do. The atmosp...</td>\n",
              "    </tr>\n",
              "    <tr>\n",
              "      <th>3</th>\n",
              "      <td>i6g_oA9Yf9Y31qt0wibXpw</td>\n",
              "      <td>1.0</td>\n",
              "      <td>0</td>\n",
              "      <td>Dismal, lukewarm, defrosted-tasting \"TexMex\" g...</td>\n",
              "    </tr>\n",
              "    <tr>\n",
              "      <th>4</th>\n",
              "      <td>6TdNDKywdbjoTkizeMce8A</td>\n",
              "      <td>4.0</td>\n",
              "      <td>0</td>\n",
              "      <td>Oh happy day, finally have a Canes near my cas...</td>\n",
              "    </tr>\n",
              "  </tbody>\n",
              "</table>\n",
              "</div>"
            ],
            "text/plain": [
              "                review_id  ...                                               text\n",
              "0  xQY8N_XvtGbearJ5X4QryQ  ...  As someone who has worked with many museums, I...\n",
              "1  UmFMZ8PyXZTY2QcwzsfQYA  ...  I am actually horrified this place is still in...\n",
              "2  LG2ZaYiOgpr2DK_90pYjNw  ...  I love Deagan's. I do. I really do. The atmosp...\n",
              "3  i6g_oA9Yf9Y31qt0wibXpw  ...  Dismal, lukewarm, defrosted-tasting \"TexMex\" g...\n",
              "4  6TdNDKywdbjoTkizeMce8A  ...  Oh happy day, finally have a Canes near my cas...\n",
              "\n",
              "[5 rows x 4 columns]"
            ]
          },
          "metadata": {
            "tags": []
          },
          "execution_count": 6
        }
      ]
    },
    {
      "cell_type": "code",
      "metadata": {
        "colab": {
          "base_uri": "https://localhost:8080/"
        },
        "id": "49AiKNTpAZ82",
        "outputId": "5539d6e3-bc57-4a96-ddb4-79fcb4d40ce2"
      },
      "source": [
        "review_df.count()"
      ],
      "execution_count": 7,
      "outputs": [
        {
          "output_type": "execute_result",
          "data": {
            "text/plain": [
              "review_id    8021122\n",
              "stars        8021122\n",
              "useful       8021122\n",
              "text         8021120\n",
              "dtype: int64"
            ]
          },
          "metadata": {
            "tags": []
          },
          "execution_count": 7
        }
      ]
    },
    {
      "cell_type": "code",
      "metadata": {
        "id": "BInvWguiAZ82"
      },
      "source": [
        "nlp = spacy.load(\"en\")\n",
        "\n",
        "def lemmatize(text):\n",
        "    doc = nlp(text)\n",
        "    lem = []\n",
        "    for token in doc:\n",
        "      lem.append(token.lemma_)\n",
        "    return \" \".join(lem)\n",
        "\n",
        "def remove_special_characters(text):\n",
        "    pattern = r'[^a-zA-z0-9\\s]'\n",
        "    text = re.sub(pattern, '', text)\n",
        "    return text\n",
        "\n",
        "def preprocessing(text):\n",
        "    text = str(text).strip().lower()\n",
        "    text = remove_special_characters(text)\n",
        "    text = lemmatize(text)\n",
        "    return text\n",
        "\n",
        "#Apply function on review column\n",
        "review_df[\"text\"] = review_df[\"text\"].apply(preprocessing)\n",
        "review_df[\"unigram\"] = review_df[\"text\"].apply(lambda x: x.split(\" \"))"
      ],
      "execution_count": null,
      "outputs": []
    },
    {
      "cell_type": "code",
      "metadata": {
        "id": "B1l2xL6bAZ82"
      },
      "source": [
        "review_df.head()"
      ],
      "execution_count": null,
      "outputs": []
    },
    {
      "cell_type": "code",
      "metadata": {
        "id": "JuvCNbEDAZ82"
      },
      "source": [
        ""
      ],
      "execution_count": null,
      "outputs": []
    }
  ]
}