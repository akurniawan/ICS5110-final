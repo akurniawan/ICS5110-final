{
  "nbformat": 4,
  "nbformat_minor": 0,
  "metadata": {
    "colab": {
      "name": "Untitled1.ipynb",
      "provenance": [],
      "include_colab_link": true
    },
    "kernelspec": {
      "name": "python3",
      "display_name": "Python 3.8.5 64-bit ('ics5110': conda)",
      "metadata": {
        "interpreter": {
          "hash": "a3d8fb96efc099e25dc4d6a873b44c7302ca5a21722eb7d7c39b09db89d1143d"
        }
      }
    }
  },
  "cells": [
    {
      "cell_type": "markdown",
      "metadata": {
        "id": "view-in-github",
        "colab_type": "text"
      },
      "source": [
        "<a href=\"https://colab.research.google.com/github/akurniawan/ICS5110-final/blob/main/01-Experiments.ipynb\" target=\"_parent\"><img src=\"https://colab.research.google.com/assets/colab-badge.svg\" alt=\"Open In Colab\"/></a>"
      ]
    },
    {
      "cell_type": "code",
      "metadata": {
        "id": "rFsZFmaf6qiR"
      },
      "source": [
        "import pandas as pd\n",
        "import re\n",
        "import math\n",
        "import nltk\n",
        "import numpy as np\n",
        "import spacy"
      ],
      "execution_count": null,
      "outputs": []
    },
    {
      "cell_type": "code",
      "metadata": {
        "id": "MR6H4Q4JAw_0",
        "outputId": "961d8d8b-d291-4cec-ed55-aed974d2ad20",
        "colab": {
          "base_uri": "https://localhost:8080/"
        }
      },
      "source": [
        "from google.colab import drive\n",
        "drive.mount('/content/drive')"
      ],
      "execution_count": 1,
      "outputs": [
        {
          "output_type": "stream",
          "text": [
            "Mounted at /content/drive\n"
          ],
          "name": "stdout"
        }
      ]
    },
    {
      "cell_type": "code",
      "metadata": {
        "id": "wEn26zzsAZ81"
      },
      "source": [
        "review_df = pd.read_csv(\"test.csv\", delimiter=\"\\t\")"
      ],
      "execution_count": null,
      "outputs": []
    },
    {
      "cell_type": "code",
      "metadata": {
        "id": "VjXs0rahAZ81",
        "outputId": "8f6a6270-70da-483e-9fb9-d74e3bd6e312"
      },
      "source": [
        "review_df.head()"
      ],
      "execution_count": null,
      "outputs": [
        {
          "output_type": "execute_result",
          "data": {
            "text/plain": [
              "                review_id  stars  useful  \\\n",
              "0  xQY8N_XvtGbearJ5X4QryQ    2.0       5   \n",
              "1  UmFMZ8PyXZTY2QcwzsfQYA    1.0       1   \n",
              "2  LG2ZaYiOgpr2DK_90pYjNw    5.0       1   \n",
              "3  i6g_oA9Yf9Y31qt0wibXpw    1.0       0   \n",
              "4  6TdNDKywdbjoTkizeMce8A    4.0       0   \n",
              "\n",
              "                                                text  \n",
              "0  As someone who has worked with many museums, I...  \n",
              "1  I am actually horrified this place is still in...  \n",
              "2  I love Deagan's. I do. I really do. The atmosp...  \n",
              "3  Dismal, lukewarm, defrosted-tasting \"TexMex\" g...  \n",
              "4  Oh happy day, finally have a Canes near my cas...  "
            ],
            "text/html": [
              "<div>\n",
              "<style scoped>\n",
              "    .dataframe tbody tr th:only-of-type {\n",
              "        vertical-align: middle;\n",
              "    }\n",
              "\n",
              "    .dataframe tbody tr th {\n",
              "        vertical-align: top;\n",
              "    }\n",
              "\n",
              "    .dataframe thead th {\n",
              "        text-align: right;\n",
              "    }\n",
              "</style>\n",
              "<table border=\"1\" class=\"dataframe\">\n",
              "  <thead>\n",
              "    <tr style=\"text-align: right;\">\n",
              "      <th></th>\n",
              "      <th>review_id</th>\n",
              "      <th>stars</th>\n",
              "      <th>useful</th>\n",
              "      <th>text</th>\n",
              "    </tr>\n",
              "  </thead>\n",
              "  <tbody>\n",
              "    <tr>\n",
              "      <th>0</th>\n",
              "      <td>xQY8N_XvtGbearJ5X4QryQ</td>\n",
              "      <td>2.0</td>\n",
              "      <td>5</td>\n",
              "      <td>As someone who has worked with many museums, I...</td>\n",
              "    </tr>\n",
              "    <tr>\n",
              "      <th>1</th>\n",
              "      <td>UmFMZ8PyXZTY2QcwzsfQYA</td>\n",
              "      <td>1.0</td>\n",
              "      <td>1</td>\n",
              "      <td>I am actually horrified this place is still in...</td>\n",
              "    </tr>\n",
              "    <tr>\n",
              "      <th>2</th>\n",
              "      <td>LG2ZaYiOgpr2DK_90pYjNw</td>\n",
              "      <td>5.0</td>\n",
              "      <td>1</td>\n",
              "      <td>I love Deagan's. I do. I really do. The atmosp...</td>\n",
              "    </tr>\n",
              "    <tr>\n",
              "      <th>3</th>\n",
              "      <td>i6g_oA9Yf9Y31qt0wibXpw</td>\n",
              "      <td>1.0</td>\n",
              "      <td>0</td>\n",
              "      <td>Dismal, lukewarm, defrosted-tasting \"TexMex\" g...</td>\n",
              "    </tr>\n",
              "    <tr>\n",
              "      <th>4</th>\n",
              "      <td>6TdNDKywdbjoTkizeMce8A</td>\n",
              "      <td>4.0</td>\n",
              "      <td>0</td>\n",
              "      <td>Oh happy day, finally have a Canes near my cas...</td>\n",
              "    </tr>\n",
              "  </tbody>\n",
              "</table>\n",
              "</div>"
            ]
          },
          "metadata": {
            "tags": []
          },
          "execution_count": 6
        }
      ]
    },
    {
      "cell_type": "code",
      "metadata": {
        "id": "49AiKNTpAZ82",
        "outputId": "81da719e-9c3d-43ad-821e-c82be5af836a"
      },
      "source": [
        "review_df.count()"
      ],
      "execution_count": null,
      "outputs": [
        {
          "output_type": "execute_result",
          "data": {
            "text/plain": [
              "review_id    8021122\n",
              "stars        8021122\n",
              "useful       8021122\n",
              "text         8021120\n",
              "dtype: int64"
            ]
          },
          "metadata": {
            "tags": []
          },
          "execution_count": 7
        }
      ]
    },
    {
      "cell_type": "code",
      "metadata": {
        "id": "BInvWguiAZ82",
        "outputId": "297b00a2-904d-4f90-c4d3-8b687fc110f8"
      },
      "source": [
        "nlp = spacy.load(\"en\")\n",
        "\n",
        "def lemmatize(text):\n",
        "    doc = nlp(text)\n",
        "    lem = []\n",
        "    for token in doc:\n",
        "      lem.append(token.lemma_)\n",
        "    return \" \".join(lem)\n",
        "\n",
        "def remove_special_characters(text):\n",
        "    pattern = r'[^a-zA-z0-9\\s]'\n",
        "    text = re.sub(pattern, '', text)\n",
        "    return text\n",
        "\n",
        "def preprocessing(text):\n",
        "    text = str(text).strip().lower()\n",
        "    text = remove_special_characters(text)\n",
        "    text = lemmatize(text)\n",
        "    return text\n",
        "\n",
        "#Apply function on review column\n",
        "review_df[\"text\"] = review_df[\"text\"].apply(preprocessing)\n",
        "review_df[\"unigram\"] = review_df[\"text\"].apply(lambda x: x.split(\" \"))"
      ],
      "execution_count": null,
      "outputs": [
        {
          "output_type": "error",
          "ename": "NameError",
          "evalue": "name 'df' is not defined",
          "traceback": [
            "\u001b[0;31m---------------------------------------------------------------------------\u001b[0m",
            "\u001b[0;31mNameError\u001b[0m                                 Traceback (most recent call last)",
            "\u001b[0;32m<ipython-input-12-35a5abeef58c>\u001b[0m in \u001b[0;36m<module>\u001b[0;34m\u001b[0m\n\u001b[1;32m      7\u001b[0m \u001b[0;31m#Apply function on review column\u001b[0m\u001b[0;34m\u001b[0m\u001b[0;34m\u001b[0m\u001b[0;34m\u001b[0m\u001b[0m\n\u001b[1;32m      8\u001b[0m \u001b[0mreview_df\u001b[0m\u001b[0;34m[\u001b[0m\u001b[0;34m'text'\u001b[0m\u001b[0;34m]\u001b[0m \u001b[0;34m=\u001b[0m \u001b[0mreview_df\u001b[0m\u001b[0;34m[\u001b[0m\u001b[0;34m'text'\u001b[0m\u001b[0;34m]\u001b[0m\u001b[0;34m.\u001b[0m\u001b[0mapply\u001b[0m\u001b[0;34m(\u001b[0m\u001b[0mremove_special_characters\u001b[0m\u001b[0;34m)\u001b[0m\u001b[0;34m\u001b[0m\u001b[0;34m\u001b[0m\u001b[0m\n\u001b[0;32m----> 9\u001b[0;31m \u001b[0mreview_df\u001b[0m\u001b[0;34m[\u001b[0m\u001b[0;34m'split'\u001b[0m\u001b[0;34m]\u001b[0m \u001b[0;34m=\u001b[0m \u001b[0mdf\u001b[0m\u001b[0;34m[\u001b[0m\u001b[0;34m'text'\u001b[0m\u001b[0;34m]\u001b[0m\u001b[0;34m.\u001b[0m\u001b[0mapply\u001b[0m\u001b[0;34m(\u001b[0m\u001b[0;32mlambda\u001b[0m \u001b[0mx\u001b[0m\u001b[0;34m:\u001b[0m \u001b[0mx\u001b[0m\u001b[0;34m.\u001b[0m\u001b[0msplit\u001b[0m\u001b[0;34m(\u001b[0m\u001b[0;34m\" \"\u001b[0m\u001b[0;34m)\u001b[0m\u001b[0;34m)\u001b[0m\u001b[0;34m\u001b[0m\u001b[0;34m\u001b[0m\u001b[0m\n\u001b[0m",
            "\u001b[0;31mNameError\u001b[0m: name 'df' is not defined"
          ]
        }
      ]
    },
    {
      "cell_type": "code",
      "metadata": {
        "id": "B1l2xL6bAZ82"
      },
      "source": [
        "review_df.head()"
      ],
      "execution_count": null,
      "outputs": []
    },
    {
      "cell_type": "code",
      "metadata": {
        "id": "JuvCNbEDAZ82"
      },
      "source": [
        ""
      ],
      "execution_count": null,
      "outputs": []
    }
  ]
}