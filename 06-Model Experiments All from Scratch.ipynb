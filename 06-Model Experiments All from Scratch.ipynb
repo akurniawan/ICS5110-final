{
 "metadata": {
  "language_info": {
   "codemirror_mode": {
    "name": "ipython",
    "version": 3
   },
   "file_extension": ".py",
   "mimetype": "text/x-python",
   "name": "python",
   "nbconvert_exporter": "python",
   "pygments_lexer": "ipython3",
   "version": "3.8.5-final"
  },
  "orig_nbformat": 2,
  "kernelspec": {
   "name": "python3",
   "display_name": "Python 3.8.5 64-bit ('ics5110': conda)",
   "metadata": {
    "interpreter": {
     "hash": "a3d8fb96efc099e25dc4d6a873b44c7302ca5a21722eb7d7c39b09db89d1143d"
    }
   }
  }
 },
 "nbformat": 4,
 "nbformat_minor": 2,
 "cells": [
  {
   "cell_type": "code",
   "execution_count": 1,
   "metadata": {},
   "outputs": [],
   "source": [
    "import re\n",
    "import pandas as pd\n",
    "import numpy as np\n",
    "import time\n",
    "\n",
    "from collections import defaultdict\n",
    "from nltk.corpus import stopwords\n",
    "from tqdm import tqdm\n",
    "from scipy.sparse import csr_matrix, diags\n",
    "from scipy.special import logsumexp"
   ]
  },
  {
   "cell_type": "code",
   "execution_count": 2,
   "metadata": {},
   "outputs": [],
   "source": [
    "# Using default token pattern from sklearn\n",
    "token_pattern = re.compile(r\"(?u)\\b\\w\\w+\\b\")\n",
    "ngram_range = (1, 3)\n",
    "min_freq = 10"
   ]
  },
  {
   "cell_type": "code",
   "execution_count": 3,
   "metadata": {},
   "outputs": [],
   "source": [
    "df = pd.read_csv(\"yelp_review_sentiment_2classes.tsv\", delimiter=\"\\t\")\n",
    "df = df.dropna()"
   ]
  },
  {
   "source": [
    "## train_test_split Implementation"
   ],
   "cell_type": "markdown",
   "metadata": {}
  },
  {
   "cell_type": "code",
   "execution_count": 4,
   "metadata": {},
   "outputs": [],
   "source": [
    "def split_data(X, y, test_size=0.1):\n",
    "    total_data = len(X)\n",
    "    total_test = int(total_data * test_size)\n",
    "    sample_idx = np.arange(total_data)\n",
    "    np.random.shuffle(sample_idx)\n",
    "\n",
    "    X_train = X.iloc[sample_idx[total_test:]]\n",
    "    y_train = y.iloc[sample_idx[total_test:]]\n",
    "\n",
    "    X_test = X.iloc[sample_idx[:total_test]]\n",
    "    y_test = y.iloc[sample_idx[:total_test]]\n",
    "    return (X_train, y_train), (X_test, y_test)"
   ]
  },
  {
   "cell_type": "code",
   "execution_count": 5,
   "metadata": {},
   "outputs": [],
   "source": [
    "(X_train, y_train), (X_test, y_test) = split_data(df[\"text\"], df[\"sentiment\"])"
   ]
  },
  {
   "cell_type": "code",
   "execution_count": 6,
   "metadata": {},
   "outputs": [
    {
     "output_type": "execute_result",
     "data": {
      "text/plain": [
       "((224981,), (24997,))"
      ]
     },
     "metadata": {},
     "execution_count": 6
    }
   ],
   "source": [
    "X_train.shape, X_test.shape"
   ]
  },
  {
   "source": [
    "## CountVectorizer Implementation\n",
    "\n",
    "Something weird happen with sklearn's CountVectorizer\n",
    "\n",
    "Result from CountVectorizer. \n",
    "'beer', 'beer copyright', 'burger', 'copyright'  \n",
    "6 4 5 5  \n",
    "\n",
    "The correct one should be  \n",
    "'beer', 'pizza', 'beer copyright', 'burger', 'copyright'  \n",
    "6 4 4 5 5  \n",
    "Pizza is missing from the transformation"
   ],
   "cell_type": "markdown",
   "metadata": {}
  },
  {
   "cell_type": "code",
   "execution_count": 7,
   "metadata": {},
   "outputs": [],
   "source": [
    "en_stopwords = stopwords.words('english') + [\"-PRON-\", \"-pron-\", \"PRON\", \"pron\"]\n",
    "\n",
    "def preprocessing(text, ngram_range):\n",
    "    tokens = token_pattern.findall(text)\n",
    "    tokens = list(filter(lambda x: x not in en_stopwords, tokens))\n",
    "    tokens = build_ngrams(tokens, ngram_range)\n",
    "    return tokens\n",
    "\n",
    "\n",
    "def build_ngrams(text, ngram_range):\n",
    "    vocabs = []\n",
    "    join_space = \" \".join\n",
    "    for i in range(ngram_range[0], ngram_range[1] + 1):\n",
    "        for j in range(len(text)):\n",
    "            if j + i <= len(text):\n",
    "                vocabs.append(join_space(text[j:j+i]))\n",
    "    return vocabs\n",
    "\n",
    "\n",
    "def build_vocab(doc, ngram_range, min_freq):\n",
    "    vocabs = {}\n",
    "    vocab_counts = defaultdict(int)\n",
    "    for text in tqdm(doc):\n",
    "        tokens = preprocessing(text, ngram_range)\n",
    "        for word in tokens:\n",
    "            vocab_counts[word] += 1\n",
    "\n",
    "    vocab_counts = dict(filter(lambda x: x[1] >= min_freq, vocab_counts.items()))\n",
    "    for idx, key in enumerate(vocab_counts.keys()):\n",
    "        vocabs[key] = idx\n",
    "    return vocabs, vocab_counts\n",
    "\n",
    "\n",
    "def build_count_vector(doc, vocabs):\n",
    "    data = []\n",
    "    indices = []\n",
    "    indptr = [0]\n",
    "    for text in tqdm(doc):\n",
    "        tokens = preprocessing(text, ngram_range)\n",
    "        feature_counts = defaultdict(int)\n",
    "        for word in tokens:\n",
    "            if word in vocabs:\n",
    "                feature_counts[vocabs[word]] += 1\n",
    "        data.extend(feature_counts.values())\n",
    "        indices.extend(feature_counts.keys())\n",
    "        indptr.append(len(data))\n",
    "    \n",
    "    return csr_matrix((data, indices, indptr), shape=(len(doc), len(vocabs)), dtype=float)"
   ]
  },
  {
   "cell_type": "code",
   "execution_count": 8,
   "metadata": {},
   "outputs": [
    {
     "output_type": "stream",
     "name": "stderr",
     "text": [
      "100%|██████████| 224981/224981 [02:33<00:00, 1470.24it/s]\n"
     ]
    }
   ],
   "source": [
    "vocabs, vocab_counts = build_vocab(X_train, ngram_range, min_freq)"
   ]
  },
  {
   "source": [
    "## TfIdfVectorizer Implementation"
   ],
   "cell_type": "markdown",
   "metadata": {}
  },
  {
   "cell_type": "code",
   "execution_count": 9,
   "metadata": {},
   "outputs": [],
   "source": [
    "def build_tfidf_vector(doc, vocabs):\n",
    "    term_vectors = build_count_vector(doc, vocabs)\n",
    "    document_vectors = np.bincount(term_vectors.indices, minlength=term_vectors.shape[1])\n",
    "    # Add smoothing for both numerator and denumerator to prevent division by 0 or having 0\n",
    "    # as the result\n",
    "    idf = (term_vectors.shape[0] + 1) / (document_vectors + 1)\n",
    "    idf = np.log(idf)\n",
    "    # The default action for csr_matrix multiplied by numpy vector is dot product, therefore\n",
    "    # we need to create a diagonal matrix first to simulate element by element multiplication\n",
    "    # without blowing up the memory\n",
    "    diag_idf = diags(idf, offsets=0, format=\"csr\")\n",
    "    return term_vectors * diag_idf"
   ]
  },
  {
   "source": [
    "## Normalizer Implementation"
   ],
   "cell_type": "markdown",
   "metadata": {}
  },
  {
   "cell_type": "code",
   "execution_count": 10,
   "metadata": {},
   "outputs": [],
   "source": [
    "def normalize(X):\n",
    "    new_data = []\n",
    "    for x in X:\n",
    "        square_sum = 0\n",
    "        for i in x.data:\n",
    "            square_sum += i * i\n",
    "        norm = np.sqrt(square_sum)\n",
    "        new_data.extend((x.data / norm).tolist())\n",
    "    new_mat = csr_matrix((np.array(new_data), X.indices, X.indptr), dtype=np.float64)\n",
    "    return new_mat"
   ]
  },
  {
   "source": [
    "## Cross validation"
   ],
   "cell_type": "markdown",
   "metadata": {}
  },
  {
   "cell_type": "code",
   "execution_count": 11,
   "metadata": {},
   "outputs": [],
   "source": [
    "def save_division(a, b):\n",
    "    if b == 0:\n",
    "        return 0.\n",
    "    return a / b\n",
    "\n",
    "\n",
    "def confusion_matrix(true, pred):\n",
    "    tp = 0\n",
    "    fp = 0\n",
    "    tn = 0\n",
    "    fn = 0\n",
    "    for y, y_hat in zip(true, pred):\n",
    "        if y == 1 and y_hat == 1:\n",
    "            tp += 1\n",
    "        elif y == 0 and y_hat == 1:\n",
    "            fp += 1\n",
    "        elif y == 1 and y_hat == 0:\n",
    "            fn += 1\n",
    "        elif y == 0 and y_hat == 0:\n",
    "            tn += 1\n",
    "    return tp, fp, tn, fn\n",
    "\n",
    "\n",
    "def precision_micro(true, pred):\n",
    "    tp, fp, tn, fn = confusion_matrix(true, pred)\n",
    "    return save_division(tp, (tp + fp))\n",
    "\n",
    "\n",
    "def recall_micro(true, pred):\n",
    "    tp, fp, tn, fn = confusion_matrix(true, pred)\n",
    "    return save_division(tp, (tp + fn))\n",
    "\n",
    "\n",
    "def f1_micro(true, pred):\n",
    "    precision = precision_micro(true, pred)\n",
    "    recall = recall_micro(true, pred)\n",
    "    return save_division((2 * precision * recall), (precision + recall))\n"
   ]
  },
  {
   "cell_type": "code",
   "execution_count": 39,
   "metadata": {},
   "outputs": [],
   "source": [
    "from joblib import delayed, Parallel\n",
    "from scipy.sparse import vstack\n",
    "\n",
    "\n",
    "def cross_validate(model, X, y, folds=5):\n",
    "    fold_size = int(X.shape[0] / folds)\n",
    "    fold_ranges = [(i, i + fold_size) for i in range(0, X.shape[0], fold_size)]\n",
    "    scores = {\n",
    "        \"fit_time\": [],\n",
    "        \"score_time\": [],\n",
    "        \"test_f1_micro\": [],\n",
    "        \"train_f1_micro\": [],\n",
    "        \"test_precision_micro\": [],\n",
    "        \"train_precision_micro\": [],\n",
    "        \"test_recall_micro\": [],\n",
    "        \"train_recall_micro\": []\n",
    "    }\n",
    "\n",
    "    def _fit(start, end):\n",
    "        # Need to use vstack to deal with sparse matrix\n",
    "        X_train = vstack([X[0:start], X[end:]])\n",
    "        y_train = np.concatenate([y[0:start], y[end:]])\n",
    "\n",
    "        X_test = X[start:end]\n",
    "        y_test = y[start:end]\n",
    "\n",
    "        start_time = time.time()\n",
    "        model.fit(X_train, y_train)\n",
    "        fit_time = time.time() - start_time\n",
    "\n",
    "        start_time = time.time()\n",
    "        preds_train = model.predict(X_train)\n",
    "        preds_test = model.predict(X_test)\n",
    "        score_time = time.time() - start_time\n",
    "\n",
    "        metrics = [precision_micro, recall_micro, f1_micro]\n",
    "        scores = []\n",
    "        for metric in metrics:\n",
    "            name = metric.__name__\n",
    "            scores.append({\n",
    "                f\"train_{name}\": metric(y_train, preds_train),\n",
    "                f\"test_{name}\": metric(y_test, preds_test)})\n",
    "        return fit_time, score_time, scores\n",
    "\n",
    "    # for start, end in fold_ranges:\n",
    "    #     score = _fit(start, end)\n",
    "    #     print(score)\n",
    "    fit_results = Parallel(n_jobs=-1)(delayed(_fit)(start, end) for start, end in fold_ranges)\n",
    "    \n",
    "    for res in fit_results:\n",
    "        scores[\"fit_time\"].append(res[0])\n",
    "        scores[\"score_time\"].append(res[1])\n",
    "        for score in res[2]:\n",
    "            for k, v in score.items():\n",
    "                scores[k].append(v)\n",
    "\n",
    "    return scores"
   ]
  },
  {
   "source": [
    "## OneHotEncoder"
   ],
   "cell_type": "markdown",
   "metadata": {}
  },
  {
   "cell_type": "code",
   "execution_count": 37,
   "metadata": {},
   "outputs": [],
   "source": [
    "class OneHotEncoder(object):\n",
    "    def __init__(self):\n",
    "        self.num_class = 0\n",
    "        self.idx_mapping = {}\n",
    "\n",
    "    def fit(self, X):\n",
    "        unique_classes = np.unique(X)\n",
    "        for unique_class in unique_classes:\n",
    "            self.idx_mapping[unique_class] = len(self.idx_mapping)\n",
    "        self.num_class = unique_classes.shape[0]\n",
    "\n",
    "    def transform(self, X):\n",
    "        idx = []\n",
    "        for row in X:\n",
    "            idx.append(self.idx_mapping[row])\n",
    "        idx = np.array(idx)\n",
    "        onehot = np.zeros((X.shape[0], self.num_class), dtype=np.int64)\n",
    "        onehot[np.arange(X.shape[0]), idx] = 1\n",
    "        return onehot\n",
    "\n",
    "    def fit_transform(self, X):\n",
    "        if not self.idx_mapping and self.num_class == 0:\n",
    "            self.fit(X)\n",
    "        return self.transform(X)"
   ]
  },
  {
   "cell_type": "code",
   "execution_count": 41,
   "metadata": {},
   "outputs": [],
   "source": [
    "class LabelEncoder(object):\n",
    "    def __init__(self):\n",
    "        self.num_class = 0\n",
    "        self.idx_mapping = {}\n",
    "\n",
    "    def fit(self, X):\n",
    "        unique_classes = np.unique(X)\n",
    "        for unique_class in unique_classes:\n",
    "            self.idx_mapping[unique_class] = len(self.idx_mapping)\n",
    "        self.num_class = unique_classes.shape[0]\n",
    "\n",
    "    def transform(self, X):\n",
    "        label = np.zeros(X.shape[0], dtype=np.int64)\n",
    "        for idx, row in enumerate(X):\n",
    "            label[idx] = self.idx_mapping[row]\n",
    "        return label\n",
    "\n",
    "    def fit_transform(self, X):\n",
    "        if not self.idx_mapping and self.num_class == 0:\n",
    "            self.fit(X)\n",
    "        return self.transform(X)"
   ]
  },
  {
   "source": [
    "## Experiments"
   ],
   "cell_type": "markdown",
   "metadata": {}
  },
  {
   "cell_type": "code",
   "execution_count": 48,
   "metadata": {},
   "outputs": [],
   "source": [
    "def softmax(z):\n",
    "    # Ensure numerical stability\n",
    "    exp_scores = np.exp(z - np.max(z, axis=1, keepdims=True))\n",
    "    return exp_scores / exp_scores.sum(1)[:, np.newaxis]\n",
    "\n",
    "def crossentropy(x, y):\n",
    "    m = (x * y).sum(1)\n",
    "    ce = np.log(m)\n",
    "    return -ce.sum()\n",
    "\n",
    "class SoftmaxRegression(object):\n",
    "    def __init__(self, w=None, b=None, lr=0.1, epochs=10):\n",
    "        self.lr = lr\n",
    "        self.epochs = epochs\n",
    "        self.w = w\n",
    "        self.b = b\n",
    "        self.label_bin = OneHotEncoder()\n",
    "\n",
    "    def get_params(self, deep=True):\n",
    "        # suppose this estimator has parameters \"alpha\" and \"recursive\"\n",
    "        return {\"w\": self.w, \"b\": self.b, \"lr\": self.lr, \"epochs\": self.epochs}\n",
    "\n",
    "    def set_params(self, **parameters):\n",
    "        for parameter, value in parameters.items():\n",
    "            setattr(self, parameter, value)\n",
    "        return self\n",
    "\n",
    "    def fit(self, X, y):\n",
    "        y = np.asarray(self.label_bin.fit_transform(y))\n",
    "        limit = 1./np.sqrt(X.shape[1])\n",
    "        self.w = np.random.uniform(low=-limit, high=limit, size=(X.shape[1], y.shape[1]))\n",
    "        self.b = np.random.uniform(low=-limit, high=limit, size=(y.shape[1]))\n",
    "\n",
    "        for i in range(self.epochs):\n",
    "            z = X.dot(self.w) + self.b\n",
    "            z = softmax(z)\n",
    "            loss = crossentropy(z, y)\n",
    "\n",
    "            # Calculate gradients\n",
    "            dW = (X.T.dot(z - y) / X.shape[0])\n",
    "            db = z.sum(0) / X.shape[0]\n",
    "\n",
    "            self.w = self.w - self.lr * dW\n",
    "            self.b = self.b - self.lr * db\n",
    "\n",
    "    def predict_proba(self, X):\n",
    "        z = X.dot(self.w) + self.b\n",
    "        z = softmax(z)\n",
    "        return z\n",
    "    \n",
    "    def predict(self, X):\n",
    "        return self.predict_proba(X).argmax(axis=1)"
   ]
  },
  {
   "cell_type": "code",
   "execution_count": 32,
   "metadata": {},
   "outputs": [],
   "source": [
    "class NaiveBayesClassification(object):\n",
    "    def __init__(self):\n",
    "        self.label_bin = OneHotEncoder()\n",
    "\n",
    "    def get_params(self, deep=True):\n",
    "        # suppose this estimator has parameters \"alpha\" and \"recursive\"\n",
    "        return {}\n",
    "\n",
    "    def set_params(self, **parameters):\n",
    "        for parameter, value in parameters.items():\n",
    "            setattr(self, parameter, value)\n",
    "        return self\n",
    "\n",
    "    def fit(self, X, y):\n",
    "        _y = np.asarray(self.label_bin.fit_transform(y))\n",
    "        num_class = np.unique(y).shape[0]\n",
    "\n",
    "        self.prior = np.zeros((num_class))\n",
    "        for i in range(num_class):\n",
    "            self.prior[i] = (y == 1).sum() / y.shape[0]\n",
    "        self.log_prior = np.log(self.prior)\n",
    "\n",
    "        sum_words = (_y.T @ X) + 1\n",
    "        total_words = sum_words.sum()\n",
    "        self.log_likelihood = np.log(sum_words) - np.log(total_words)\n",
    "\n",
    "    def predict_proba(self, X):\n",
    "        llh = X @ self.log_likelihood.T\n",
    "        posterior = llh + self.log_prior\n",
    "        # Normalized by Z but in logarithmic form\n",
    "        posterior = posterior - logsumexp(posterior, axis=1).reshape(-1, 1)\n",
    "        return np.exp(posterior)\n",
    "\n",
    "    def predict(self, X):\n",
    "        preds = self.predict_proba(X)\n",
    "        return preds.argmax(axis=1)"
   ]
  },
  {
   "cell_type": "code",
   "execution_count": 49,
   "metadata": {},
   "outputs": [
    {
     "output_type": "stream",
     "name": "stderr",
     "text": [
      "100%|██████████| 224981/224981 [02:17<00:00, 1631.72it/s]\n",
      "Cross-validate SoftmaxRegression-build_count_vector-None-None\n",
      "  0%|          | 273/224981 [00:00<01:22, 2729.81it/s]SoftmaxRegression-build_count_vector-None-None {'fit_time': [308.96817684173584, 306.1709907054901, 302.76752400398254, 302.74555587768555, 305.5426058769226, 323.8606147766113], 'score_time': [0.1596379280090332, 0.24780011177062988, 0.3253481388092041, 0.3523409366607666, 0.3340017795562744, 0.09872794151306152], 'test_f1_micro': [0.9170968176309529, 0.9147781821429369, 0.916869053719837, 0.9167110874200427, 0.9155739898314156, 1.0], 'train_f1_micro': [0.9209278982880723, 0.9212967870432877, 0.9210598258172141, 0.9209990005527668, 0.9210668780033152, 0.9203123395554207], 'test_precision_micro': [0.920567695426898, 0.9154117699629116, 0.9186498191722106, 0.9194885047228658, 0.9185234899328859, 1.0], 'train_precision_micro': [0.9240608319065364, 0.924396278590701, 0.9234245824430299, 0.923086393499502, 0.9236391721420656, 0.9230941463065129], 'test_recall_micro': [0.9136520144882171, 0.9141454707719768, 0.915095178793809, 0.9139503985828167, 0.9126433715657508, 1.0], 'train_recall_micro': [0.9178161366692972, 0.918218011165232, 0.9187071498530852, 0.9189210268294857, 0.9185088715242993, 0.9175472487559089]}\n",
      "\n",
      "100%|██████████| 224981/224981 [01:31<00:00, 2470.43it/s]\n",
      "Cross-validate SoftmaxRegression-build_tfidf_vector-None-None\n",
      "  0%|          | 198/224981 [00:00<01:55, 1952.45it/s]SoftmaxRegression-build_tfidf_vector-None-None {'fit_time': [265.6278352737427, 262.83625197410583, 257.8352530002594, 262.2554659843445, 262.89943289756775, 280.458801984787], 'score_time': [0.12961292266845703, 0.25946497917175293, 0.33773016929626465, 0.30854105949401855, 0.27588629722595215, 0.09105205535888672], 'test_f1_micro': [0.9287842469589374, 0.9276968451157386, 0.9301113585746102, 0.9283447617779554, 0.927948375611927, 1.0], 'train_f1_micro': [0.985416214229632, 0.9852040020500479, 0.9854280713099126, 0.9854718307501757, 0.9853639505071898, 0.9803046663751485], 'test_precision_micro': [0.9305979529538517, 0.9290253289179271, 0.9315221270521057, 0.9303473735711426, 0.9289405684754521, 1.0], 'train_precision_micro': [0.9873680451715133, 0.9870515482329828, 0.9871339542987335, 0.9869365040341506, 0.9867718961398495, 0.9827075673402933], 'test_recall_micro': [0.9269775969234897, 0.9263721552878179, 0.9287048567870486, 0.9263507528786536, 0.9269582999911088, 1.0], 'train_recall_micro': [0.983472084829219, 0.9833633593558863, 0.9837280740806695, 0.9840114983510116, 0.9839600169193438, 0.9779134878172544]}\n",
      "\n",
      "100%|██████████| 224981/224981 [01:30<00:00, 2474.74it/s]\n",
      "Cross-validate SoftmaxRegression-build_count_vector-normalize-None\n",
      "  0%|          | 508/224981 [00:00<01:45, 2127.13it/s]SoftmaxRegression-build_count_vector-normalize-None {'fit_time': [262.8168079853058, 260.7286128997803, 256.769846200943, 258.60979104042053, 260.5992350578308, 276.5084490776062], 'score_time': [0.27834200859069824, 0.26039910316467285, 0.30690622329711914, 0.3626220226287842, 0.39327383041381836, 0.07643699645996094], 'test_f1_micro': [0.8421005264815732, 0.8391295596359001, 0.8437723373838457, 0.8423492700323192, 0.8420652489881711, 1.0], 'train_f1_micro': [0.8420546804718189, 0.8429539507525777, 0.8423900587508594, 0.8418713227679098, 0.8420616895830303, 0.842106675972405], 'test_precision_micro': [0.847439206629534, 0.841142447204412, 0.8475587865733262, 0.8479246129683644, 0.8471228685832546, 1.0], 'train_precision_micro': [0.8466482392862761, 0.8476554593500506, 0.8461979043832755, 0.8459963321744804, 0.8463700971572508, 0.8464388822434278], 'test_recall_micro': [0.8368286902472835, 0.8371262829094155, 0.8400195694716243, 0.8368467670504871, 0.8370676624877745, 1.0], 'train_recall_micro': [0.8375106981293556, 0.8383043081781989, 0.8386163298014424, 0.8377863445939924, 0.8377969233509206, 0.8378185897036436]}\n",
      "\n",
      "100%|██████████| 224981/224981 [01:22<00:00, 2726.39it/s]\n",
      "Cross-validate SoftmaxRegression-build_tfidf_vector-normalize-None\n",
      "  0%|          | 557/224981 [00:00<01:23, 2687.07it/s]SoftmaxRegression-build_tfidf_vector-normalize-None {'fit_time': [236.20057606697083, 233.97165203094482, 230.1270089149475, 231.8500111103058, 234.31513094902039, 249.88555192947388], 'score_time': [0.17557716369628906, 0.27464890480041504, 0.30358195304870605, 0.32898712158203125, 0.2629411220550537, 0.09327912330627441], 'test_f1_micro': [0.8673895280789701, 0.8650840621643541, 0.868387011905023, 0.8691374221056085, 0.8685837022750187, 1.0], 'train_f1_micro': [0.8693897912977694, 0.8696501363354564, 0.8688605539217837, 0.8689052185279161, 0.8690032041434402, 0.8689126742762352], 'test_precision_micro': [0.8568499127399651, 0.8501572530265822, 0.8563151295023134, 0.858345929604837, 0.8566055680442677, 1.0], 'train_precision_micro': [0.8577517199601922, 0.8582226120477753, 0.8567888677285319, 0.8567746128019063, 0.8568368208079977, 0.856846113899948], 'test_recall_micro': [0.8781916558601262, 0.8805443998215082, 0.8808041273794699, 0.8802037201062888, 0.8809015737530008, 1.0], 'train_recall_micro': [0.881348019873512, 0.8813860901670336, 0.8812772682753094, 0.8813842588465995, 0.8815200694583584, 0.8813239444142756]}\n",
      "\n",
      "100%|██████████| 224981/224981 [01:22<00:00, 2737.19it/s]\n",
      "Cross-validate NaiveBayesClassification-build_count_vector-None-None\n",
      "NaiveBayesClassification-build_count_vector-None-None {'fit_time': [0.35782384872436523, 0.3613271713256836, 0.34328317642211914, 0.3530912399291992, 0.3287327289581299, 0.3964059352874756], 'score_time': [0.30208468437194824, 0.29071497917175293, 0.2933821678161621, 0.2954881191253662, 0.2967040538787842, 0.2734107971191406], 'test_f1_micro': [0.8106119488056376, 0.8082209510004401, 0.8104450241495983, 0.8027583357008188, 0.8139744282369891, 1.0], 'train_f1_micro': [0.8287058883546532, 0.8297902169202928, 0.8273023056615593, 0.8278298264475503, 0.8286840896329947, 0.8257266505018261], 'test_precision_micro': [0.9635971666153372, 0.9623374221783887, 0.9664880182344606, 0.9629468988165314, 0.965988886853514, 1.0], 'train_precision_micro': [0.9720115484150847, 0.9717172621712785, 0.9717537879356689, 0.9724560981477026, 0.9708327104200927, 0.9705850520113042], 'test_recall_micro': [0.6995483611322273, 0.6966532797858099, 0.697785091620708, 0.6882639503985828, 0.7032986574197564, 1.0], 'train_recall_micro': [0.7222265446987296, 0.7240386112408532, 0.7202386252337281, 0.7206524645690346, 0.7228455664640798, 0.7184926689871897]}\n",
      "\n"
     ]
    }
   ],
   "source": [
    "logistic = SoftmaxRegression(lr=0.5, epochs=500)\n",
    "nb = NaiveBayesClassification()\n",
    "label_enc = LabelEncoder()\n",
    "label_enc.fit(y_train)\n",
    "\n",
    "combinations = [\n",
    "    (logistic, build_count_vector, None, None),\n",
    "    (logistic, build_tfidf_vector, None, None),\n",
    "    (logistic, build_count_vector, normalize, None),\n",
    "    (logistic, build_tfidf_vector, normalize, None),\n",
    "    # (logistic, build_count_vector, None, pca_cnt),\n",
    "    # (logistic, build_tfidf_vector, None, pca_tfidf),\n",
    "    (nb, build_count_vector, None, None)\n",
    "]\n",
    "\n",
    "res = {}\n",
    "for comb in combinations:\n",
    "    model = comb[0]\n",
    "    model_name = type(model).__name__\n",
    "    \n",
    "    featurizer = comb[1]\n",
    "    featurizer_name = featurizer.__name__\n",
    "    _X_train = featurizer(X_train, vocabs)\n",
    "    _y_train = label_enc.transform(y_train)\n",
    "    # _X_test = featurizer(X_test, vocabs)\n",
    "    # _y_test = label_enc.transform(y_test)\n",
    "    \n",
    "    normalizer_name = \"None\"\n",
    "    if comb[2]:\n",
    "        normalizer = comb[2]\n",
    "        normalizer_name = normalizer.__name__\n",
    "        _X_train = normalizer(_X_train)\n",
    "        # _X_test = normalizer.transform(_X_test)\n",
    "        \n",
    "    decomposer_name = \"None\"\n",
    "    if comb[3]:\n",
    "        decomposer = comb[3]\n",
    "        decomposer = comb[3]\n",
    "        decomposer_name = decomposer.__name__\n",
    "        _X_train = decomposer(_X_train)\n",
    "        # _X_test = decomposer(_X_test)\n",
    "        \n",
    "    metadata = model_name + \"-\" + featurizer_name + \"-\" + normalizer_name + \"-\" + decomposer_name\n",
    "    \n",
    "    print(\"Cross-validate {}\".format(metadata))\n",
    "    score = cross_validate(model, _X_train, _y_train, folds=5)\n",
    "    res[metadata] = score\n",
    "    print(metadata, score)\n",
    "    print()"
   ]
  },
  {
   "cell_type": "code",
   "execution_count": null,
   "metadata": {},
   "outputs": [],
   "source": []
  }
 ]
}