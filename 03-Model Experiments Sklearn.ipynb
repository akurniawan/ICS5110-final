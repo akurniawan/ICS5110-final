{
 "cells": [
  {
   "cell_type": "code",
   "execution_count": 5,
   "metadata": {},
   "outputs": [],
   "source": [
    "import pandas as pd\n",
    "import seaborn as sns\n",
    "\n",
    "from nltk.corpus import stopwords\n",
    "from matplotlib import pyplot\n",
    "\n",
    "from sklearn.feature_extraction.text import CountVectorizer, TfidfVectorizer\n",
    "from sklearn.preprocessing import LabelBinarizer, LabelEncoder\n",
    "\n",
    "from sklearn.linear_model import LogisticRegression\n",
    "from sklearn.naive_bayes import MultinomialNB\n",
    "from sklearn.ensemble import RandomForestClassifier\n",
    "from sklearn.decomposition import PCA, TruncatedSVD\n",
    "from sklearn.metrics import f1_score, classification_report\n",
    "from sklearn.preprocessing import StandardScaler, Normalizer\n",
    "from sklearn.model_selection import train_test_split\n",
    "from sklearn.model_selection import cross_validate"
   ]
  },
  {
   "cell_type": "code",
   "execution_count": 2,
   "metadata": {},
   "outputs": [],
   "source": [
    "df = pd.read_csv(\"yelp_review_sentiment_2classes.tsv\", delimiter=\"\\t\")\n",
    "df = df.dropna()"
   ]
  },
  {
   "cell_type": "markdown",
   "metadata": {},
   "source": [
    "# Machine Learning Model Experiments with 4 Classes"
   ]
  },
  {
   "cell_type": "code",
   "execution_count": 6,
   "metadata": {
    "jupyter": {
     "source_hidden": true
    }
   },
   "outputs": [],
   "source": [
    "en_stopwords = stopwords.words('english') + [\"-pron-\", \"pron\"]\n",
    "\n",
    "cnt_vec = CountVectorizer(ngram_range=(1, 3), min_df=10, stop_words=en_stopwords)\n",
    "tfidf_vec = TfidfVectorizer(ngram_range=(1, 3), min_df=10, stop_words=en_stopwords)\n",
    "label_enc = LabelEncoder()\n",
    "label_bin = LabelBinarizer()\n",
    "normalizer = Normalizer()"
   ]
  },
  {
   "cell_type": "code",
   "execution_count": 7,
   "metadata": {
    "collapsed": true,
    "jupyter": {
     "outputs_hidden": true,
     "source_hidden": true
    }
   },
   "outputs": [
    {
     "name": "stderr",
     "output_type": "stream",
     "text": [
      "/Users/akurniawan/opt/miniconda3/envs/ics5110/lib/python3.8/site-packages/sklearn/feature_extraction/text.py:383: UserWarning: Your stop_words may be inconsistent with your preprocessing. Tokenizing the stop words generated tokens ['pron'] not in stop_words.\n",
      "  warnings.warn('Your stop_words may be inconsistent with '\n"
     ]
    },
    {
     "data": {
      "text/plain": [
       "((198000, 230884), (198000, 230884))"
      ]
     },
     "execution_count": 7,
     "metadata": {},
     "output_type": "execute_result"
    }
   ],
   "source": [
    "sample_data = df.sample(220000)\n",
    "train, test = train_test_split(sample_data, test_size=0.1, shuffle=True)\n",
    "\n",
    "cnt_vec.fit(train[\"text\"])\n",
    "tfidf_vec.fit(train[\"text\"])\n",
    "label_enc.fit(df[\"sentiment\"].unique())"
   ]
  },
  {
   "cell_type": "code",
   "execution_count": 56,
   "metadata": {
    "collapsed": true,
    "jupyter": {
     "outputs_hidden": true,
     "source_hidden": true
    }
   },
   "outputs": [
    {
     "name": "stdout",
     "output_type": "stream",
     "text": [
      "Prepare data to train..\n",
      "Cross-validate LogisticRegression-CountVectorizer-None\n",
      "LogisticRegression-CountVectorizer-None {'fit_time': array([2447.32094288, 2435.27109909, 2447.24594998, 2434.61051106,\n",
      "       2369.61255503]), 'score_time': array([0.204386  , 0.3321619 , 0.20633531, 0.47214317, 0.40806508]), 'test_f1_micro': array([0.65      , 0.64941919, 0.65234848, 0.65017677, 0.64891414]), 'train_f1_micro': array([0.99838384, 0.99828283, 0.99840909, 0.99835859, 0.99834596]), 'test_precision_micro': array([0.65      , 0.64941919, 0.65234848, 0.65017677, 0.64891414]), 'train_precision_micro': array([0.99838384, 0.99828283, 0.99840909, 0.99835859, 0.99834596]), 'test_recall_micro': array([0.65      , 0.64941919, 0.65234848, 0.65017677, 0.64891414]), 'train_recall_micro': array([0.99838384, 0.99828283, 0.99840909, 0.99835859, 0.99834596])}\n",
      "Prepare data to train..\n",
      "Cross-validate LogisticRegression-TfidfVectorizer-None\n",
      "LogisticRegression-TfidfVectorizer-None {'fit_time': array([423.11136198, 432.02383995, 400.60890007, 429.76350117,\n",
      "       427.4641242 ]), 'score_time': array([0.14662004, 0.07674217, 0.20067501, 0.09830999, 0.12761974]), 'test_f1_micro': array([0.68409091, 0.68441919, 0.6885101 , 0.68242424, 0.68515152]), 'train_f1_micro': array([0.83314394, 0.834375  , 0.83322601, 0.83315025, 0.83306818]), 'test_precision_micro': array([0.68409091, 0.68441919, 0.6885101 , 0.68242424, 0.68515152]), 'train_precision_micro': array([0.83314394, 0.834375  , 0.83322601, 0.83315025, 0.83306818]), 'test_recall_micro': array([0.68409091, 0.68441919, 0.6885101 , 0.68242424, 0.68515152]), 'train_recall_micro': array([0.83314394, 0.834375  , 0.83322601, 0.83315025, 0.83306818])}\n",
      "Prepare data to train..\n",
      "Cross-validate LogisticRegression-CountVectorizer-Normalizer\n",
      "LogisticRegression-CountVectorizer-Normalizer {'fit_time': array([528.87411618, 499.01473713, 510.59268117, 551.90089798,\n",
      "       524.45800805]), 'score_time': array([0.10629296, 0.19608498, 0.14710593, 0.06768632, 0.12864184]), 'test_f1_micro': array([0.68078283, 0.68174242, 0.6839899 , 0.67939394, 0.68121212]), 'train_f1_micro': array([0.75397096, 0.75424874, 0.75301768, 0.75418561, 0.75397096]), 'test_precision_micro': array([0.68078283, 0.68174242, 0.6839899 , 0.67939394, 0.68121212]), 'train_precision_micro': array([0.75397096, 0.75424874, 0.75301768, 0.75418561, 0.75397096]), 'test_recall_micro': array([0.68078283, 0.68174242, 0.6839899 , 0.67939394, 0.68121212]), 'train_recall_micro': array([0.75397096, 0.75424874, 0.75301768, 0.75418561, 0.75397096])}\n",
      "Prepare data to train..\n",
      "Cross-validate LogisticRegression-TfidfVectorizer-Normalizer\n",
      "LogisticRegression-TfidfVectorizer-Normalizer {'fit_time': array([417.51948023, 415.45464206, 430.5539372 , 424.23150778,\n",
      "       439.92411089]), 'score_time': array([0.1404798 , 0.18105793, 0.10616183, 0.11697721, 0.08378792]), 'test_f1_micro': array([0.68411616, 0.68426768, 0.6885101 , 0.68244949, 0.68510101]), 'train_f1_micro': array([0.8333649 , 0.83457702, 0.83332071, 0.8332197 , 0.83320076]), 'test_precision_micro': array([0.68411616, 0.68426768, 0.6885101 , 0.68244949, 0.68510101]), 'train_precision_micro': array([0.8333649 , 0.83457702, 0.83332071, 0.8332197 , 0.83320076]), 'test_recall_micro': array([0.68411616, 0.68426768, 0.6885101 , 0.68244949, 0.68510101]), 'train_recall_micro': array([0.8333649 , 0.83457702, 0.83332071, 0.8332197 , 0.83320076])}\n",
      "Prepare data to train..\n",
      "Cross-validate MultinomialNB-CountVectorizer-None\n",
      "MultinomialNB-CountVectorizer-None {'fit_time': array([0.80194879, 0.79458213, 0.76680398, 0.77655101, 0.76670408]), 'score_time': array([0.14892912, 0.17452502, 0.17317295, 0.16017795, 0.16872406]), 'test_f1_micro': array([0.63015152, 0.63005051, 0.62863636, 0.62631313, 0.63272727]), 'train_f1_micro': array([0.7135101 , 0.71373106, 0.71272727, 0.71248106, 0.71256944]), 'test_precision_micro': array([0.63015152, 0.63005051, 0.62863636, 0.62631313, 0.63272727]), 'train_precision_micro': array([0.7135101 , 0.71373106, 0.71272727, 0.71248106, 0.71256944]), 'test_recall_micro': array([0.63015152, 0.63005051, 0.62863636, 0.62631313, 0.63272727]), 'train_recall_micro': array([0.7135101 , 0.71373106, 0.71272727, 0.71248106, 0.71256944])}\n",
      "Prepare data to train..\n",
      "Cross-validate RandomForestClassifier-CountVectorizer-None\n",
      "RandomForestClassifier-CountVectorizer-None {'fit_time': array([5274.174649  , 5273.97677898, 5268.79587317, 5262.67987704,\n",
      "       5268.52152705]), 'score_time': array([26.89758086, 27.06985092, 20.78207517, 10.31403208, 20.926615  ]), 'test_f1_micro': array([0.6135101 , 0.61277778, 0.61409091, 0.61280303, 0.61671717]), 'train_f1_micro': array([0.99989899, 0.99988636, 0.99991162, 0.99991793, 0.99989268]), 'test_precision_micro': array([0.6135101 , 0.61277778, 0.61409091, 0.61280303, 0.61671717]), 'train_precision_micro': array([0.99989899, 0.99988636, 0.99991162, 0.99991793, 0.99989268]), 'test_recall_micro': array([0.6135101 , 0.61277778, 0.61409091, 0.61280303, 0.61671717]), 'train_recall_micro': array([0.99989899, 0.99988636, 0.99991162, 0.99991793, 0.99989268])}\n",
      "Prepare data to train..\n",
      "Cross-validate RandomForestClassifier-TfidfVectorizer-None\n",
      "RandomForestClassifier-TfidfVectorizer-None {'fit_time': array([4857.32646918, 4849.94711185, 4843.58540702, 4842.46209216,\n",
      "       4842.18226314]), 'score_time': array([14.76049399, 14.940696  , 14.58631873, 14.71790576, 14.19580388]), 'test_f1_micro': array([0.61169192, 0.61128788, 0.61015152, 0.60664141, 0.60772727]), 'train_f1_micro': array([0.99989899, 0.99988636, 0.99991162, 0.99991793, 0.99989268]), 'test_precision_micro': array([0.61169192, 0.61128788, 0.61015152, 0.60664141, 0.60772727]), 'train_precision_micro': array([0.99989899, 0.99988636, 0.99991162, 0.99991793, 0.99989268]), 'test_recall_micro': array([0.61169192, 0.61128788, 0.61015152, 0.60664141, 0.60772727]), 'train_recall_micro': array([0.99989899, 0.99988636, 0.99991162, 0.99991793, 0.99989268])}\n",
      "Prepare data to train..\n",
      "Cross-validate RandomForestClassifier-CountVectorizer-Normalizer\n",
      "RandomForestClassifier-CountVectorizer-Normalizer {'fit_time': array([4831.97311425, 4814.08076429, 4799.42218518, 4799.9808588 ,\n",
      "       4800.31488299]), 'score_time': array([20.53565788, 17.49214387, 13.12945008, 13.45480919, 13.38710093]), 'test_f1_micro': array([0.61022727, 0.61080808, 0.60909091, 0.60540404, 0.60921717]), 'train_f1_micro': array([0.99989899, 0.99988636, 0.99991162, 0.99991793, 0.99989268]), 'test_precision_micro': array([0.61022727, 0.61080808, 0.60909091, 0.60540404, 0.60921717]), 'train_precision_micro': array([0.99989899, 0.99988636, 0.99991162, 0.99991793, 0.99989268]), 'test_recall_micro': array([0.61022727, 0.61080808, 0.60909091, 0.60540404, 0.60921717]), 'train_recall_micro': array([0.99989899, 0.99988636, 0.99991162, 0.99991793, 0.99989268])}\n",
      "Prepare data to train..\n",
      "Cross-validate RandomForestClassifier-TfidfVectorizer-Normalizer\n",
      "RandomForestClassifier-TfidfVectorizer-Normalizer {'fit_time': array([4863.17444706, 4844.59765792, 4845.14817691, 4848.89596701,\n",
      "       4842.29199719]), 'score_time': array([21.38997984, 14.55444026, 14.60203695, 13.6011169 , 11.52279615]), 'test_f1_micro': array([0.61169192, 0.61128788, 0.61015152, 0.60664141, 0.60772727]), 'train_f1_micro': array([0.99989899, 0.99988636, 0.99991162, 0.99991793, 0.99989268]), 'test_precision_micro': array([0.61169192, 0.61128788, 0.61015152, 0.60664141, 0.60772727]), 'train_precision_micro': array([0.99989899, 0.99988636, 0.99991162, 0.99991793, 0.99989268]), 'test_recall_micro': array([0.61169192, 0.61128788, 0.61015152, 0.60664141, 0.60772727]), 'train_recall_micro': array([0.99989899, 0.99988636, 0.99991162, 0.99991793, 0.99989268])}\n"
     ]
    }
   ],
   "source": [
    "logistic = LogisticRegression(random_state=42, max_iter=100000)\n",
    "mnb = MultinomialNB()\n",
    "rf = RandomForestClassifier(n_jobs=-1, random_state=42)\n",
    "\n",
    "\n",
    "combinations = [\n",
    "    (logistic, cnt_vec, None),\n",
    "    (logistic, tfidf_vec, None),\n",
    "    (logistic, cnt_vec, normalizer),\n",
    "    (logistic, tfidf_vec, normalizer),\n",
    "    (mnb, cnt_vec, None),\n",
    "    (rf, cnt_vec, None),\n",
    "    (rf, tfidf_vec, None),\n",
    "    (rf, cnt_vec, normalizer),\n",
    "    (rf, tfidf_vec, normalizer),\n",
    "]\n",
    "\n",
    "res = {}\n",
    "for comb in combinations:\n",
    "    model = comb[0]\n",
    "    model_name = type(model).__name__\n",
    "    \n",
    "    print(\"Prepare data to train..\")\n",
    "    featurizer = comb[1]\n",
    "    featurizer_name = type(featurizer).__name__\n",
    "    X_train = featurizer.transform(train[\"text\"])\n",
    "    y_train = label_enc.transform(train[\"sentiment\"])\n",
    "    X_test = featurizer.transform(test[\"text\"])\n",
    "    y_test = label_enc.transform(test[\"sentiment\"])\n",
    "    \n",
    "    normalizer_name = \"None\"\n",
    "    if comb[2]:\n",
    "        normalizer = comb[2]\n",
    "        normalizer_name = type(normalizer).__name__\n",
    "        X_train = normalizer.fit_transform(X_train)\n",
    "        X_test = normalizer.transform(X_test)\n",
    "        \n",
    "    metadata = model_name + \"-\" + featurizer_name + \"-\" + normalizer_name\n",
    "    \n",
    "    print(\"Cross-validate {}\".format(metadata))\n",
    "    score = cross_validate(model, X_train, y_train,\n",
    "                           scoring=[\"f1_micro\", \"precision_micro\", \"recall_micro\"],\n",
    "                           cv=5, n_jobs=-1, return_train_score=True)\n",
    "    res[metadata] = score\n",
    "    print(metadata, score)"
   ]
  },
  {
   "cell_type": "code",
   "execution_count": 65,
   "metadata": {},
   "outputs": [],
   "source": [
    "import pickle\n",
    "pickle.dump(res, open(\"4class_result.pkl\", \"wb\"))"
   ]
  },
  {
   "cell_type": "markdown",
   "metadata": {},
   "source": [
    "# Machine Learning Model Experiments with 2 Classes"
   ]
  },
  {
   "cell_type": "code",
   "execution_count": 3,
   "metadata": {},
   "outputs": [],
   "source": [
    "en_stopwords = stopwords.words('english') + [\"-PRON-\", \"-pron-\", \"PRON\", \"pron\"]\n",
    "\n",
    "cnt_vec = CountVectorizer(ngram_range=(1, 3), min_df=10, stop_words=en_stopwords)\n",
    "tfidf_vec = TfidfVectorizer(ngram_range=(1, 3), min_df=10, stop_words=en_stopwords)\n",
    "label_enc = LabelEncoder()\n",
    "label_bin = LabelBinarizer()\n",
    "normalizer = Normalizer()\n",
    "pca_cnt = TruncatedSVD(300)\n",
    "pca_tfidf = TruncatedSVD(300)"
   ]
  },
  {
   "cell_type": "code",
   "execution_count": 4,
   "metadata": {},
   "outputs": [
    {
     "data": {
      "text/plain": [
       "TruncatedSVD(n_components=300)"
      ]
     },
     "execution_count": 4,
     "metadata": {},
     "output_type": "execute_result"
    }
   ],
   "source": [
    "train, test = train_test_split(df, test_size=0.1, shuffle=True, random_state=42)\n",
    "\n",
    "cnt_vec.fit(train[\"text\"])\n",
    "tfidf_vec.fit(train[\"text\"])\n",
    "label_enc.fit(df[\"sentiment\"].unique())\n",
    "\n",
    "pca_cnt.fit(cnt_vec.transform(train[\"text\"]))\n",
    "pca_tfidf.fit(tfidf_vec.transform(train[\"text\"]))"
   ]
  },
  {
   "cell_type": "code",
   "execution_count": 5,
   "metadata": {},
   "outputs": [
    {
     "name": "stdout",
     "output_type": "stream",
     "text": [
      "Prepare data to train..\n",
      "Cross-validate LogisticRegression-CountVectorizer-None-None\n",
      "LogisticRegression-CountVectorizer-None-None {'fit_time': array([ 99.09668183, 102.1154871 ,  98.83908725, 102.81194305,\n",
      "       102.26351881]), 'score_time': array([0.32912207, 0.20766377, 0.29225278, 0.17417121, 0.20286393]), 'test_f1_micro': array([0.92325985, 0.9245044 , 0.9232154 , 0.92510445, 0.92461552]), 'train_f1_micro': array([0.99738866, 0.99732754, 0.99736088, 0.99754978, 0.99755534]), 'test_precision_micro': array([0.92325985, 0.9245044 , 0.9232154 , 0.92510445, 0.92461552]), 'train_precision_micro': array([0.99738866, 0.99732754, 0.99736088, 0.99754978, 0.99755534]), 'test_recall_micro': array([0.92325985, 0.9245044 , 0.9232154 , 0.92510445, 0.92461552]), 'train_recall_micro': array([0.99738866, 0.99732754, 0.99736088, 0.99754978, 0.99755534])}\n",
      "\n",
      "Prepare data to train..\n",
      "Cross-validate LogisticRegression-TfidfVectorizer-None-None\n",
      "LogisticRegression-TfidfVectorizer-None-None {'fit_time': array([29.84667587, 32.5659821 , 28.49510407, 32.81581116, 31.32070804]), 'score_time': array([0.12490797, 0.07489014, 0.13244295, 0.06417298, 0.09032869]), 'test_f1_micro': array([0.92941595, 0.92621566, 0.9272602 , 0.9280825 , 0.92750467]), 'train_f1_micro': array([0.94726753, 0.94813428, 0.94798427, 0.94767313, 0.94770091]), 'test_precision_micro': array([0.92941595, 0.92621566, 0.9272602 , 0.9280825 , 0.92750467]), 'train_precision_micro': array([0.94726753, 0.94813428, 0.94798427, 0.94767313, 0.94770091]), 'test_recall_micro': array([0.92941595, 0.92621566, 0.9272602 , 0.9280825 , 0.92750467]), 'train_recall_micro': array([0.94726753, 0.94813428, 0.94798427, 0.94767313, 0.94770091])}\n",
      "\n",
      "Prepare data to train..\n",
      "Cross-validate LogisticRegression-CountVectorizer-Normalizer-None\n",
      "LogisticRegression-CountVectorizer-Normalizer-None {'fit_time': array([48.52074099, 45.95063901, 47.88865113, 50.7971139 , 50.3942709 ]), 'score_time': array([0.11716986, 0.15525699, 0.12026286, 0.07749915, 0.08422208]), 'test_f1_micro': array([0.92657125, 0.92405992, 0.92417104, 0.92641568, 0.92445995]), 'train_f1_micro': array([0.93654992, 0.93724998, 0.93714997, 0.93699996, 0.93688328]), 'test_precision_micro': array([0.92657125, 0.92405992, 0.92417104, 0.92641568, 0.92445995]), 'train_precision_micro': array([0.93654992, 0.93724998, 0.93714997, 0.93699996, 0.93688328]), 'test_recall_micro': array([0.92657125, 0.92405992, 0.92417104, 0.92641568, 0.92445995]), 'train_recall_micro': array([0.93654992, 0.93724998, 0.93714997, 0.93699996, 0.93688328])}\n",
      "\n",
      "Prepare data to train..\n",
      "Cross-validate LogisticRegression-TfidfVectorizer-Normalizer-None\n",
      "LogisticRegression-TfidfVectorizer-Normalizer-None {'fit_time': array([29.11768293, 33.36657095, 28.24108505, 29.34991002, 27.31600595]), 'score_time': array([0.09263587, 0.05827212, 0.11633706, 0.08978796, 0.13866329]), 'test_f1_micro': array([0.92941595, 0.92619344, 0.92728243, 0.92806027, 0.92748244]), 'train_f1_micro': array([0.94725642, 0.9481565 , 0.94798427, 0.94766201, 0.94772313]), 'test_precision_micro': array([0.92941595, 0.92619344, 0.92728243, 0.92806027, 0.92748244]), 'train_precision_micro': array([0.94725642, 0.9481565 , 0.94798427, 0.94766201, 0.94772313]), 'test_recall_micro': array([0.92941595, 0.92619344, 0.92728243, 0.92806027, 0.92748244]), 'train_recall_micro': array([0.94725642, 0.9481565 , 0.94798427, 0.94766201, 0.94772313])}\n",
      "\n",
      "Prepare data to train..\n",
      "Cross-validate LogisticRegression-CountVectorizer-None-TruncatedSVD\n",
      "LogisticRegression-CountVectorizer-None-TruncatedSVD {'fit_time': array([15.68449092, 14.22836185, 14.60657883, 13.68682384, 14.11711693]), 'score_time': array([0.08029699, 0.17299199, 0.16257   , 0.2062819 , 0.17585206]), 'test_f1_micro': array([0.89745755, 0.89321273, 0.89156814, 0.89421282, 0.89365721]), 'train_f1_micro': array([0.89405725, 0.89510734, 0.89531292, 0.89507956, 0.89486288]), 'test_precision_micro': array([0.89745755, 0.89321273, 0.89156814, 0.89421282, 0.89365721]), 'train_precision_micro': array([0.89405725, 0.89510734, 0.89531292, 0.89507956, 0.89486288]), 'test_recall_micro': array([0.89745755, 0.89321273, 0.89156814, 0.89421282, 0.89365721]), 'train_recall_micro': array([0.89405725, 0.89510734, 0.89531292, 0.89507956, 0.89486288])}\n",
      "\n",
      "Prepare data to train..\n",
      "Cross-validate LogisticRegression-TfidfVectorizer-None-TruncatedSVD\n",
      "LogisticRegression-TfidfVectorizer-None-TruncatedSVD {'fit_time': array([12.36505389, 12.03976703, 10.79853106,  8.82179475,  8.58151913]), 'score_time': array([0.09079695, 0.11052322, 0.10773301, 0.16003609, 0.15490079]), 'test_f1_micro': array([0.91012534, 0.90681394, 0.90648058, 0.90945862, 0.90808072]), 'train_f1_micro': array([0.90815295, 0.90915304, 0.90914192, 0.90836963, 0.90878078]), 'test_precision_micro': array([0.91012534, 0.90681394, 0.90648058, 0.90945862, 0.90808072]), 'train_precision_micro': array([0.90815295, 0.90915304, 0.90914192, 0.90836963, 0.90878078]), 'test_recall_micro': array([0.91012534, 0.90681394, 0.90648058, 0.90945862, 0.90808072]), 'train_recall_micro': array([0.90815295, 0.90915304, 0.90914192, 0.90836963, 0.90878078])}\n",
      "\n",
      "Prepare data to train..\n",
      "Cross-validate MultinomialNB-CountVectorizer-None-None\n",
      "MultinomialNB-CountVectorizer-None-None {'fit_time': array([0.55770802, 0.5380559 , 0.52018476, 0.54808497, 0.27867699]), 'score_time': array([0.1606369 , 0.165277  , 0.15705228, 0.14690304, 0.08182597]), 'test_f1_micro': array([0.88407858, 0.88127834, 0.88232287, 0.88367855, 0.88138946]), 'train_f1_micro': array([0.89579629, 0.89626856, 0.89739088, 0.89652969, 0.89687972]), 'test_precision_micro': array([0.88407858, 0.88127834, 0.88232287, 0.88367855, 0.88138946]), 'train_precision_micro': array([0.89579629, 0.89626856, 0.89739088, 0.89652969, 0.89687972]), 'test_recall_micro': array([0.88407858, 0.88127834, 0.88232287, 0.88367855, 0.88138946]), 'train_recall_micro': array([0.89579629, 0.89626856, 0.89739088, 0.89652969, 0.89687972])}\n",
      "\n",
      "Prepare data to train..\n",
      "Cross-validate RandomForestClassifier-CountVectorizer-None-None\n",
      "RandomForestClassifier-CountVectorizer-None-None {'fit_time': array([3764.09784293, 3764.43729711, 3769.77237701, 3783.10237312,\n",
      "       3770.2761972 ]), 'score_time': array([12.37499905, 12.13951182, 13.34043407, 19.72567391, 13.46750593]), 'test_f1_micro': array([0.90341364, 0.89987999, 0.90072451, 0.9030136 , 0.89927994]), 'train_f1_micro': array([0.99993888, 0.99992777, 0.99993888, 0.99993333, 0.99995   ]), 'test_precision_micro': array([0.90341364, 0.89987999, 0.90072451, 0.9030136 , 0.89927994]), 'train_precision_micro': array([0.99993888, 0.99992777, 0.99993888, 0.99993333, 0.99995   ]), 'test_recall_micro': array([0.90341364, 0.89987999, 0.90072451, 0.9030136 , 0.89927994]), 'train_recall_micro': array([0.99993888, 0.99992777, 0.99993888, 0.99993333, 0.99995   ])}\n",
      "\n",
      "Prepare data to train..\n",
      "Cross-validate RandomForestClassifier-TfidfVectorizer-None-None\n",
      "RandomForestClassifier-TfidfVectorizer-None-None {'fit_time': array([3310.22408509, 3301.97734189, 3311.64081383, 3299.65904903,\n",
      "       3310.04573178]), 'score_time': array([15.72688007,  8.05478811, 16.04689598,  8.71817327, 15.52011108]), 'test_f1_micro': array([0.90248022, 0.89912437, 0.89981332, 0.90081341, 0.89770202]), 'train_f1_micro': array([0.99993888, 0.99992222, 0.99993888, 0.99993333, 0.99995   ]), 'test_precision_micro': array([0.90248022, 0.89912437, 0.89981332, 0.90081341, 0.89770202]), 'train_precision_micro': array([0.99993888, 0.99992222, 0.99993888, 0.99993333, 0.99995   ]), 'test_recall_micro': array([0.90248022, 0.89912437, 0.89981332, 0.90081341, 0.89770202]), 'train_recall_micro': array([0.99993888, 0.99992222, 0.99993888, 0.99993333, 0.99995   ])}\n",
      "\n",
      "Prepare data to train..\n",
      "Cross-validate RandomForestClassifier-CountVectorizer-Normalizer-None\n",
      "RandomForestClassifier-CountVectorizer-Normalizer-None {'fit_time': array([3079.10887313, 3072.80680537, 3073.18199611, 3081.42010307,\n",
      "       3075.09163094]), 'score_time': array([14.23928213, 10.14576006, 10.81499195, 14.63109803, 12.95508695]), 'test_f1_micro': array([0.90188017, 0.89783536, 0.898791  , 0.90001333, 0.89790204]), 'train_f1_micro': array([0.99993888, 0.99992222, 0.99993888, 0.99993333, 0.99995   ]), 'test_precision_micro': array([0.90188017, 0.89783536, 0.898791  , 0.90001333, 0.89790204]), 'train_precision_micro': array([0.99993888, 0.99992222, 0.99993888, 0.99993333, 0.99995   ]), 'test_recall_micro': array([0.90188017, 0.89783536, 0.898791  , 0.90001333, 0.89790204]), 'train_recall_micro': array([0.99993888, 0.99992222, 0.99993888, 0.99993333, 0.99995   ])}\n",
      "\n",
      "Prepare data to train..\n",
      "Cross-validate RandomForestClassifier-TfidfVectorizer-Normalizer-None\n",
      "RandomForestClassifier-TfidfVectorizer-Normalizer-None {'fit_time': array([3127.98623204, 3119.53433394, 3133.17287612, 3116.75057673,\n",
      "       3129.50429082]), 'score_time': array([14.84103417,  7.47396708, 16.23877978,  8.11886501, 16.38717723]), 'test_f1_micro': array([0.90248022, 0.89912437, 0.89981332, 0.90081341, 0.89770202]), 'train_f1_micro': array([0.99993888, 0.99992222, 0.99993888, 0.99993333, 0.99995   ]), 'test_precision_micro': array([0.90248022, 0.89912437, 0.89981332, 0.90081341, 0.89770202]), 'train_precision_micro': array([0.99993888, 0.99992222, 0.99993888, 0.99993333, 0.99995   ]), 'test_recall_micro': array([0.90248022, 0.89912437, 0.89981332, 0.90081341, 0.89770202]), 'train_recall_micro': array([0.99993888, 0.99992222, 0.99993888, 0.99993333, 0.99995   ])}\n",
      "\n"
     ]
    }
   ],
   "source": [
    "logistic = LogisticRegression(random_state=42, max_iter=100000)\n",
    "mnb = MultinomialNB()\n",
    "rf = RandomForestClassifier(n_jobs=-1, random_state=42)\n",
    "\n",
    "\n",
    "combinations = [\n",
    "    (logistic, cnt_vec, None, None),\n",
    "    (logistic, tfidf_vec, None, None),\n",
    "    (logistic, cnt_vec, normalizer, None),\n",
    "    (logistic, tfidf_vec, normalizer, None),\n",
    "    (logistic, cnt_vec, None, pca_cnt),\n",
    "    (logistic, tfidf_vec, None, pca_tfidf),\n",
    "    (mnb, cnt_vec, None, None),\n",
    "    (rf, cnt_vec, None, None),\n",
    "    (rf, tfidf_vec, None, None),\n",
    "    (rf, cnt_vec, normalizer, None),\n",
    "    (rf, tfidf_vec, normalizer, None),\n",
    "]\n",
    "\n",
    "res2 = {}\n",
    "for comb in combinations:\n",
    "    model = comb[0]\n",
    "    model_name = type(model).__name__\n",
    "    \n",
    "    print(\"Prepare data to train..\")\n",
    "    featurizer = comb[1]\n",
    "    featurizer_name = type(featurizer).__name__\n",
    "    X_train = featurizer.transform(train[\"text\"])\n",
    "    y_train = label_enc.transform(train[\"sentiment\"])\n",
    "    X_test = featurizer.transform(test[\"text\"])\n",
    "    y_test = label_enc.transform(test[\"sentiment\"])\n",
    "    \n",
    "    normalizer_name = \"None\"\n",
    "    if comb[2]:\n",
    "        normalizer = comb[2]\n",
    "        normalizer_name = type(normalizer).__name__\n",
    "        X_train = normalizer.fit_transform(X_train)\n",
    "        X_test = normalizer.transform(X_test)\n",
    "        \n",
    "    decomposer_name = \"None\"\n",
    "    if comb[3]:\n",
    "        decomposer = comb[3]\n",
    "        decomposer = comb[3]\n",
    "        decomposer_name = type(decomposer).__name__\n",
    "        X_train = decomposer.transform(X_train)\n",
    "        X_test = decomposer.transform(X_test)\n",
    "        \n",
    "    metadata = model_name + \"-\" + featurizer_name + \"-\" + normalizer_name + \"-\" + decomposer_name\n",
    "    \n",
    "    print(\"Cross-validate {}\".format(metadata))\n",
    "    score = cross_validate(model, X_train, y_train,\n",
    "                           scoring=[\"f1_micro\", \"precision_micro\", \"recall_micro\"],\n",
    "                           cv=5, n_jobs=-1, return_train_score=True)\n",
    "    res2[metadata] = score\n",
    "    print(metadata, score)\n",
    "    print()"
   ]
  },
  {
   "cell_type": "code",
   "execution_count": 6,
   "metadata": {},
   "outputs": [],
   "source": [
    "analysis_df = pd.DataFrame()\n",
    "for k, v in res2.items():\n",
    "    tmp_df = pd.DataFrame.from_dict(res2[k])\n",
    "    tmp_df[\"meta\"] = k\n",
    "    \n",
    "    analysis_df = pd.concat([analysis_df, tmp_df])"
   ]
  },
  {
   "cell_type": "code",
   "execution_count": 7,
   "metadata": {},
   "outputs": [
    {
     "data": {
      "text/html": [
       "<div>\n",
       "<style scoped>\n",
       "    .dataframe tbody tr th:only-of-type {\n",
       "        vertical-align: middle;\n",
       "    }\n",
       "\n",
       "    .dataframe tbody tr th {\n",
       "        vertical-align: top;\n",
       "    }\n",
       "\n",
       "    .dataframe thead th {\n",
       "        text-align: right;\n",
       "    }\n",
       "</style>\n",
       "<table border=\"1\" class=\"dataframe\">\n",
       "  <thead>\n",
       "    <tr style=\"text-align: right;\">\n",
       "      <th></th>\n",
       "      <th>fit_time</th>\n",
       "      <th>score_time</th>\n",
       "      <th>test_f1_micro</th>\n",
       "      <th>train_f1_micro</th>\n",
       "      <th>test_precision_micro</th>\n",
       "      <th>train_precision_micro</th>\n",
       "      <th>test_recall_micro</th>\n",
       "      <th>train_recall_micro</th>\n",
       "      <th>meta</th>\n",
       "    </tr>\n",
       "  </thead>\n",
       "  <tbody>\n",
       "    <tr>\n",
       "      <th>0</th>\n",
       "      <td>99.096682</td>\n",
       "      <td>0.329122</td>\n",
       "      <td>0.923260</td>\n",
       "      <td>0.997389</td>\n",
       "      <td>0.923260</td>\n",
       "      <td>0.997389</td>\n",
       "      <td>0.923260</td>\n",
       "      <td>0.997389</td>\n",
       "      <td>LogisticRegression-CountVectorizer-None-None</td>\n",
       "    </tr>\n",
       "    <tr>\n",
       "      <th>1</th>\n",
       "      <td>102.115487</td>\n",
       "      <td>0.207664</td>\n",
       "      <td>0.924504</td>\n",
       "      <td>0.997328</td>\n",
       "      <td>0.924504</td>\n",
       "      <td>0.997328</td>\n",
       "      <td>0.924504</td>\n",
       "      <td>0.997328</td>\n",
       "      <td>LogisticRegression-CountVectorizer-None-None</td>\n",
       "    </tr>\n",
       "    <tr>\n",
       "      <th>2</th>\n",
       "      <td>98.839087</td>\n",
       "      <td>0.292253</td>\n",
       "      <td>0.923215</td>\n",
       "      <td>0.997361</td>\n",
       "      <td>0.923215</td>\n",
       "      <td>0.997361</td>\n",
       "      <td>0.923215</td>\n",
       "      <td>0.997361</td>\n",
       "      <td>LogisticRegression-CountVectorizer-None-None</td>\n",
       "    </tr>\n",
       "    <tr>\n",
       "      <th>3</th>\n",
       "      <td>102.811943</td>\n",
       "      <td>0.174171</td>\n",
       "      <td>0.925104</td>\n",
       "      <td>0.997550</td>\n",
       "      <td>0.925104</td>\n",
       "      <td>0.997550</td>\n",
       "      <td>0.925104</td>\n",
       "      <td>0.997550</td>\n",
       "      <td>LogisticRegression-CountVectorizer-None-None</td>\n",
       "    </tr>\n",
       "    <tr>\n",
       "      <th>4</th>\n",
       "      <td>102.263519</td>\n",
       "      <td>0.202864</td>\n",
       "      <td>0.924616</td>\n",
       "      <td>0.997555</td>\n",
       "      <td>0.924616</td>\n",
       "      <td>0.997555</td>\n",
       "      <td>0.924616</td>\n",
       "      <td>0.997555</td>\n",
       "      <td>LogisticRegression-CountVectorizer-None-None</td>\n",
       "    </tr>\n",
       "    <tr>\n",
       "      <th>0</th>\n",
       "      <td>29.846676</td>\n",
       "      <td>0.124908</td>\n",
       "      <td>0.929416</td>\n",
       "      <td>0.947268</td>\n",
       "      <td>0.929416</td>\n",
       "      <td>0.947268</td>\n",
       "      <td>0.929416</td>\n",
       "      <td>0.947268</td>\n",
       "      <td>LogisticRegression-TfidfVectorizer-None-None</td>\n",
       "    </tr>\n",
       "    <tr>\n",
       "      <th>1</th>\n",
       "      <td>32.565982</td>\n",
       "      <td>0.074890</td>\n",
       "      <td>0.926216</td>\n",
       "      <td>0.948134</td>\n",
       "      <td>0.926216</td>\n",
       "      <td>0.948134</td>\n",
       "      <td>0.926216</td>\n",
       "      <td>0.948134</td>\n",
       "      <td>LogisticRegression-TfidfVectorizer-None-None</td>\n",
       "    </tr>\n",
       "    <tr>\n",
       "      <th>2</th>\n",
       "      <td>28.495104</td>\n",
       "      <td>0.132443</td>\n",
       "      <td>0.927260</td>\n",
       "      <td>0.947984</td>\n",
       "      <td>0.927260</td>\n",
       "      <td>0.947984</td>\n",
       "      <td>0.927260</td>\n",
       "      <td>0.947984</td>\n",
       "      <td>LogisticRegression-TfidfVectorizer-None-None</td>\n",
       "    </tr>\n",
       "    <tr>\n",
       "      <th>3</th>\n",
       "      <td>32.815811</td>\n",
       "      <td>0.064173</td>\n",
       "      <td>0.928082</td>\n",
       "      <td>0.947673</td>\n",
       "      <td>0.928082</td>\n",
       "      <td>0.947673</td>\n",
       "      <td>0.928082</td>\n",
       "      <td>0.947673</td>\n",
       "      <td>LogisticRegression-TfidfVectorizer-None-None</td>\n",
       "    </tr>\n",
       "    <tr>\n",
       "      <th>4</th>\n",
       "      <td>31.320708</td>\n",
       "      <td>0.090329</td>\n",
       "      <td>0.927505</td>\n",
       "      <td>0.947701</td>\n",
       "      <td>0.927505</td>\n",
       "      <td>0.947701</td>\n",
       "      <td>0.927505</td>\n",
       "      <td>0.947701</td>\n",
       "      <td>LogisticRegression-TfidfVectorizer-None-None</td>\n",
       "    </tr>\n",
       "  </tbody>\n",
       "</table>\n",
       "</div>"
      ],
      "text/plain": [
       "     fit_time  score_time  test_f1_micro  train_f1_micro  \\\n",
       "0   99.096682    0.329122       0.923260        0.997389   \n",
       "1  102.115487    0.207664       0.924504        0.997328   \n",
       "2   98.839087    0.292253       0.923215        0.997361   \n",
       "3  102.811943    0.174171       0.925104        0.997550   \n",
       "4  102.263519    0.202864       0.924616        0.997555   \n",
       "0   29.846676    0.124908       0.929416        0.947268   \n",
       "1   32.565982    0.074890       0.926216        0.948134   \n",
       "2   28.495104    0.132443       0.927260        0.947984   \n",
       "3   32.815811    0.064173       0.928082        0.947673   \n",
       "4   31.320708    0.090329       0.927505        0.947701   \n",
       "\n",
       "   test_precision_micro  train_precision_micro  test_recall_micro  \\\n",
       "0              0.923260               0.997389           0.923260   \n",
       "1              0.924504               0.997328           0.924504   \n",
       "2              0.923215               0.997361           0.923215   \n",
       "3              0.925104               0.997550           0.925104   \n",
       "4              0.924616               0.997555           0.924616   \n",
       "0              0.929416               0.947268           0.929416   \n",
       "1              0.926216               0.948134           0.926216   \n",
       "2              0.927260               0.947984           0.927260   \n",
       "3              0.928082               0.947673           0.928082   \n",
       "4              0.927505               0.947701           0.927505   \n",
       "\n",
       "   train_recall_micro                                          meta  \n",
       "0            0.997389  LogisticRegression-CountVectorizer-None-None  \n",
       "1            0.997328  LogisticRegression-CountVectorizer-None-None  \n",
       "2            0.997361  LogisticRegression-CountVectorizer-None-None  \n",
       "3            0.997550  LogisticRegression-CountVectorizer-None-None  \n",
       "4            0.997555  LogisticRegression-CountVectorizer-None-None  \n",
       "0            0.947268  LogisticRegression-TfidfVectorizer-None-None  \n",
       "1            0.948134  LogisticRegression-TfidfVectorizer-None-None  \n",
       "2            0.947984  LogisticRegression-TfidfVectorizer-None-None  \n",
       "3            0.947673  LogisticRegression-TfidfVectorizer-None-None  \n",
       "4            0.947701  LogisticRegression-TfidfVectorizer-None-None  "
      ]
     },
     "execution_count": 7,
     "metadata": {},
     "output_type": "execute_result"
    }
   ],
   "source": [
    "analysis_df.head(10)"
   ]
  },
  {
   "cell_type": "code",
   "execution_count": 11,
   "metadata": {},
   "outputs": [
    {
     "output_type": "display_data",
     "data": {
      "text/plain": "<Figure size 720x504 with 1 Axes>",
      "image/svg+xml": "<?xml version=\"1.0\" encoding=\"utf-8\" standalone=\"no\"?>\n<!DOCTYPE svg PUBLIC \"-//W3C//DTD SVG 1.1//EN\"\n  \"http://www.w3.org/Graphics/SVG/1.1/DTD/svg11.dtd\">\n<!-- Created with matplotlib (https://matplotlib.org/) -->\n<svg height=\"425.554375pt\" version=\"1.1\" viewBox=\"0 0 871.39375 425.554375\" width=\"871.39375pt\" xmlns=\"http://www.w3.org/2000/svg\" xmlns:xlink=\"http://www.w3.org/1999/xlink\">\n <metadata>\n  <rdf:RDF xmlns:cc=\"http://creativecommons.org/ns#\" xmlns:dc=\"http://purl.org/dc/elements/1.1/\" xmlns:rdf=\"http://www.w3.org/1999/02/22-rdf-syntax-ns#\">\n   <cc:Work>\n    <dc:type rdf:resource=\"http://purl.org/dc/dcmitype/StillImage\"/>\n    <dc:date>2021-01-15T08:15:45.626742</dc:date>\n    <dc:format>image/svg+xml</dc:format>\n    <dc:creator>\n     <cc:Agent>\n      <dc:title>Matplotlib v3.3.3, https://matplotlib.org/</dc:title>\n     </cc:Agent>\n    </dc:creator>\n   </cc:Work>\n  </rdf:RDF>\n </metadata>\n <defs>\n  <style type=\"text/css\">*{stroke-linecap:butt;stroke-linejoin:round;}</style>\n </defs>\n <g id=\"figure_1\">\n  <g id=\"patch_1\">\n   <path d=\"M 0 425.554375 \nL 871.39375 425.554375 \nL 871.39375 0 \nL 0 0 \nz\n\" style=\"fill:none;\"/>\n  </g>\n  <g id=\"axes_1\">\n   <g id=\"patch_2\">\n    <path d=\"M 306.19375 387.72 \nL 864.19375 387.72 \nL 864.19375 7.2 \nL 306.19375 7.2 \nz\n\" style=\"fill:#ffffff;\"/>\n   </g>\n   <g id=\"patch_3\">\n    <path clip-path=\"url(#p5bdf904d56)\" d=\"M 773.957286 12.636 \nL 773.957286 56.124 \nL 788.24336 56.124 \nL 788.24336 12.636 \nL 773.957286 12.636 \nz\n\" style=\"fill:#3274a1;stroke:#3d3d3d;stroke-linejoin:miter;stroke-width:1.5;\"/>\n   </g>\n   <g id=\"patch_4\">\n    <path clip-path=\"url(#p5bdf904d56)\" d=\"M 816.112914 66.996 \nL 816.112914 110.484 \nL 824.778238 110.484 \nL 824.778238 66.996 \nL 816.112914 66.996 \nz\n\" style=\"fill:#e1812c;stroke:#3d3d3d;stroke-linejoin:miter;stroke-width:1.5;\"/>\n   </g>\n   <g id=\"patch_5\">\n    <path clip-path=\"url(#p5bdf904d56)\" d=\"M 783.559401 121.356 \nL 783.559401 164.844 \nL 807.213392 164.844 \nL 807.213392 121.356 \nL 783.559401 121.356 \nz\n\" style=\"fill:#3a923a;stroke:#3d3d3d;stroke-linejoin:miter;stroke-width:1.5;\"/>\n   </g>\n   <g id=\"patch_6\">\n    <path clip-path=\"url(#p5bdf904d56)\" d=\"M 816.347112 175.716 \nL 816.347112 219.204 \nL 824.54404 219.204 \nL 824.54404 175.716 \nL 816.347112 175.716 \nz\n\" style=\"fill:#c03d3e;stroke:#3d3d3d;stroke-linejoin:miter;stroke-width:1.5;\"/>\n   </g>\n   <g id=\"patch_7\">\n    <path clip-path=\"url(#p5bdf904d56)\" d=\"M 457.321677 230.076 \nL 457.321677 273.564 \nL 467.860585 273.564 \nL 467.860585 230.076 \nL 457.321677 230.076 \nz\n\" style=\"fill:#9372b2;stroke:#3d3d3d;stroke-linejoin:miter;stroke-width:1.5;\"/>\n   </g>\n   <g id=\"patch_8\">\n    <path clip-path=\"url(#p5bdf904d56)\" d=\"M 600.650814 284.436 \nL 600.650814 327.924 \nL 628.520368 327.924 \nL 628.520368 284.436 \nL 600.650814 284.436 \nz\n\" style=\"fill:#845b53;stroke:#3d3d3d;stroke-linejoin:miter;stroke-width:1.5;\"/>\n   </g>\n   <g id=\"patch_9\">\n    <path clip-path=\"url(#p5bdf904d56)\" d=\"M 332.728376 338.796 \nL 332.728376 382.284 \nL 356.850763 382.284 \nL 356.850763 338.796 \nL 332.728376 338.796 \nz\n\" style=\"fill:#d684bd;stroke:#3d3d3d;stroke-linejoin:miter;stroke-width:1.5;\"/>\n   </g>\n   <g id=\"matplotlib.axis_1\">\n    <g id=\"xtick_1\">\n     <g id=\"line2d_1\">\n      <defs>\n       <path d=\"M 0 0 \nL 0 3.5 \n\" id=\"mf5320287d2\" style=\"stroke:#000000;stroke-width:0.8;\"/>\n      </defs>\n      <g>\n       <use style=\"stroke:#000000;stroke-width:0.8;\" x=\"318.086321\" xlink:href=\"#mf5320287d2\" y=\"387.72\"/>\n      </g>\n     </g>\n     <g id=\"text_1\">\n      <!-- 0.88 -->\n      <g transform=\"translate(306.953509 402.318437)scale(0.1 -0.1)\">\n       <defs>\n        <path d=\"M 31.78125 66.40625 \nQ 24.171875 66.40625 20.328125 58.90625 \nQ 16.5 51.421875 16.5 36.375 \nQ 16.5 21.390625 20.328125 13.890625 \nQ 24.171875 6.390625 31.78125 6.390625 \nQ 39.453125 6.390625 43.28125 13.890625 \nQ 47.125 21.390625 47.125 36.375 \nQ 47.125 51.421875 43.28125 58.90625 \nQ 39.453125 66.40625 31.78125 66.40625 \nz\nM 31.78125 74.21875 \nQ 44.046875 74.21875 50.515625 64.515625 \nQ 56.984375 54.828125 56.984375 36.375 \nQ 56.984375 17.96875 50.515625 8.265625 \nQ 44.046875 -1.421875 31.78125 -1.421875 \nQ 19.53125 -1.421875 13.0625 8.265625 \nQ 6.59375 17.96875 6.59375 36.375 \nQ 6.59375 54.828125 13.0625 64.515625 \nQ 19.53125 74.21875 31.78125 74.21875 \nz\n\" id=\"DejaVuSans-48\"/>\n        <path d=\"M 10.6875 12.40625 \nL 21 12.40625 \nL 21 0 \nL 10.6875 0 \nz\n\" id=\"DejaVuSans-46\"/>\n        <path d=\"M 31.78125 34.625 \nQ 24.75 34.625 20.71875 30.859375 \nQ 16.703125 27.09375 16.703125 20.515625 \nQ 16.703125 13.921875 20.71875 10.15625 \nQ 24.75 6.390625 31.78125 6.390625 \nQ 38.8125 6.390625 42.859375 10.171875 \nQ 46.921875 13.96875 46.921875 20.515625 \nQ 46.921875 27.09375 42.890625 30.859375 \nQ 38.875 34.625 31.78125 34.625 \nz\nM 21.921875 38.8125 \nQ 15.578125 40.375 12.03125 44.71875 \nQ 8.5 49.078125 8.5 55.328125 \nQ 8.5 64.0625 14.71875 69.140625 \nQ 20.953125 74.21875 31.78125 74.21875 \nQ 42.671875 74.21875 48.875 69.140625 \nQ 55.078125 64.0625 55.078125 55.328125 \nQ 55.078125 49.078125 51.53125 44.71875 \nQ 48 40.375 41.703125 38.8125 \nQ 48.828125 37.15625 52.796875 32.3125 \nQ 56.78125 27.484375 56.78125 20.515625 \nQ 56.78125 9.90625 50.3125 4.234375 \nQ 43.84375 -1.421875 31.78125 -1.421875 \nQ 19.734375 -1.421875 13.25 4.234375 \nQ 6.78125 9.90625 6.78125 20.515625 \nQ 6.78125 27.484375 10.78125 32.3125 \nQ 14.796875 37.15625 21.921875 38.8125 \nz\nM 18.3125 54.390625 \nQ 18.3125 48.734375 21.84375 45.5625 \nQ 25.390625 42.390625 31.78125 42.390625 \nQ 38.140625 42.390625 41.71875 45.5625 \nQ 45.3125 48.734375 45.3125 54.390625 \nQ 45.3125 60.0625 41.71875 63.234375 \nQ 38.140625 66.40625 31.78125 66.40625 \nQ 25.390625 66.40625 21.84375 63.234375 \nQ 18.3125 60.0625 18.3125 54.390625 \nz\n\" id=\"DejaVuSans-56\"/>\n       </defs>\n       <use xlink:href=\"#DejaVuSans-48\"/>\n       <use x=\"63.623047\" xlink:href=\"#DejaVuSans-46\"/>\n       <use x=\"95.410156\" xlink:href=\"#DejaVuSans-56\"/>\n       <use x=\"159.033203\" xlink:href=\"#DejaVuSans-56\"/>\n      </g>\n     </g>\n    </g>\n    <g id=\"xtick_2\">\n     <g id=\"line2d_2\">\n      <g>\n       <use style=\"stroke:#000000;stroke-width:0.8;\" x=\"423.466024\" xlink:href=\"#mf5320287d2\" y=\"387.72\"/>\n      </g>\n     </g>\n     <g id=\"text_2\">\n      <!-- 0.89 -->\n      <g transform=\"translate(412.333211 402.318437)scale(0.1 -0.1)\">\n       <defs>\n        <path d=\"M 10.984375 1.515625 \nL 10.984375 10.5 \nQ 14.703125 8.734375 18.5 7.8125 \nQ 22.3125 6.890625 25.984375 6.890625 \nQ 35.75 6.890625 40.890625 13.453125 \nQ 46.046875 20.015625 46.78125 33.40625 \nQ 43.953125 29.203125 39.59375 26.953125 \nQ 35.25 24.703125 29.984375 24.703125 \nQ 19.046875 24.703125 12.671875 31.3125 \nQ 6.296875 37.9375 6.296875 49.421875 \nQ 6.296875 60.640625 12.9375 67.421875 \nQ 19.578125 74.21875 30.609375 74.21875 \nQ 43.265625 74.21875 49.921875 64.515625 \nQ 56.59375 54.828125 56.59375 36.375 \nQ 56.59375 19.140625 48.40625 8.859375 \nQ 40.234375 -1.421875 26.421875 -1.421875 \nQ 22.703125 -1.421875 18.890625 -0.6875 \nQ 15.09375 0.046875 10.984375 1.515625 \nz\nM 30.609375 32.421875 \nQ 37.25 32.421875 41.125 36.953125 \nQ 45.015625 41.5 45.015625 49.421875 \nQ 45.015625 57.28125 41.125 61.84375 \nQ 37.25 66.40625 30.609375 66.40625 \nQ 23.96875 66.40625 20.09375 61.84375 \nQ 16.21875 57.28125 16.21875 49.421875 \nQ 16.21875 41.5 20.09375 36.953125 \nQ 23.96875 32.421875 30.609375 32.421875 \nz\n\" id=\"DejaVuSans-57\"/>\n       </defs>\n       <use xlink:href=\"#DejaVuSans-48\"/>\n       <use x=\"63.623047\" xlink:href=\"#DejaVuSans-46\"/>\n       <use x=\"95.410156\" xlink:href=\"#DejaVuSans-56\"/>\n       <use x=\"159.033203\" xlink:href=\"#DejaVuSans-57\"/>\n      </g>\n     </g>\n    </g>\n    <g id=\"xtick_3\">\n     <g id=\"line2d_3\">\n      <g>\n       <use style=\"stroke:#000000;stroke-width:0.8;\" x=\"528.845727\" xlink:href=\"#mf5320287d2\" y=\"387.72\"/>\n      </g>\n     </g>\n     <g id=\"text_3\">\n      <!-- 0.90 -->\n      <g transform=\"translate(517.712914 402.318437)scale(0.1 -0.1)\">\n       <use xlink:href=\"#DejaVuSans-48\"/>\n       <use x=\"63.623047\" xlink:href=\"#DejaVuSans-46\"/>\n       <use x=\"95.410156\" xlink:href=\"#DejaVuSans-57\"/>\n       <use x=\"159.033203\" xlink:href=\"#DejaVuSans-48\"/>\n      </g>\n     </g>\n    </g>\n    <g id=\"xtick_4\">\n     <g id=\"line2d_4\">\n      <g>\n       <use style=\"stroke:#000000;stroke-width:0.8;\" x=\"634.22543\" xlink:href=\"#mf5320287d2\" y=\"387.72\"/>\n      </g>\n     </g>\n     <g id=\"text_4\">\n      <!-- 0.91 -->\n      <g transform=\"translate(623.092617 402.318437)scale(0.1 -0.1)\">\n       <defs>\n        <path d=\"M 12.40625 8.296875 \nL 28.515625 8.296875 \nL 28.515625 63.921875 \nL 10.984375 60.40625 \nL 10.984375 69.390625 \nL 28.421875 72.90625 \nL 38.28125 72.90625 \nL 38.28125 8.296875 \nL 54.390625 8.296875 \nL 54.390625 0 \nL 12.40625 0 \nz\n\" id=\"DejaVuSans-49\"/>\n       </defs>\n       <use xlink:href=\"#DejaVuSans-48\"/>\n       <use x=\"63.623047\" xlink:href=\"#DejaVuSans-46\"/>\n       <use x=\"95.410156\" xlink:href=\"#DejaVuSans-57\"/>\n       <use x=\"159.033203\" xlink:href=\"#DejaVuSans-49\"/>\n      </g>\n     </g>\n    </g>\n    <g id=\"xtick_5\">\n     <g id=\"line2d_5\">\n      <g>\n       <use style=\"stroke:#000000;stroke-width:0.8;\" x=\"739.605133\" xlink:href=\"#mf5320287d2\" y=\"387.72\"/>\n      </g>\n     </g>\n     <g id=\"text_5\">\n      <!-- 0.92 -->\n      <g transform=\"translate(728.47232 402.318437)scale(0.1 -0.1)\">\n       <defs>\n        <path d=\"M 19.1875 8.296875 \nL 53.609375 8.296875 \nL 53.609375 0 \nL 7.328125 0 \nL 7.328125 8.296875 \nQ 12.9375 14.109375 22.625 23.890625 \nQ 32.328125 33.6875 34.8125 36.53125 \nQ 39.546875 41.84375 41.421875 45.53125 \nQ 43.3125 49.21875 43.3125 52.78125 \nQ 43.3125 58.59375 39.234375 62.25 \nQ 35.15625 65.921875 28.609375 65.921875 \nQ 23.96875 65.921875 18.8125 64.3125 \nQ 13.671875 62.703125 7.8125 59.421875 \nL 7.8125 69.390625 \nQ 13.765625 71.78125 18.9375 73 \nQ 24.125 74.21875 28.421875 74.21875 \nQ 39.75 74.21875 46.484375 68.546875 \nQ 53.21875 62.890625 53.21875 53.421875 \nQ 53.21875 48.921875 51.53125 44.890625 \nQ 49.859375 40.875 45.40625 35.40625 \nQ 44.1875 33.984375 37.640625 27.21875 \nQ 31.109375 20.453125 19.1875 8.296875 \nz\n\" id=\"DejaVuSans-50\"/>\n       </defs>\n       <use xlink:href=\"#DejaVuSans-48\"/>\n       <use x=\"63.623047\" xlink:href=\"#DejaVuSans-46\"/>\n       <use x=\"95.410156\" xlink:href=\"#DejaVuSans-57\"/>\n       <use x=\"159.033203\" xlink:href=\"#DejaVuSans-50\"/>\n      </g>\n     </g>\n    </g>\n    <g id=\"xtick_6\">\n     <g id=\"line2d_6\">\n      <g>\n       <use style=\"stroke:#000000;stroke-width:0.8;\" x=\"844.984835\" xlink:href=\"#mf5320287d2\" y=\"387.72\"/>\n      </g>\n     </g>\n     <g id=\"text_6\">\n      <!-- 0.93 -->\n      <g transform=\"translate(833.852023 402.318437)scale(0.1 -0.1)\">\n       <defs>\n        <path d=\"M 40.578125 39.3125 \nQ 47.65625 37.796875 51.625 33 \nQ 55.609375 28.21875 55.609375 21.1875 \nQ 55.609375 10.40625 48.1875 4.484375 \nQ 40.765625 -1.421875 27.09375 -1.421875 \nQ 22.515625 -1.421875 17.65625 -0.515625 \nQ 12.796875 0.390625 7.625 2.203125 \nL 7.625 11.71875 \nQ 11.71875 9.328125 16.59375 8.109375 \nQ 21.484375 6.890625 26.8125 6.890625 \nQ 36.078125 6.890625 40.9375 10.546875 \nQ 45.796875 14.203125 45.796875 21.1875 \nQ 45.796875 27.640625 41.28125 31.265625 \nQ 36.765625 34.90625 28.71875 34.90625 \nL 20.21875 34.90625 \nL 20.21875 43.015625 \nL 29.109375 43.015625 \nQ 36.375 43.015625 40.234375 45.921875 \nQ 44.09375 48.828125 44.09375 54.296875 \nQ 44.09375 59.90625 40.109375 62.90625 \nQ 36.140625 65.921875 28.71875 65.921875 \nQ 24.65625 65.921875 20.015625 65.03125 \nQ 15.375 64.15625 9.8125 62.3125 \nL 9.8125 71.09375 \nQ 15.4375 72.65625 20.34375 73.4375 \nQ 25.25 74.21875 29.59375 74.21875 \nQ 40.828125 74.21875 47.359375 69.109375 \nQ 53.90625 64.015625 53.90625 55.328125 \nQ 53.90625 49.265625 50.4375 45.09375 \nQ 46.96875 40.921875 40.578125 39.3125 \nz\n\" id=\"DejaVuSans-51\"/>\n       </defs>\n       <use xlink:href=\"#DejaVuSans-48\"/>\n       <use x=\"63.623047\" xlink:href=\"#DejaVuSans-46\"/>\n       <use x=\"95.410156\" xlink:href=\"#DejaVuSans-57\"/>\n       <use x=\"159.033203\" xlink:href=\"#DejaVuSans-51\"/>\n      </g>\n     </g>\n    </g>\n    <g id=\"text_7\">\n     <!-- test_f1_micro -->\n     <g transform=\"translate(551.639844 415.996562)scale(0.1 -0.1)\">\n      <defs>\n       <path d=\"M 18.3125 70.21875 \nL 18.3125 54.6875 \nL 36.8125 54.6875 \nL 36.8125 47.703125 \nL 18.3125 47.703125 \nL 18.3125 18.015625 \nQ 18.3125 11.328125 20.140625 9.421875 \nQ 21.96875 7.515625 27.59375 7.515625 \nL 36.8125 7.515625 \nL 36.8125 0 \nL 27.59375 0 \nQ 17.1875 0 13.234375 3.875 \nQ 9.28125 7.765625 9.28125 18.015625 \nL 9.28125 47.703125 \nL 2.6875 47.703125 \nL 2.6875 54.6875 \nL 9.28125 54.6875 \nL 9.28125 70.21875 \nz\n\" id=\"DejaVuSans-116\"/>\n       <path d=\"M 56.203125 29.59375 \nL 56.203125 25.203125 \nL 14.890625 25.203125 \nQ 15.484375 15.921875 20.484375 11.0625 \nQ 25.484375 6.203125 34.421875 6.203125 \nQ 39.59375 6.203125 44.453125 7.46875 \nQ 49.3125 8.734375 54.109375 11.28125 \nL 54.109375 2.78125 \nQ 49.265625 0.734375 44.1875 -0.34375 \nQ 39.109375 -1.421875 33.890625 -1.421875 \nQ 20.796875 -1.421875 13.15625 6.1875 \nQ 5.515625 13.8125 5.515625 26.8125 \nQ 5.515625 40.234375 12.765625 48.109375 \nQ 20.015625 56 32.328125 56 \nQ 43.359375 56 49.78125 48.890625 \nQ 56.203125 41.796875 56.203125 29.59375 \nz\nM 47.21875 32.234375 \nQ 47.125 39.59375 43.09375 43.984375 \nQ 39.0625 48.390625 32.421875 48.390625 \nQ 24.90625 48.390625 20.390625 44.140625 \nQ 15.875 39.890625 15.1875 32.171875 \nz\n\" id=\"DejaVuSans-101\"/>\n       <path d=\"M 44.28125 53.078125 \nL 44.28125 44.578125 \nQ 40.484375 46.53125 36.375 47.5 \nQ 32.28125 48.484375 27.875 48.484375 \nQ 21.1875 48.484375 17.84375 46.4375 \nQ 14.5 44.390625 14.5 40.28125 \nQ 14.5 37.15625 16.890625 35.375 \nQ 19.28125 33.59375 26.515625 31.984375 \nL 29.59375 31.296875 \nQ 39.15625 29.25 43.1875 25.515625 \nQ 47.21875 21.78125 47.21875 15.09375 \nQ 47.21875 7.46875 41.1875 3.015625 \nQ 35.15625 -1.421875 24.609375 -1.421875 \nQ 20.21875 -1.421875 15.453125 -0.5625 \nQ 10.6875 0.296875 5.421875 2 \nL 5.421875 11.28125 \nQ 10.40625 8.6875 15.234375 7.390625 \nQ 20.0625 6.109375 24.8125 6.109375 \nQ 31.15625 6.109375 34.5625 8.28125 \nQ 37.984375 10.453125 37.984375 14.40625 \nQ 37.984375 18.0625 35.515625 20.015625 \nQ 33.0625 21.96875 24.703125 23.78125 \nL 21.578125 24.515625 \nQ 13.234375 26.265625 9.515625 29.90625 \nQ 5.8125 33.546875 5.8125 39.890625 \nQ 5.8125 47.609375 11.28125 51.796875 \nQ 16.75 56 26.8125 56 \nQ 31.78125 56 36.171875 55.265625 \nQ 40.578125 54.546875 44.28125 53.078125 \nz\n\" id=\"DejaVuSans-115\"/>\n       <path d=\"M 50.984375 -16.609375 \nL 50.984375 -23.578125 \nL -0.984375 -23.578125 \nL -0.984375 -16.609375 \nz\n\" id=\"DejaVuSans-95\"/>\n       <path d=\"M 37.109375 75.984375 \nL 37.109375 68.5 \nL 28.515625 68.5 \nQ 23.6875 68.5 21.796875 66.546875 \nQ 19.921875 64.59375 19.921875 59.515625 \nL 19.921875 54.6875 \nL 34.71875 54.6875 \nL 34.71875 47.703125 \nL 19.921875 47.703125 \nL 19.921875 0 \nL 10.890625 0 \nL 10.890625 47.703125 \nL 2.296875 47.703125 \nL 2.296875 54.6875 \nL 10.890625 54.6875 \nL 10.890625 58.5 \nQ 10.890625 67.625 15.140625 71.796875 \nQ 19.390625 75.984375 28.609375 75.984375 \nz\n\" id=\"DejaVuSans-102\"/>\n       <path d=\"M 52 44.1875 \nQ 55.375 50.25 60.0625 53.125 \nQ 64.75 56 71.09375 56 \nQ 79.640625 56 84.28125 50.015625 \nQ 88.921875 44.046875 88.921875 33.015625 \nL 88.921875 0 \nL 79.890625 0 \nL 79.890625 32.71875 \nQ 79.890625 40.578125 77.09375 44.375 \nQ 74.3125 48.1875 68.609375 48.1875 \nQ 61.625 48.1875 57.5625 43.546875 \nQ 53.515625 38.921875 53.515625 30.90625 \nL 53.515625 0 \nL 44.484375 0 \nL 44.484375 32.71875 \nQ 44.484375 40.625 41.703125 44.40625 \nQ 38.921875 48.1875 33.109375 48.1875 \nQ 26.21875 48.1875 22.15625 43.53125 \nQ 18.109375 38.875 18.109375 30.90625 \nL 18.109375 0 \nL 9.078125 0 \nL 9.078125 54.6875 \nL 18.109375 54.6875 \nL 18.109375 46.1875 \nQ 21.1875 51.21875 25.484375 53.609375 \nQ 29.78125 56 35.6875 56 \nQ 41.65625 56 45.828125 52.96875 \nQ 50 49.953125 52 44.1875 \nz\n\" id=\"DejaVuSans-109\"/>\n       <path d=\"M 9.421875 54.6875 \nL 18.40625 54.6875 \nL 18.40625 0 \nL 9.421875 0 \nz\nM 9.421875 75.984375 \nL 18.40625 75.984375 \nL 18.40625 64.59375 \nL 9.421875 64.59375 \nz\n\" id=\"DejaVuSans-105\"/>\n       <path d=\"M 48.78125 52.59375 \nL 48.78125 44.1875 \nQ 44.96875 46.296875 41.140625 47.34375 \nQ 37.3125 48.390625 33.40625 48.390625 \nQ 24.65625 48.390625 19.8125 42.84375 \nQ 14.984375 37.3125 14.984375 27.296875 \nQ 14.984375 17.28125 19.8125 11.734375 \nQ 24.65625 6.203125 33.40625 6.203125 \nQ 37.3125 6.203125 41.140625 7.25 \nQ 44.96875 8.296875 48.78125 10.40625 \nL 48.78125 2.09375 \nQ 45.015625 0.34375 40.984375 -0.53125 \nQ 36.96875 -1.421875 32.421875 -1.421875 \nQ 20.0625 -1.421875 12.78125 6.34375 \nQ 5.515625 14.109375 5.515625 27.296875 \nQ 5.515625 40.671875 12.859375 48.328125 \nQ 20.21875 56 33.015625 56 \nQ 37.15625 56 41.109375 55.140625 \nQ 45.0625 54.296875 48.78125 52.59375 \nz\n\" id=\"DejaVuSans-99\"/>\n       <path d=\"M 41.109375 46.296875 \nQ 39.59375 47.171875 37.8125 47.578125 \nQ 36.03125 48 33.890625 48 \nQ 26.265625 48 22.1875 43.046875 \nQ 18.109375 38.09375 18.109375 28.8125 \nL 18.109375 0 \nL 9.078125 0 \nL 9.078125 54.6875 \nL 18.109375 54.6875 \nL 18.109375 46.1875 \nQ 20.953125 51.171875 25.484375 53.578125 \nQ 30.03125 56 36.53125 56 \nQ 37.453125 56 38.578125 55.875 \nQ 39.703125 55.765625 41.0625 55.515625 \nz\n\" id=\"DejaVuSans-114\"/>\n       <path d=\"M 30.609375 48.390625 \nQ 23.390625 48.390625 19.1875 42.75 \nQ 14.984375 37.109375 14.984375 27.296875 \nQ 14.984375 17.484375 19.15625 11.84375 \nQ 23.34375 6.203125 30.609375 6.203125 \nQ 37.796875 6.203125 41.984375 11.859375 \nQ 46.1875 17.53125 46.1875 27.296875 \nQ 46.1875 37.015625 41.984375 42.703125 \nQ 37.796875 48.390625 30.609375 48.390625 \nz\nM 30.609375 56 \nQ 42.328125 56 49.015625 48.375 \nQ 55.71875 40.765625 55.71875 27.296875 \nQ 55.71875 13.875 49.015625 6.21875 \nQ 42.328125 -1.421875 30.609375 -1.421875 \nQ 18.84375 -1.421875 12.171875 6.21875 \nQ 5.515625 13.875 5.515625 27.296875 \nQ 5.515625 40.765625 12.171875 48.375 \nQ 18.84375 56 30.609375 56 \nz\n\" id=\"DejaVuSans-111\"/>\n      </defs>\n      <use xlink:href=\"#DejaVuSans-116\"/>\n      <use x=\"39.208984\" xlink:href=\"#DejaVuSans-101\"/>\n      <use x=\"100.732422\" xlink:href=\"#DejaVuSans-115\"/>\n      <use x=\"152.832031\" xlink:href=\"#DejaVuSans-116\"/>\n      <use x=\"192.041016\" xlink:href=\"#DejaVuSans-95\"/>\n      <use x=\"242.041016\" xlink:href=\"#DejaVuSans-102\"/>\n      <use x=\"277.246094\" xlink:href=\"#DejaVuSans-49\"/>\n      <use x=\"340.869141\" xlink:href=\"#DejaVuSans-95\"/>\n      <use x=\"390.869141\" xlink:href=\"#DejaVuSans-109\"/>\n      <use x=\"488.28125\" xlink:href=\"#DejaVuSans-105\"/>\n      <use x=\"516.064453\" xlink:href=\"#DejaVuSans-99\"/>\n      <use x=\"571.044922\" xlink:href=\"#DejaVuSans-114\"/>\n      <use x=\"609.908203\" xlink:href=\"#DejaVuSans-111\"/>\n     </g>\n    </g>\n   </g>\n   <g id=\"matplotlib.axis_2\">\n    <g id=\"ytick_1\">\n     <g id=\"line2d_7\">\n      <defs>\n       <path d=\"M 0 0 \nL -3.5 0 \n\" id=\"m91b2bb4a05\" style=\"stroke:#000000;stroke-width:0.8;\"/>\n      </defs>\n      <g>\n       <use style=\"stroke:#000000;stroke-width:0.8;\" x=\"306.19375\" xlink:href=\"#m91b2bb4a05\" y=\"34.38\"/>\n      </g>\n     </g>\n     <g id=\"text_8\">\n      <!-- LogisticRegression-CountVectorizer-None-None -->\n      <g transform=\"translate(64.23125 38.179219)scale(0.1 -0.1)\">\n       <defs>\n        <path d=\"M 9.8125 72.90625 \nL 19.671875 72.90625 \nL 19.671875 8.296875 \nL 55.171875 8.296875 \nL 55.171875 0 \nL 9.8125 0 \nz\n\" id=\"DejaVuSans-76\"/>\n        <path d=\"M 45.40625 27.984375 \nQ 45.40625 37.75 41.375 43.109375 \nQ 37.359375 48.484375 30.078125 48.484375 \nQ 22.859375 48.484375 18.828125 43.109375 \nQ 14.796875 37.75 14.796875 27.984375 \nQ 14.796875 18.265625 18.828125 12.890625 \nQ 22.859375 7.515625 30.078125 7.515625 \nQ 37.359375 7.515625 41.375 12.890625 \nQ 45.40625 18.265625 45.40625 27.984375 \nz\nM 54.390625 6.78125 \nQ 54.390625 -7.171875 48.1875 -13.984375 \nQ 42 -20.796875 29.203125 -20.796875 \nQ 24.46875 -20.796875 20.265625 -20.09375 \nQ 16.0625 -19.390625 12.109375 -17.921875 \nL 12.109375 -9.1875 \nQ 16.0625 -11.328125 19.921875 -12.34375 \nQ 23.78125 -13.375 27.78125 -13.375 \nQ 36.625 -13.375 41.015625 -8.765625 \nQ 45.40625 -4.15625 45.40625 5.171875 \nL 45.40625 9.625 \nQ 42.625 4.78125 38.28125 2.390625 \nQ 33.9375 0 27.875 0 \nQ 17.828125 0 11.671875 7.65625 \nQ 5.515625 15.328125 5.515625 27.984375 \nQ 5.515625 40.671875 11.671875 48.328125 \nQ 17.828125 56 27.875 56 \nQ 33.9375 56 38.28125 53.609375 \nQ 42.625 51.21875 45.40625 46.390625 \nL 45.40625 54.6875 \nL 54.390625 54.6875 \nz\n\" id=\"DejaVuSans-103\"/>\n        <path d=\"M 44.390625 34.1875 \nQ 47.5625 33.109375 50.5625 29.59375 \nQ 53.5625 26.078125 56.59375 19.921875 \nL 66.609375 0 \nL 56 0 \nL 46.6875 18.703125 \nQ 43.0625 26.03125 39.671875 28.421875 \nQ 36.28125 30.8125 30.421875 30.8125 \nL 19.671875 30.8125 \nL 19.671875 0 \nL 9.8125 0 \nL 9.8125 72.90625 \nL 32.078125 72.90625 \nQ 44.578125 72.90625 50.734375 67.671875 \nQ 56.890625 62.453125 56.890625 51.90625 \nQ 56.890625 45.015625 53.6875 40.46875 \nQ 50.484375 35.9375 44.390625 34.1875 \nz\nM 19.671875 64.796875 \nL 19.671875 38.921875 \nL 32.078125 38.921875 \nQ 39.203125 38.921875 42.84375 42.21875 \nQ 46.484375 45.515625 46.484375 51.90625 \nQ 46.484375 58.296875 42.84375 61.546875 \nQ 39.203125 64.796875 32.078125 64.796875 \nz\n\" id=\"DejaVuSans-82\"/>\n        <path d=\"M 54.890625 33.015625 \nL 54.890625 0 \nL 45.90625 0 \nL 45.90625 32.71875 \nQ 45.90625 40.484375 42.875 44.328125 \nQ 39.84375 48.1875 33.796875 48.1875 \nQ 26.515625 48.1875 22.3125 43.546875 \nQ 18.109375 38.921875 18.109375 30.90625 \nL 18.109375 0 \nL 9.078125 0 \nL 9.078125 54.6875 \nL 18.109375 54.6875 \nL 18.109375 46.1875 \nQ 21.34375 51.125 25.703125 53.5625 \nQ 30.078125 56 35.796875 56 \nQ 45.21875 56 50.046875 50.171875 \nQ 54.890625 44.34375 54.890625 33.015625 \nz\n\" id=\"DejaVuSans-110\"/>\n        <path d=\"M 4.890625 31.390625 \nL 31.203125 31.390625 \nL 31.203125 23.390625 \nL 4.890625 23.390625 \nz\n\" id=\"DejaVuSans-45\"/>\n        <path d=\"M 64.40625 67.28125 \nL 64.40625 56.890625 \nQ 59.421875 61.53125 53.78125 63.8125 \nQ 48.140625 66.109375 41.796875 66.109375 \nQ 29.296875 66.109375 22.65625 58.46875 \nQ 16.015625 50.828125 16.015625 36.375 \nQ 16.015625 21.96875 22.65625 14.328125 \nQ 29.296875 6.6875 41.796875 6.6875 \nQ 48.140625 6.6875 53.78125 8.984375 \nQ 59.421875 11.28125 64.40625 15.921875 \nL 64.40625 5.609375 \nQ 59.234375 2.09375 53.4375 0.328125 \nQ 47.65625 -1.421875 41.21875 -1.421875 \nQ 24.65625 -1.421875 15.125 8.703125 \nQ 5.609375 18.84375 5.609375 36.375 \nQ 5.609375 53.953125 15.125 64.078125 \nQ 24.65625 74.21875 41.21875 74.21875 \nQ 47.75 74.21875 53.53125 72.484375 \nQ 59.328125 70.75 64.40625 67.28125 \nz\n\" id=\"DejaVuSans-67\"/>\n        <path d=\"M 8.5 21.578125 \nL 8.5 54.6875 \nL 17.484375 54.6875 \nL 17.484375 21.921875 \nQ 17.484375 14.15625 20.5 10.265625 \nQ 23.53125 6.390625 29.59375 6.390625 \nQ 36.859375 6.390625 41.078125 11.03125 \nQ 45.3125 15.671875 45.3125 23.6875 \nL 45.3125 54.6875 \nL 54.296875 54.6875 \nL 54.296875 0 \nL 45.3125 0 \nL 45.3125 8.40625 \nQ 42.046875 3.421875 37.71875 1 \nQ 33.40625 -1.421875 27.6875 -1.421875 \nQ 18.265625 -1.421875 13.375 4.4375 \nQ 8.5 10.296875 8.5 21.578125 \nz\nM 31.109375 56 \nz\n\" id=\"DejaVuSans-117\"/>\n        <path d=\"M 28.609375 0 \nL 0.78125 72.90625 \nL 11.078125 72.90625 \nL 34.1875 11.53125 \nL 57.328125 72.90625 \nL 67.578125 72.90625 \nL 39.796875 0 \nz\n\" id=\"DejaVuSans-86\"/>\n        <path d=\"M 5.515625 54.6875 \nL 48.1875 54.6875 \nL 48.1875 46.484375 \nL 14.40625 7.171875 \nL 48.1875 7.171875 \nL 48.1875 0 \nL 4.296875 0 \nL 4.296875 8.203125 \nL 38.09375 47.515625 \nL 5.515625 47.515625 \nz\n\" id=\"DejaVuSans-122\"/>\n        <path d=\"M 9.8125 72.90625 \nL 23.09375 72.90625 \nL 55.421875 11.921875 \nL 55.421875 72.90625 \nL 64.984375 72.90625 \nL 64.984375 0 \nL 51.703125 0 \nL 19.390625 60.984375 \nL 19.390625 0 \nL 9.8125 0 \nz\n\" id=\"DejaVuSans-78\"/>\n       </defs>\n       <use xlink:href=\"#DejaVuSans-76\"/>\n       <use x=\"53.962891\" xlink:href=\"#DejaVuSans-111\"/>\n       <use x=\"115.144531\" xlink:href=\"#DejaVuSans-103\"/>\n       <use x=\"178.621094\" xlink:href=\"#DejaVuSans-105\"/>\n       <use x=\"206.404297\" xlink:href=\"#DejaVuSans-115\"/>\n       <use x=\"258.503906\" xlink:href=\"#DejaVuSans-116\"/>\n       <use x=\"297.712891\" xlink:href=\"#DejaVuSans-105\"/>\n       <use x=\"325.496094\" xlink:href=\"#DejaVuSans-99\"/>\n       <use x=\"380.476562\" xlink:href=\"#DejaVuSans-82\"/>\n       <use x=\"445.458984\" xlink:href=\"#DejaVuSans-101\"/>\n       <use x=\"506.982422\" xlink:href=\"#DejaVuSans-103\"/>\n       <use x=\"570.458984\" xlink:href=\"#DejaVuSans-114\"/>\n       <use x=\"609.322266\" xlink:href=\"#DejaVuSans-101\"/>\n       <use x=\"670.845703\" xlink:href=\"#DejaVuSans-115\"/>\n       <use x=\"722.945312\" xlink:href=\"#DejaVuSans-115\"/>\n       <use x=\"775.044922\" xlink:href=\"#DejaVuSans-105\"/>\n       <use x=\"802.828125\" xlink:href=\"#DejaVuSans-111\"/>\n       <use x=\"864.009766\" xlink:href=\"#DejaVuSans-110\"/>\n       <use x=\"927.388672\" xlink:href=\"#DejaVuSans-45\"/>\n       <use x=\"963.472656\" xlink:href=\"#DejaVuSans-67\"/>\n       <use x=\"1033.296875\" xlink:href=\"#DejaVuSans-111\"/>\n       <use x=\"1094.478516\" xlink:href=\"#DejaVuSans-117\"/>\n       <use x=\"1157.857422\" xlink:href=\"#DejaVuSans-110\"/>\n       <use x=\"1221.236328\" xlink:href=\"#DejaVuSans-116\"/>\n       <use x=\"1260.445312\" xlink:href=\"#DejaVuSans-86\"/>\n       <use x=\"1321.103516\" xlink:href=\"#DejaVuSans-101\"/>\n       <use x=\"1382.626953\" xlink:href=\"#DejaVuSans-99\"/>\n       <use x=\"1437.607422\" xlink:href=\"#DejaVuSans-116\"/>\n       <use x=\"1476.816406\" xlink:href=\"#DejaVuSans-111\"/>\n       <use x=\"1537.998047\" xlink:href=\"#DejaVuSans-114\"/>\n       <use x=\"1579.111328\" xlink:href=\"#DejaVuSans-105\"/>\n       <use x=\"1606.894531\" xlink:href=\"#DejaVuSans-122\"/>\n       <use x=\"1659.384766\" xlink:href=\"#DejaVuSans-101\"/>\n       <use x=\"1720.908203\" xlink:href=\"#DejaVuSans-114\"/>\n       <use x=\"1755.646484\" xlink:href=\"#DejaVuSans-45\"/>\n       <use x=\"1791.730469\" xlink:href=\"#DejaVuSans-78\"/>\n       <use x=\"1866.535156\" xlink:href=\"#DejaVuSans-111\"/>\n       <use x=\"1927.716797\" xlink:href=\"#DejaVuSans-110\"/>\n       <use x=\"1991.095703\" xlink:href=\"#DejaVuSans-101\"/>\n       <use x=\"2052.619141\" xlink:href=\"#DejaVuSans-45\"/>\n       <use x=\"2088.703125\" xlink:href=\"#DejaVuSans-78\"/>\n       <use x=\"2163.507812\" xlink:href=\"#DejaVuSans-111\"/>\n       <use x=\"2224.689453\" xlink:href=\"#DejaVuSans-110\"/>\n       <use x=\"2288.068359\" xlink:href=\"#DejaVuSans-101\"/>\n      </g>\n     </g>\n    </g>\n    <g id=\"ytick_2\">\n     <g id=\"line2d_8\">\n      <g>\n       <use style=\"stroke:#000000;stroke-width:0.8;\" x=\"306.19375\" xlink:href=\"#m91b2bb4a05\" y=\"88.74\"/>\n      </g>\n     </g>\n     <g id=\"text_9\">\n      <!-- LogisticRegression-TfidfVectorizer-None-None -->\n      <g transform=\"translate(72.565625 92.539219)scale(0.1 -0.1)\">\n       <defs>\n        <path d=\"M -0.296875 72.90625 \nL 61.375 72.90625 \nL 61.375 64.59375 \nL 35.5 64.59375 \nL 35.5 0 \nL 25.59375 0 \nL 25.59375 64.59375 \nL -0.296875 64.59375 \nz\n\" id=\"DejaVuSans-84\"/>\n        <path d=\"M 45.40625 46.390625 \nL 45.40625 75.984375 \nL 54.390625 75.984375 \nL 54.390625 0 \nL 45.40625 0 \nL 45.40625 8.203125 \nQ 42.578125 3.328125 38.25 0.953125 \nQ 33.9375 -1.421875 27.875 -1.421875 \nQ 17.96875 -1.421875 11.734375 6.484375 \nQ 5.515625 14.40625 5.515625 27.296875 \nQ 5.515625 40.1875 11.734375 48.09375 \nQ 17.96875 56 27.875 56 \nQ 33.9375 56 38.25 53.625 \nQ 42.578125 51.265625 45.40625 46.390625 \nz\nM 14.796875 27.296875 \nQ 14.796875 17.390625 18.875 11.75 \nQ 22.953125 6.109375 30.078125 6.109375 \nQ 37.203125 6.109375 41.296875 11.75 \nQ 45.40625 17.390625 45.40625 27.296875 \nQ 45.40625 37.203125 41.296875 42.84375 \nQ 37.203125 48.484375 30.078125 48.484375 \nQ 22.953125 48.484375 18.875 42.84375 \nQ 14.796875 37.203125 14.796875 27.296875 \nz\n\" id=\"DejaVuSans-100\"/>\n       </defs>\n       <use xlink:href=\"#DejaVuSans-76\"/>\n       <use x=\"53.962891\" xlink:href=\"#DejaVuSans-111\"/>\n       <use x=\"115.144531\" xlink:href=\"#DejaVuSans-103\"/>\n       <use x=\"178.621094\" xlink:href=\"#DejaVuSans-105\"/>\n       <use x=\"206.404297\" xlink:href=\"#DejaVuSans-115\"/>\n       <use x=\"258.503906\" xlink:href=\"#DejaVuSans-116\"/>\n       <use x=\"297.712891\" xlink:href=\"#DejaVuSans-105\"/>\n       <use x=\"325.496094\" xlink:href=\"#DejaVuSans-99\"/>\n       <use x=\"380.476562\" xlink:href=\"#DejaVuSans-82\"/>\n       <use x=\"445.458984\" xlink:href=\"#DejaVuSans-101\"/>\n       <use x=\"506.982422\" xlink:href=\"#DejaVuSans-103\"/>\n       <use x=\"570.458984\" xlink:href=\"#DejaVuSans-114\"/>\n       <use x=\"609.322266\" xlink:href=\"#DejaVuSans-101\"/>\n       <use x=\"670.845703\" xlink:href=\"#DejaVuSans-115\"/>\n       <use x=\"722.945312\" xlink:href=\"#DejaVuSans-115\"/>\n       <use x=\"775.044922\" xlink:href=\"#DejaVuSans-105\"/>\n       <use x=\"802.828125\" xlink:href=\"#DejaVuSans-111\"/>\n       <use x=\"864.009766\" xlink:href=\"#DejaVuSans-110\"/>\n       <use x=\"927.388672\" xlink:href=\"#DejaVuSans-45\"/>\n       <use x=\"954.347656\" xlink:href=\"#DejaVuSans-84\"/>\n       <use x=\"1015.431641\" xlink:href=\"#DejaVuSans-102\"/>\n       <use x=\"1050.636719\" xlink:href=\"#DejaVuSans-105\"/>\n       <use x=\"1078.419922\" xlink:href=\"#DejaVuSans-100\"/>\n       <use x=\"1141.896484\" xlink:href=\"#DejaVuSans-102\"/>\n       <use x=\"1177.101562\" xlink:href=\"#DejaVuSans-86\"/>\n       <use x=\"1237.759766\" xlink:href=\"#DejaVuSans-101\"/>\n       <use x=\"1299.283203\" xlink:href=\"#DejaVuSans-99\"/>\n       <use x=\"1354.263672\" xlink:href=\"#DejaVuSans-116\"/>\n       <use x=\"1393.472656\" xlink:href=\"#DejaVuSans-111\"/>\n       <use x=\"1454.654297\" xlink:href=\"#DejaVuSans-114\"/>\n       <use x=\"1495.767578\" xlink:href=\"#DejaVuSans-105\"/>\n       <use x=\"1523.550781\" xlink:href=\"#DejaVuSans-122\"/>\n       <use x=\"1576.041016\" xlink:href=\"#DejaVuSans-101\"/>\n       <use x=\"1637.564453\" xlink:href=\"#DejaVuSans-114\"/>\n       <use x=\"1672.302734\" xlink:href=\"#DejaVuSans-45\"/>\n       <use x=\"1708.386719\" xlink:href=\"#DejaVuSans-78\"/>\n       <use x=\"1783.191406\" xlink:href=\"#DejaVuSans-111\"/>\n       <use x=\"1844.373047\" xlink:href=\"#DejaVuSans-110\"/>\n       <use x=\"1907.751953\" xlink:href=\"#DejaVuSans-101\"/>\n       <use x=\"1969.275391\" xlink:href=\"#DejaVuSans-45\"/>\n       <use x=\"2005.359375\" xlink:href=\"#DejaVuSans-78\"/>\n       <use x=\"2080.164062\" xlink:href=\"#DejaVuSans-111\"/>\n       <use x=\"2141.345703\" xlink:href=\"#DejaVuSans-110\"/>\n       <use x=\"2204.724609\" xlink:href=\"#DejaVuSans-101\"/>\n      </g>\n     </g>\n    </g>\n    <g id=\"ytick_3\">\n     <g id=\"line2d_9\">\n      <g>\n       <use style=\"stroke:#000000;stroke-width:0.8;\" x=\"306.19375\" xlink:href=\"#m91b2bb4a05\" y=\"143.1\"/>\n      </g>\n     </g>\n     <g id=\"text_10\">\n      <!-- LogisticRegression-CountVectorizer-Normalizer-None -->\n      <g transform=\"translate(36.485938 146.899219)scale(0.1 -0.1)\">\n       <defs>\n        <path d=\"M 34.28125 27.484375 \nQ 23.390625 27.484375 19.1875 25 \nQ 14.984375 22.515625 14.984375 16.5 \nQ 14.984375 11.71875 18.140625 8.90625 \nQ 21.296875 6.109375 26.703125 6.109375 \nQ 34.1875 6.109375 38.703125 11.40625 \nQ 43.21875 16.703125 43.21875 25.484375 \nL 43.21875 27.484375 \nz\nM 52.203125 31.203125 \nL 52.203125 0 \nL 43.21875 0 \nL 43.21875 8.296875 \nQ 40.140625 3.328125 35.546875 0.953125 \nQ 30.953125 -1.421875 24.3125 -1.421875 \nQ 15.921875 -1.421875 10.953125 3.296875 \nQ 6 8.015625 6 15.921875 \nQ 6 25.140625 12.171875 29.828125 \nQ 18.359375 34.515625 30.609375 34.515625 \nL 43.21875 34.515625 \nL 43.21875 35.40625 \nQ 43.21875 41.609375 39.140625 45 \nQ 35.0625 48.390625 27.6875 48.390625 \nQ 23 48.390625 18.546875 47.265625 \nQ 14.109375 46.140625 10.015625 43.890625 \nL 10.015625 52.203125 \nQ 14.9375 54.109375 19.578125 55.046875 \nQ 24.21875 56 28.609375 56 \nQ 40.484375 56 46.34375 49.84375 \nQ 52.203125 43.703125 52.203125 31.203125 \nz\n\" id=\"DejaVuSans-97\"/>\n        <path d=\"M 9.421875 75.984375 \nL 18.40625 75.984375 \nL 18.40625 0 \nL 9.421875 0 \nz\n\" id=\"DejaVuSans-108\"/>\n       </defs>\n       <use xlink:href=\"#DejaVuSans-76\"/>\n       <use x=\"53.962891\" xlink:href=\"#DejaVuSans-111\"/>\n       <use x=\"115.144531\" xlink:href=\"#DejaVuSans-103\"/>\n       <use x=\"178.621094\" xlink:href=\"#DejaVuSans-105\"/>\n       <use x=\"206.404297\" xlink:href=\"#DejaVuSans-115\"/>\n       <use x=\"258.503906\" xlink:href=\"#DejaVuSans-116\"/>\n       <use x=\"297.712891\" xlink:href=\"#DejaVuSans-105\"/>\n       <use x=\"325.496094\" xlink:href=\"#DejaVuSans-99\"/>\n       <use x=\"380.476562\" xlink:href=\"#DejaVuSans-82\"/>\n       <use x=\"445.458984\" xlink:href=\"#DejaVuSans-101\"/>\n       <use x=\"506.982422\" xlink:href=\"#DejaVuSans-103\"/>\n       <use x=\"570.458984\" xlink:href=\"#DejaVuSans-114\"/>\n       <use x=\"609.322266\" xlink:href=\"#DejaVuSans-101\"/>\n       <use x=\"670.845703\" xlink:href=\"#DejaVuSans-115\"/>\n       <use x=\"722.945312\" xlink:href=\"#DejaVuSans-115\"/>\n       <use x=\"775.044922\" xlink:href=\"#DejaVuSans-105\"/>\n       <use x=\"802.828125\" xlink:href=\"#DejaVuSans-111\"/>\n       <use x=\"864.009766\" xlink:href=\"#DejaVuSans-110\"/>\n       <use x=\"927.388672\" xlink:href=\"#DejaVuSans-45\"/>\n       <use x=\"963.472656\" xlink:href=\"#DejaVuSans-67\"/>\n       <use x=\"1033.296875\" xlink:href=\"#DejaVuSans-111\"/>\n       <use x=\"1094.478516\" xlink:href=\"#DejaVuSans-117\"/>\n       <use x=\"1157.857422\" xlink:href=\"#DejaVuSans-110\"/>\n       <use x=\"1221.236328\" xlink:href=\"#DejaVuSans-116\"/>\n       <use x=\"1260.445312\" xlink:href=\"#DejaVuSans-86\"/>\n       <use x=\"1321.103516\" xlink:href=\"#DejaVuSans-101\"/>\n       <use x=\"1382.626953\" xlink:href=\"#DejaVuSans-99\"/>\n       <use x=\"1437.607422\" xlink:href=\"#DejaVuSans-116\"/>\n       <use x=\"1476.816406\" xlink:href=\"#DejaVuSans-111\"/>\n       <use x=\"1537.998047\" xlink:href=\"#DejaVuSans-114\"/>\n       <use x=\"1579.111328\" xlink:href=\"#DejaVuSans-105\"/>\n       <use x=\"1606.894531\" xlink:href=\"#DejaVuSans-122\"/>\n       <use x=\"1659.384766\" xlink:href=\"#DejaVuSans-101\"/>\n       <use x=\"1720.908203\" xlink:href=\"#DejaVuSans-114\"/>\n       <use x=\"1755.646484\" xlink:href=\"#DejaVuSans-45\"/>\n       <use x=\"1791.730469\" xlink:href=\"#DejaVuSans-78\"/>\n       <use x=\"1866.535156\" xlink:href=\"#DejaVuSans-111\"/>\n       <use x=\"1927.716797\" xlink:href=\"#DejaVuSans-114\"/>\n       <use x=\"1967.080078\" xlink:href=\"#DejaVuSans-109\"/>\n       <use x=\"2064.492188\" xlink:href=\"#DejaVuSans-97\"/>\n       <use x=\"2125.771484\" xlink:href=\"#DejaVuSans-108\"/>\n       <use x=\"2153.554688\" xlink:href=\"#DejaVuSans-105\"/>\n       <use x=\"2181.337891\" xlink:href=\"#DejaVuSans-122\"/>\n       <use x=\"2233.828125\" xlink:href=\"#DejaVuSans-101\"/>\n       <use x=\"2295.351562\" xlink:href=\"#DejaVuSans-114\"/>\n       <use x=\"2330.089844\" xlink:href=\"#DejaVuSans-45\"/>\n       <use x=\"2366.173828\" xlink:href=\"#DejaVuSans-78\"/>\n       <use x=\"2440.978516\" xlink:href=\"#DejaVuSans-111\"/>\n       <use x=\"2502.160156\" xlink:href=\"#DejaVuSans-110\"/>\n       <use x=\"2565.539062\" xlink:href=\"#DejaVuSans-101\"/>\n      </g>\n     </g>\n    </g>\n    <g id=\"ytick_4\">\n     <g id=\"line2d_10\">\n      <g>\n       <use style=\"stroke:#000000;stroke-width:0.8;\" x=\"306.19375\" xlink:href=\"#m91b2bb4a05\" y=\"197.46\"/>\n      </g>\n     </g>\n     <g id=\"text_11\">\n      <!-- LogisticRegression-TfidfVectorizer-Normalizer-None -->\n      <g transform=\"translate(44.820312 201.259219)scale(0.1 -0.1)\">\n       <use xlink:href=\"#DejaVuSans-76\"/>\n       <use x=\"53.962891\" xlink:href=\"#DejaVuSans-111\"/>\n       <use x=\"115.144531\" xlink:href=\"#DejaVuSans-103\"/>\n       <use x=\"178.621094\" xlink:href=\"#DejaVuSans-105\"/>\n       <use x=\"206.404297\" xlink:href=\"#DejaVuSans-115\"/>\n       <use x=\"258.503906\" xlink:href=\"#DejaVuSans-116\"/>\n       <use x=\"297.712891\" xlink:href=\"#DejaVuSans-105\"/>\n       <use x=\"325.496094\" xlink:href=\"#DejaVuSans-99\"/>\n       <use x=\"380.476562\" xlink:href=\"#DejaVuSans-82\"/>\n       <use x=\"445.458984\" xlink:href=\"#DejaVuSans-101\"/>\n       <use x=\"506.982422\" xlink:href=\"#DejaVuSans-103\"/>\n       <use x=\"570.458984\" xlink:href=\"#DejaVuSans-114\"/>\n       <use x=\"609.322266\" xlink:href=\"#DejaVuSans-101\"/>\n       <use x=\"670.845703\" xlink:href=\"#DejaVuSans-115\"/>\n       <use x=\"722.945312\" xlink:href=\"#DejaVuSans-115\"/>\n       <use x=\"775.044922\" xlink:href=\"#DejaVuSans-105\"/>\n       <use x=\"802.828125\" xlink:href=\"#DejaVuSans-111\"/>\n       <use x=\"864.009766\" xlink:href=\"#DejaVuSans-110\"/>\n       <use x=\"927.388672\" xlink:href=\"#DejaVuSans-45\"/>\n       <use x=\"954.347656\" xlink:href=\"#DejaVuSans-84\"/>\n       <use x=\"1015.431641\" xlink:href=\"#DejaVuSans-102\"/>\n       <use x=\"1050.636719\" xlink:href=\"#DejaVuSans-105\"/>\n       <use x=\"1078.419922\" xlink:href=\"#DejaVuSans-100\"/>\n       <use x=\"1141.896484\" xlink:href=\"#DejaVuSans-102\"/>\n       <use x=\"1177.101562\" xlink:href=\"#DejaVuSans-86\"/>\n       <use x=\"1237.759766\" xlink:href=\"#DejaVuSans-101\"/>\n       <use x=\"1299.283203\" xlink:href=\"#DejaVuSans-99\"/>\n       <use x=\"1354.263672\" xlink:href=\"#DejaVuSans-116\"/>\n       <use x=\"1393.472656\" xlink:href=\"#DejaVuSans-111\"/>\n       <use x=\"1454.654297\" xlink:href=\"#DejaVuSans-114\"/>\n       <use x=\"1495.767578\" xlink:href=\"#DejaVuSans-105\"/>\n       <use x=\"1523.550781\" xlink:href=\"#DejaVuSans-122\"/>\n       <use x=\"1576.041016\" xlink:href=\"#DejaVuSans-101\"/>\n       <use x=\"1637.564453\" xlink:href=\"#DejaVuSans-114\"/>\n       <use x=\"1672.302734\" xlink:href=\"#DejaVuSans-45\"/>\n       <use x=\"1708.386719\" xlink:href=\"#DejaVuSans-78\"/>\n       <use x=\"1783.191406\" xlink:href=\"#DejaVuSans-111\"/>\n       <use x=\"1844.373047\" xlink:href=\"#DejaVuSans-114\"/>\n       <use x=\"1883.736328\" xlink:href=\"#DejaVuSans-109\"/>\n       <use x=\"1981.148438\" xlink:href=\"#DejaVuSans-97\"/>\n       <use x=\"2042.427734\" xlink:href=\"#DejaVuSans-108\"/>\n       <use x=\"2070.210938\" xlink:href=\"#DejaVuSans-105\"/>\n       <use x=\"2097.994141\" xlink:href=\"#DejaVuSans-122\"/>\n       <use x=\"2150.484375\" xlink:href=\"#DejaVuSans-101\"/>\n       <use x=\"2212.007812\" xlink:href=\"#DejaVuSans-114\"/>\n       <use x=\"2246.746094\" xlink:href=\"#DejaVuSans-45\"/>\n       <use x=\"2282.830078\" xlink:href=\"#DejaVuSans-78\"/>\n       <use x=\"2357.634766\" xlink:href=\"#DejaVuSans-111\"/>\n       <use x=\"2418.816406\" xlink:href=\"#DejaVuSans-110\"/>\n       <use x=\"2482.195312\" xlink:href=\"#DejaVuSans-101\"/>\n      </g>\n     </g>\n    </g>\n    <g id=\"ytick_5\">\n     <g id=\"line2d_11\">\n      <g>\n       <use style=\"stroke:#000000;stroke-width:0.8;\" x=\"306.19375\" xlink:href=\"#m91b2bb4a05\" y=\"251.82\"/>\n      </g>\n     </g>\n     <g id=\"text_12\">\n      <!-- LogisticRegression-CountVectorizer-None-TruncatedSVD -->\n      <g transform=\"translate(20.878125 255.619219)scale(0.1 -0.1)\">\n       <defs>\n        <path d=\"M 53.515625 70.515625 \nL 53.515625 60.890625 \nQ 47.90625 63.578125 42.921875 64.890625 \nQ 37.9375 66.21875 33.296875 66.21875 \nQ 25.25 66.21875 20.875 63.09375 \nQ 16.5 59.96875 16.5 54.203125 \nQ 16.5 49.359375 19.40625 46.890625 \nQ 22.3125 44.4375 30.421875 42.921875 \nL 36.375 41.703125 \nQ 47.40625 39.59375 52.65625 34.296875 \nQ 57.90625 29 57.90625 20.125 \nQ 57.90625 9.515625 50.796875 4.046875 \nQ 43.703125 -1.421875 29.984375 -1.421875 \nQ 24.8125 -1.421875 18.96875 -0.25 \nQ 13.140625 0.921875 6.890625 3.21875 \nL 6.890625 13.375 \nQ 12.890625 10.015625 18.65625 8.296875 \nQ 24.421875 6.59375 29.984375 6.59375 \nQ 38.421875 6.59375 43.015625 9.90625 \nQ 47.609375 13.234375 47.609375 19.390625 \nQ 47.609375 24.75 44.3125 27.78125 \nQ 41.015625 30.8125 33.5 32.328125 \nL 27.484375 33.5 \nQ 16.453125 35.6875 11.515625 40.375 \nQ 6.59375 45.0625 6.59375 53.421875 \nQ 6.59375 63.09375 13.40625 68.65625 \nQ 20.21875 74.21875 32.171875 74.21875 \nQ 37.3125 74.21875 42.625 73.28125 \nQ 47.953125 72.359375 53.515625 70.515625 \nz\n\" id=\"DejaVuSans-83\"/>\n        <path d=\"M 19.671875 64.796875 \nL 19.671875 8.109375 \nL 31.59375 8.109375 \nQ 46.6875 8.109375 53.6875 14.9375 \nQ 60.6875 21.78125 60.6875 36.53125 \nQ 60.6875 51.171875 53.6875 57.984375 \nQ 46.6875 64.796875 31.59375 64.796875 \nz\nM 9.8125 72.90625 \nL 30.078125 72.90625 \nQ 51.265625 72.90625 61.171875 64.09375 \nQ 71.09375 55.28125 71.09375 36.53125 \nQ 71.09375 17.671875 61.125 8.828125 \nQ 51.171875 0 30.078125 0 \nL 9.8125 0 \nz\n\" id=\"DejaVuSans-68\"/>\n       </defs>\n       <use xlink:href=\"#DejaVuSans-76\"/>\n       <use x=\"53.962891\" xlink:href=\"#DejaVuSans-111\"/>\n       <use x=\"115.144531\" xlink:href=\"#DejaVuSans-103\"/>\n       <use x=\"178.621094\" xlink:href=\"#DejaVuSans-105\"/>\n       <use x=\"206.404297\" xlink:href=\"#DejaVuSans-115\"/>\n       <use x=\"258.503906\" xlink:href=\"#DejaVuSans-116\"/>\n       <use x=\"297.712891\" xlink:href=\"#DejaVuSans-105\"/>\n       <use x=\"325.496094\" xlink:href=\"#DejaVuSans-99\"/>\n       <use x=\"380.476562\" xlink:href=\"#DejaVuSans-82\"/>\n       <use x=\"445.458984\" xlink:href=\"#DejaVuSans-101\"/>\n       <use x=\"506.982422\" xlink:href=\"#DejaVuSans-103\"/>\n       <use x=\"570.458984\" xlink:href=\"#DejaVuSans-114\"/>\n       <use x=\"609.322266\" xlink:href=\"#DejaVuSans-101\"/>\n       <use x=\"670.845703\" xlink:href=\"#DejaVuSans-115\"/>\n       <use x=\"722.945312\" xlink:href=\"#DejaVuSans-115\"/>\n       <use x=\"775.044922\" xlink:href=\"#DejaVuSans-105\"/>\n       <use x=\"802.828125\" xlink:href=\"#DejaVuSans-111\"/>\n       <use x=\"864.009766\" xlink:href=\"#DejaVuSans-110\"/>\n       <use x=\"927.388672\" xlink:href=\"#DejaVuSans-45\"/>\n       <use x=\"963.472656\" xlink:href=\"#DejaVuSans-67\"/>\n       <use x=\"1033.296875\" xlink:href=\"#DejaVuSans-111\"/>\n       <use x=\"1094.478516\" xlink:href=\"#DejaVuSans-117\"/>\n       <use x=\"1157.857422\" xlink:href=\"#DejaVuSans-110\"/>\n       <use x=\"1221.236328\" xlink:href=\"#DejaVuSans-116\"/>\n       <use x=\"1260.445312\" xlink:href=\"#DejaVuSans-86\"/>\n       <use x=\"1321.103516\" xlink:href=\"#DejaVuSans-101\"/>\n       <use x=\"1382.626953\" xlink:href=\"#DejaVuSans-99\"/>\n       <use x=\"1437.607422\" xlink:href=\"#DejaVuSans-116\"/>\n       <use x=\"1476.816406\" xlink:href=\"#DejaVuSans-111\"/>\n       <use x=\"1537.998047\" xlink:href=\"#DejaVuSans-114\"/>\n       <use x=\"1579.111328\" xlink:href=\"#DejaVuSans-105\"/>\n       <use x=\"1606.894531\" xlink:href=\"#DejaVuSans-122\"/>\n       <use x=\"1659.384766\" xlink:href=\"#DejaVuSans-101\"/>\n       <use x=\"1720.908203\" xlink:href=\"#DejaVuSans-114\"/>\n       <use x=\"1755.646484\" xlink:href=\"#DejaVuSans-45\"/>\n       <use x=\"1791.730469\" xlink:href=\"#DejaVuSans-78\"/>\n       <use x=\"1866.535156\" xlink:href=\"#DejaVuSans-111\"/>\n       <use x=\"1927.716797\" xlink:href=\"#DejaVuSans-110\"/>\n       <use x=\"1991.095703\" xlink:href=\"#DejaVuSans-101\"/>\n       <use x=\"2052.619141\" xlink:href=\"#DejaVuSans-45\"/>\n       <use x=\"2079.578125\" xlink:href=\"#DejaVuSans-84\"/>\n       <use x=\"2125.912109\" xlink:href=\"#DejaVuSans-114\"/>\n       <use x=\"2167.025391\" xlink:href=\"#DejaVuSans-117\"/>\n       <use x=\"2230.404297\" xlink:href=\"#DejaVuSans-110\"/>\n       <use x=\"2293.783203\" xlink:href=\"#DejaVuSans-99\"/>\n       <use x=\"2348.763672\" xlink:href=\"#DejaVuSans-97\"/>\n       <use x=\"2410.042969\" xlink:href=\"#DejaVuSans-116\"/>\n       <use x=\"2449.251953\" xlink:href=\"#DejaVuSans-101\"/>\n       <use x=\"2510.775391\" xlink:href=\"#DejaVuSans-100\"/>\n       <use x=\"2574.251953\" xlink:href=\"#DejaVuSans-83\"/>\n       <use x=\"2637.728516\" xlink:href=\"#DejaVuSans-86\"/>\n       <use x=\"2706.136719\" xlink:href=\"#DejaVuSans-68\"/>\n      </g>\n     </g>\n    </g>\n    <g id=\"ytick_6\">\n     <g id=\"line2d_12\">\n      <g>\n       <use style=\"stroke:#000000;stroke-width:0.8;\" x=\"306.19375\" xlink:href=\"#m91b2bb4a05\" y=\"306.18\"/>\n      </g>\n     </g>\n     <g id=\"text_13\">\n      <!-- LogisticRegression-TfidfVectorizer-None-TruncatedSVD -->\n      <g transform=\"translate(29.2125 309.979219)scale(0.1 -0.1)\">\n       <use xlink:href=\"#DejaVuSans-76\"/>\n       <use x=\"53.962891\" xlink:href=\"#DejaVuSans-111\"/>\n       <use x=\"115.144531\" xlink:href=\"#DejaVuSans-103\"/>\n       <use x=\"178.621094\" xlink:href=\"#DejaVuSans-105\"/>\n       <use x=\"206.404297\" xlink:href=\"#DejaVuSans-115\"/>\n       <use x=\"258.503906\" xlink:href=\"#DejaVuSans-116\"/>\n       <use x=\"297.712891\" xlink:href=\"#DejaVuSans-105\"/>\n       <use x=\"325.496094\" xlink:href=\"#DejaVuSans-99\"/>\n       <use x=\"380.476562\" xlink:href=\"#DejaVuSans-82\"/>\n       <use x=\"445.458984\" xlink:href=\"#DejaVuSans-101\"/>\n       <use x=\"506.982422\" xlink:href=\"#DejaVuSans-103\"/>\n       <use x=\"570.458984\" xlink:href=\"#DejaVuSans-114\"/>\n       <use x=\"609.322266\" xlink:href=\"#DejaVuSans-101\"/>\n       <use x=\"670.845703\" xlink:href=\"#DejaVuSans-115\"/>\n       <use x=\"722.945312\" xlink:href=\"#DejaVuSans-115\"/>\n       <use x=\"775.044922\" xlink:href=\"#DejaVuSans-105\"/>\n       <use x=\"802.828125\" xlink:href=\"#DejaVuSans-111\"/>\n       <use x=\"864.009766\" xlink:href=\"#DejaVuSans-110\"/>\n       <use x=\"927.388672\" xlink:href=\"#DejaVuSans-45\"/>\n       <use x=\"954.347656\" xlink:href=\"#DejaVuSans-84\"/>\n       <use x=\"1015.431641\" xlink:href=\"#DejaVuSans-102\"/>\n       <use x=\"1050.636719\" xlink:href=\"#DejaVuSans-105\"/>\n       <use x=\"1078.419922\" xlink:href=\"#DejaVuSans-100\"/>\n       <use x=\"1141.896484\" xlink:href=\"#DejaVuSans-102\"/>\n       <use x=\"1177.101562\" xlink:href=\"#DejaVuSans-86\"/>\n       <use x=\"1237.759766\" xlink:href=\"#DejaVuSans-101\"/>\n       <use x=\"1299.283203\" xlink:href=\"#DejaVuSans-99\"/>\n       <use x=\"1354.263672\" xlink:href=\"#DejaVuSans-116\"/>\n       <use x=\"1393.472656\" xlink:href=\"#DejaVuSans-111\"/>\n       <use x=\"1454.654297\" xlink:href=\"#DejaVuSans-114\"/>\n       <use x=\"1495.767578\" xlink:href=\"#DejaVuSans-105\"/>\n       <use x=\"1523.550781\" xlink:href=\"#DejaVuSans-122\"/>\n       <use x=\"1576.041016\" xlink:href=\"#DejaVuSans-101\"/>\n       <use x=\"1637.564453\" xlink:href=\"#DejaVuSans-114\"/>\n       <use x=\"1672.302734\" xlink:href=\"#DejaVuSans-45\"/>\n       <use x=\"1708.386719\" xlink:href=\"#DejaVuSans-78\"/>\n       <use x=\"1783.191406\" xlink:href=\"#DejaVuSans-111\"/>\n       <use x=\"1844.373047\" xlink:href=\"#DejaVuSans-110\"/>\n       <use x=\"1907.751953\" xlink:href=\"#DejaVuSans-101\"/>\n       <use x=\"1969.275391\" xlink:href=\"#DejaVuSans-45\"/>\n       <use x=\"1996.234375\" xlink:href=\"#DejaVuSans-84\"/>\n       <use x=\"2042.568359\" xlink:href=\"#DejaVuSans-114\"/>\n       <use x=\"2083.681641\" xlink:href=\"#DejaVuSans-117\"/>\n       <use x=\"2147.060547\" xlink:href=\"#DejaVuSans-110\"/>\n       <use x=\"2210.439453\" xlink:href=\"#DejaVuSans-99\"/>\n       <use x=\"2265.419922\" xlink:href=\"#DejaVuSans-97\"/>\n       <use x=\"2326.699219\" xlink:href=\"#DejaVuSans-116\"/>\n       <use x=\"2365.908203\" xlink:href=\"#DejaVuSans-101\"/>\n       <use x=\"2427.431641\" xlink:href=\"#DejaVuSans-100\"/>\n       <use x=\"2490.908203\" xlink:href=\"#DejaVuSans-83\"/>\n       <use x=\"2554.384766\" xlink:href=\"#DejaVuSans-86\"/>\n       <use x=\"2622.792969\" xlink:href=\"#DejaVuSans-68\"/>\n      </g>\n     </g>\n    </g>\n    <g id=\"ytick_7\">\n     <g id=\"line2d_13\">\n      <g>\n       <use style=\"stroke:#000000;stroke-width:0.8;\" x=\"306.19375\" xlink:href=\"#m91b2bb4a05\" y=\"360.54\"/>\n      </g>\n     </g>\n     <g id=\"text_14\">\n      <!-- MultinomialNB-CountVectorizer-None-None -->\n      <g transform=\"translate(84.30625 364.339219)scale(0.1 -0.1)\">\n       <defs>\n        <path d=\"M 9.8125 72.90625 \nL 24.515625 72.90625 \nL 43.109375 23.296875 \nL 61.8125 72.90625 \nL 76.515625 72.90625 \nL 76.515625 0 \nL 66.890625 0 \nL 66.890625 64.015625 \nL 48.09375 14.015625 \nL 38.1875 14.015625 \nL 19.390625 64.015625 \nL 19.390625 0 \nL 9.8125 0 \nz\n\" id=\"DejaVuSans-77\"/>\n        <path d=\"M 19.671875 34.8125 \nL 19.671875 8.109375 \nL 35.5 8.109375 \nQ 43.453125 8.109375 47.28125 11.40625 \nQ 51.125 14.703125 51.125 21.484375 \nQ 51.125 28.328125 47.28125 31.5625 \nQ 43.453125 34.8125 35.5 34.8125 \nz\nM 19.671875 64.796875 \nL 19.671875 42.828125 \nL 34.28125 42.828125 \nQ 41.5 42.828125 45.03125 45.53125 \nQ 48.578125 48.25 48.578125 53.8125 \nQ 48.578125 59.328125 45.03125 62.0625 \nQ 41.5 64.796875 34.28125 64.796875 \nz\nM 9.8125 72.90625 \nL 35.015625 72.90625 \nQ 46.296875 72.90625 52.390625 68.21875 \nQ 58.5 63.53125 58.5 54.890625 \nQ 58.5 48.1875 55.375 44.234375 \nQ 52.25 40.28125 46.1875 39.3125 \nQ 53.46875 37.75 57.5 32.78125 \nQ 61.53125 27.828125 61.53125 20.40625 \nQ 61.53125 10.640625 54.890625 5.3125 \nQ 48.25 0 35.984375 0 \nL 9.8125 0 \nz\n\" id=\"DejaVuSans-66\"/>\n       </defs>\n       <use xlink:href=\"#DejaVuSans-77\"/>\n       <use x=\"86.279297\" xlink:href=\"#DejaVuSans-117\"/>\n       <use x=\"149.658203\" xlink:href=\"#DejaVuSans-108\"/>\n       <use x=\"177.441406\" xlink:href=\"#DejaVuSans-116\"/>\n       <use x=\"216.650391\" xlink:href=\"#DejaVuSans-105\"/>\n       <use x=\"244.433594\" xlink:href=\"#DejaVuSans-110\"/>\n       <use x=\"307.8125\" xlink:href=\"#DejaVuSans-111\"/>\n       <use x=\"368.994141\" xlink:href=\"#DejaVuSans-109\"/>\n       <use x=\"466.40625\" xlink:href=\"#DejaVuSans-105\"/>\n       <use x=\"494.189453\" xlink:href=\"#DejaVuSans-97\"/>\n       <use x=\"555.46875\" xlink:href=\"#DejaVuSans-108\"/>\n       <use x=\"583.251953\" xlink:href=\"#DejaVuSans-78\"/>\n       <use x=\"658.056641\" xlink:href=\"#DejaVuSans-66\"/>\n       <use x=\"726.660156\" xlink:href=\"#DejaVuSans-45\"/>\n       <use x=\"762.744141\" xlink:href=\"#DejaVuSans-67\"/>\n       <use x=\"832.568359\" xlink:href=\"#DejaVuSans-111\"/>\n       <use x=\"893.75\" xlink:href=\"#DejaVuSans-117\"/>\n       <use x=\"957.128906\" xlink:href=\"#DejaVuSans-110\"/>\n       <use x=\"1020.507812\" xlink:href=\"#DejaVuSans-116\"/>\n       <use x=\"1059.716797\" xlink:href=\"#DejaVuSans-86\"/>\n       <use x=\"1120.375\" xlink:href=\"#DejaVuSans-101\"/>\n       <use x=\"1181.898438\" xlink:href=\"#DejaVuSans-99\"/>\n       <use x=\"1236.878906\" xlink:href=\"#DejaVuSans-116\"/>\n       <use x=\"1276.087891\" xlink:href=\"#DejaVuSans-111\"/>\n       <use x=\"1337.269531\" xlink:href=\"#DejaVuSans-114\"/>\n       <use x=\"1378.382812\" xlink:href=\"#DejaVuSans-105\"/>\n       <use x=\"1406.166016\" xlink:href=\"#DejaVuSans-122\"/>\n       <use x=\"1458.65625\" xlink:href=\"#DejaVuSans-101\"/>\n       <use x=\"1520.179688\" xlink:href=\"#DejaVuSans-114\"/>\n       <use x=\"1554.917969\" xlink:href=\"#DejaVuSans-45\"/>\n       <use x=\"1591.001953\" xlink:href=\"#DejaVuSans-78\"/>\n       <use x=\"1665.806641\" xlink:href=\"#DejaVuSans-111\"/>\n       <use x=\"1726.988281\" xlink:href=\"#DejaVuSans-110\"/>\n       <use x=\"1790.367188\" xlink:href=\"#DejaVuSans-101\"/>\n       <use x=\"1851.890625\" xlink:href=\"#DejaVuSans-45\"/>\n       <use x=\"1887.974609\" xlink:href=\"#DejaVuSans-78\"/>\n       <use x=\"1962.779297\" xlink:href=\"#DejaVuSans-111\"/>\n       <use x=\"2023.960938\" xlink:href=\"#DejaVuSans-110\"/>\n       <use x=\"2087.339844\" xlink:href=\"#DejaVuSans-101\"/>\n      </g>\n     </g>\n    </g>\n    <g id=\"text_15\">\n     <!-- meta -->\n     <g transform=\"translate(14.798438 210.431094)rotate(-90)scale(0.1 -0.1)\">\n      <use xlink:href=\"#DejaVuSans-109\"/>\n      <use x=\"97.412109\" xlink:href=\"#DejaVuSans-101\"/>\n      <use x=\"158.935547\" xlink:href=\"#DejaVuSans-116\"/>\n      <use x=\"198.144531\" xlink:href=\"#DejaVuSans-97\"/>\n     </g>\n    </g>\n   </g>\n   <g id=\"line2d_14\">\n    <path clip-path=\"url(#p5bdf904d56)\" d=\"M 773.957286 34.38 \nL 773.48889 34.38 \n\" style=\"fill:none;stroke:#3d3d3d;stroke-linecap:square;stroke-width:1.5;\"/>\n   </g>\n   <g id=\"line2d_15\">\n    <path clip-path=\"url(#p5bdf904d56)\" d=\"M 788.24336 34.38 \nL 793.395714 34.38 \n\" style=\"fill:none;stroke:#3d3d3d;stroke-linecap:square;stroke-width:1.5;\"/>\n   </g>\n   <g id=\"line2d_16\">\n    <path clip-path=\"url(#p5bdf904d56)\" d=\"M 773.48889 23.508 \nL 773.48889 45.252 \n\" style=\"fill:none;stroke:#3d3d3d;stroke-linecap:square;stroke-width:1.5;\"/>\n   </g>\n   <g id=\"line2d_17\">\n    <path clip-path=\"url(#p5bdf904d56)\" d=\"M 793.395714 23.508 \nL 793.395714 45.252 \n\" style=\"fill:none;stroke:#3d3d3d;stroke-linecap:square;stroke-width:1.5;\"/>\n   </g>\n   <g id=\"line2d_18\"/>\n   <g id=\"line2d_19\">\n    <path clip-path=\"url(#p5bdf904d56)\" d=\"M 816.112914 88.74 \nL 805.105611 88.74 \n\" style=\"fill:none;stroke:#3d3d3d;stroke-linecap:square;stroke-width:1.5;\"/>\n   </g>\n   <g id=\"line2d_20\">\n    <path clip-path=\"url(#p5bdf904d56)\" d=\"M 824.778238 88.74 \nL 824.778238 88.74 \n\" style=\"fill:none;stroke:#3d3d3d;stroke-linecap:square;stroke-width:1.5;\"/>\n   </g>\n   <g id=\"line2d_21\">\n    <path clip-path=\"url(#p5bdf904d56)\" d=\"M 805.105611 77.868 \nL 805.105611 99.612 \n\" style=\"fill:none;stroke:#3d3d3d;stroke-linecap:square;stroke-width:1.5;\"/>\n   </g>\n   <g id=\"line2d_22\">\n    <path clip-path=\"url(#p5bdf904d56)\" d=\"M 824.778238 77.868 \nL 824.778238 99.612 \n\" style=\"fill:none;stroke:#3d3d3d;stroke-linecap:square;stroke-width:1.5;\"/>\n   </g>\n   <g id=\"line2d_23\">\n    <defs>\n     <path d=\"M -0 3.535534 \nL 2.12132 0 \nL -0 -3.535534 \nL -2.12132 -0 \nz\n\" id=\"mcf5f725178\" style=\"stroke:#3d3d3d;stroke-linejoin:miter;\"/>\n    </defs>\n    <g clip-path=\"url(#p5bdf904d56)\">\n     <use style=\"fill:#3d3d3d;stroke:#3d3d3d;stroke-linejoin:miter;\" x=\"838.830114\" xlink:href=\"#mcf5f725178\" y=\"88.74\"/>\n    </g>\n   </g>\n   <g id=\"line2d_24\">\n    <path clip-path=\"url(#p5bdf904d56)\" d=\"M 783.559401 143.1 \nL 782.388411 143.1 \n\" style=\"fill:none;stroke:#3d3d3d;stroke-linecap:square;stroke-width:1.5;\"/>\n   </g>\n   <g id=\"line2d_25\">\n    <path clip-path=\"url(#p5bdf904d56)\" d=\"M 807.213392 143.1 \nL 808.852778 143.1 \n\" style=\"fill:none;stroke:#3d3d3d;stroke-linecap:square;stroke-width:1.5;\"/>\n   </g>\n   <g id=\"line2d_26\">\n    <path clip-path=\"url(#p5bdf904d56)\" d=\"M 782.388411 132.228 \nL 782.388411 153.972 \n\" style=\"fill:none;stroke:#3d3d3d;stroke-linecap:square;stroke-width:1.5;\"/>\n   </g>\n   <g id=\"line2d_27\">\n    <path clip-path=\"url(#p5bdf904d56)\" d=\"M 808.852778 132.228 \nL 808.852778 153.972 \n\" style=\"fill:none;stroke:#3d3d3d;stroke-linecap:square;stroke-width:1.5;\"/>\n   </g>\n   <g id=\"line2d_28\"/>\n   <g id=\"line2d_29\">\n    <path clip-path=\"url(#p5bdf904d56)\" d=\"M 816.347112 197.46 \nL 804.871413 197.46 \n\" style=\"fill:none;stroke:#3d3d3d;stroke-linecap:square;stroke-width:1.5;\"/>\n   </g>\n   <g id=\"line2d_30\">\n    <path clip-path=\"url(#p5bdf904d56)\" d=\"M 824.54404 197.46 \nL 824.54404 197.46 \n\" style=\"fill:none;stroke:#3d3d3d;stroke-linecap:square;stroke-width:1.5;\"/>\n   </g>\n   <g id=\"line2d_31\">\n    <path clip-path=\"url(#p5bdf904d56)\" d=\"M 804.871413 186.588 \nL 804.871413 208.332 \n\" style=\"fill:none;stroke:#3d3d3d;stroke-linecap:square;stroke-width:1.5;\"/>\n   </g>\n   <g id=\"line2d_32\">\n    <path clip-path=\"url(#p5bdf904d56)\" d=\"M 824.54404 186.588 \nL 824.54404 208.332 \n\" style=\"fill:none;stroke:#3d3d3d;stroke-linecap:square;stroke-width:1.5;\"/>\n   </g>\n   <g id=\"line2d_33\">\n    <g clip-path=\"url(#p5bdf904d56)\">\n     <use style=\"fill:#3d3d3d;stroke:#3d3d3d;stroke-linejoin:miter;\" x=\"838.830114\" xlink:href=\"#mcf5f725178\" y=\"197.46\"/>\n    </g>\n   </g>\n   <g id=\"line2d_34\">\n    <path clip-path=\"url(#p5bdf904d56)\" d=\"M 457.321677 251.82 \nL 457.321677 251.82 \n\" style=\"fill:none;stroke:#3d3d3d;stroke-linecap:square;stroke-width:1.5;\"/>\n   </g>\n   <g id=\"line2d_35\">\n    <path clip-path=\"url(#p5bdf904d56)\" d=\"M 467.860585 251.82 \nL 467.860585 251.82 \n\" style=\"fill:none;stroke:#3d3d3d;stroke-linecap:square;stroke-width:1.5;\"/>\n   </g>\n   <g id=\"line2d_36\">\n    <path clip-path=\"url(#p5bdf904d56)\" d=\"M 457.321677 240.948 \nL 457.321677 262.692 \n\" style=\"fill:none;stroke:#3d3d3d;stroke-linecap:square;stroke-width:1.5;\"/>\n   </g>\n   <g id=\"line2d_37\">\n    <path clip-path=\"url(#p5bdf904d56)\" d=\"M 467.860585 240.948 \nL 467.860585 262.692 \n\" style=\"fill:none;stroke:#3d3d3d;stroke-linecap:square;stroke-width:1.5;\"/>\n   </g>\n   <g id=\"line2d_38\">\n    <g clip-path=\"url(#p5bdf904d56)\">\n     <use style=\"fill:#3d3d3d;stroke:#3d3d3d;stroke-linejoin:miter;\" x=\"439.99103\" xlink:href=\"#mcf5f725178\" y=\"251.82\"/>\n     <use style=\"fill:#3d3d3d;stroke:#3d3d3d;stroke-linejoin:miter;\" x=\"502.053483\" xlink:href=\"#mcf5f725178\" y=\"251.82\"/>\n    </g>\n   </g>\n   <g id=\"line2d_39\">\n    <path clip-path=\"url(#p5bdf904d56)\" d=\"M 600.650814 306.18 \nL 597.137845 306.18 \n\" style=\"fill:none;stroke:#3d3d3d;stroke-linecap:square;stroke-width:1.5;\"/>\n   </g>\n   <g id=\"line2d_40\">\n    <path clip-path=\"url(#p5bdf904d56)\" d=\"M 628.520368 306.18 \nL 635.546306 306.18 \n\" style=\"fill:none;stroke:#3d3d3d;stroke-linecap:square;stroke-width:1.5;\"/>\n   </g>\n   <g id=\"line2d_41\">\n    <path clip-path=\"url(#p5bdf904d56)\" d=\"M 597.137845 295.308 \nL 597.137845 317.052 \n\" style=\"fill:none;stroke:#3d3d3d;stroke-linecap:square;stroke-width:1.5;\"/>\n   </g>\n   <g id=\"line2d_42\">\n    <path clip-path=\"url(#p5bdf904d56)\" d=\"M 635.546306 295.308 \nL 635.546306 317.052 \n\" style=\"fill:none;stroke:#3d3d3d;stroke-linecap:square;stroke-width:1.5;\"/>\n   </g>\n   <g id=\"line2d_43\"/>\n   <g id=\"line2d_44\">\n    <path clip-path=\"url(#p5bdf904d56)\" d=\"M 332.728376 360.54 \nL 331.557386 360.54 \n\" style=\"fill:none;stroke:#3d3d3d;stroke-linecap:square;stroke-width:1.5;\"/>\n   </g>\n   <g id=\"line2d_45\">\n    <path clip-path=\"url(#p5bdf904d56)\" d=\"M 356.850763 360.54 \nL 361.066326 360.54 \n\" style=\"fill:none;stroke:#3d3d3d;stroke-linecap:square;stroke-width:1.5;\"/>\n   </g>\n   <g id=\"line2d_46\">\n    <path clip-path=\"url(#p5bdf904d56)\" d=\"M 331.557386 349.668 \nL 331.557386 371.412 \n\" style=\"fill:none;stroke:#3d3d3d;stroke-linecap:square;stroke-width:1.5;\"/>\n   </g>\n   <g id=\"line2d_47\">\n    <path clip-path=\"url(#p5bdf904d56)\" d=\"M 361.066326 349.668 \nL 361.066326 371.412 \n\" style=\"fill:none;stroke:#3d3d3d;stroke-linecap:square;stroke-width:1.5;\"/>\n   </g>\n   <g id=\"line2d_48\"/>\n   <g id=\"line2d_49\">\n    <path clip-path=\"url(#p5bdf904d56)\" d=\"M 787.07237 12.636 \nL 787.07237 56.124 \n\" style=\"fill:none;stroke:#3d3d3d;stroke-linecap:square;stroke-width:1.5;\"/>\n   </g>\n   <g id=\"line2d_50\">\n    <path clip-path=\"url(#p5bdf904d56)\" d=\"M 818.689091 66.996 \nL 818.689091 110.484 \n\" style=\"fill:none;stroke:#3d3d3d;stroke-linecap:square;stroke-width:1.5;\"/>\n   </g>\n   <g id=\"line2d_51\">\n    <path clip-path=\"url(#p5bdf904d56)\" d=\"M 786.603974 121.356 \nL 786.603974 164.844 \n\" style=\"fill:none;stroke:#3d3d3d;stroke-linecap:square;stroke-width:1.5;\"/>\n   </g>\n   <g id=\"line2d_52\">\n    <path clip-path=\"url(#p5bdf904d56)\" d=\"M 818.454893 175.716 \nL 818.454893 219.204 \n\" style=\"fill:none;stroke:#3d3d3d;stroke-linecap:square;stroke-width:1.5;\"/>\n   </g>\n   <g id=\"line2d_53\">\n    <path clip-path=\"url(#p5bdf904d56)\" d=\"M 462.005636 230.076 \nL 462.005636 273.564 \n\" style=\"fill:none;stroke:#3d3d3d;stroke-linecap:square;stroke-width:1.5;\"/>\n   </g>\n   <g id=\"line2d_54\">\n    <path clip-path=\"url(#p5bdf904d56)\" d=\"M 614.000096 284.436 \nL 614.000096 327.924 \n\" style=\"fill:none;stroke:#3d3d3d;stroke-linecap:square;stroke-width:1.5;\"/>\n   </g>\n   <g id=\"line2d_55\">\n    <path clip-path=\"url(#p5bdf904d56)\" d=\"M 342.564689 338.796 \nL 342.564689 382.284 \n\" style=\"fill:none;stroke:#3d3d3d;stroke-linecap:square;stroke-width:1.5;\"/>\n   </g>\n   <g id=\"patch_10\">\n    <path d=\"M 306.19375 387.72 \nL 306.19375 7.2 \n\" style=\"fill:none;stroke:#000000;stroke-linecap:square;stroke-linejoin:miter;stroke-width:0.8;\"/>\n   </g>\n   <g id=\"patch_11\">\n    <path d=\"M 864.19375 387.72 \nL 864.19375 7.2 \n\" style=\"fill:none;stroke:#000000;stroke-linecap:square;stroke-linejoin:miter;stroke-width:0.8;\"/>\n   </g>\n   <g id=\"patch_12\">\n    <path d=\"M 306.19375 387.72 \nL 864.19375 387.72 \n\" style=\"fill:none;stroke:#000000;stroke-linecap:square;stroke-linejoin:miter;stroke-width:0.8;\"/>\n   </g>\n   <g id=\"patch_13\">\n    <path d=\"M 306.19375 7.2 \nL 864.19375 7.2 \n\" style=\"fill:none;stroke:#000000;stroke-linecap:square;stroke-linejoin:miter;stroke-width:0.8;\"/>\n   </g>\n  </g>\n </g>\n <defs>\n  <clipPath id=\"p5bdf904d56\">\n   <rect height=\"380.52\" width=\"558\" x=\"306.19375\" y=\"7.2\"/>\n  </clipPath>\n </defs>\n</svg>\n",
      "image/png": "[encoded data removed]"
     },
     "metadata": {
      "needs_background": "light"
     }
    }
   ],
   "source": [
    "a4_dims = (10, 7)\n",
    "fig, ax = pyplot.subplots(figsize=a4_dims)\n",
    "g = sns.boxplot(data=analysis_df, x=\"test_f1_micro\", y=\"meta\")"
   ]
  },
  {
   "cell_type": "code",
   "execution_count": 14,
   "metadata": {},
   "outputs": [],
   "source": [
    "analysis_df.to_csv(\"sklearn_performance.csv\", index=False)"
   ]
  },
  {
   "cell_type": "code",
   "execution_count": null,
   "metadata": {},
   "outputs": [],
   "source": []
  }
 ],
 "metadata": {
  "kernelspec": {
   "name": "python3",
   "display_name": "Python 3.8.5 64-bit ('ics5110': conda)",
   "metadata": {
    "interpreter": {
     "hash": "a3d8fb96efc099e25dc4d6a873b44c7302ca5a21722eb7d7c39b09db89d1143d"
    }
   }
  },
  "language_info": {
   "codemirror_mode": {
    "name": "ipython",
    "version": 3
   },
   "file_extension": ".py",
   "mimetype": "text/x-python",
   "name": "python",
   "nbconvert_exporter": "python",
   "pygments_lexer": "ipython3",
   "version": "3.8.5-final"
  }
 },
 "nbformat": 4,
 "nbformat_minor": 4
}