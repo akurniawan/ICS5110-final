{
 "cells": [
  {
   "cell_type": "markdown",
   "metadata": {
    "colab_type": "text",
    "id": "view-in-github"
   },
   "source": [
    "<a href=\"https://colab.research.google.com/github/akurniawan/ICS5110-final/blob/main/01-Experiments.ipynb\" target=\"_parent\"><img src=\"https://colab.research.google.com/assets/colab-badge.svg\" alt=\"Open In Colab\"/></a>"
   ]
  },
  {
   "cell_type": "code",
   "execution_count": 17,
   "metadata": {
    "id": "rFsZFmaf6qiR"
   },
   "outputs": [],
   "source": [
    "import pandas as pd\n",
    "import re\n",
    "import math\n",
    "import nltk\n",
    "import numpy as np\n",
    "import spacy\n",
    "import seaborn as sns\n",
    "\n",
    "from datetime import datetime\n",
    "from sklearn.feature_extraction.text import CountVectorizer, TfidfVectorizer\n",
    "from sklearn.preprocessing import LabelBinarizer, LabelEncoder\n",
    "from collections import Counter\n",
    "from matplotlib import pyplot\n",
    "from nltk.corpus import stopwords\n",
    "from nltk.stem import PorterStemmer\n",
    "from tqdm import tqdm"
   ]
  },
  {
   "cell_type": "code",
   "execution_count": 18,
   "metadata": {},
   "outputs": [
    {
     "name": "stderr",
     "output_type": "stream",
     "text": [
      "/Users/akurniawan/opt/miniconda3/envs/ics5110/lib/python3.8/site-packages/tqdm/std.py:725: FutureWarning: The Panel class is removed from pandas. Accessing it from the top-level namespace will also be removed in the next version\n",
      "  from pandas import Panel\n"
     ]
    }
   ],
   "source": [
    "tqdm.pandas()"
   ]
  },
  {
   "cell_type": "code",
   "execution_count": 2,
   "metadata": {
    "id": "wEn26zzsAZ81"
   },
   "outputs": [],
   "source": [
    "review_df = pd.read_csv(\"yelp_review_sentiment_raw.csv\", delimiter=\"\\t\")"
   ]
  },
  {
   "cell_type": "code",
   "execution_count": 3,
   "metadata": {
    "colab": {
     "base_uri": "https://localhost:8080/",
     "height": 206
    },
    "id": "VjXs0rahAZ81",
    "outputId": "2391f739-d6c0-41fc-e18b-406a1ee90467"
   },
   "outputs": [
    {
     "data": {
      "text/html": [
       "<div>\n",
       "<style scoped>\n",
       "    .dataframe tbody tr th:only-of-type {\n",
       "        vertical-align: middle;\n",
       "    }\n",
       "\n",
       "    .dataframe tbody tr th {\n",
       "        vertical-align: top;\n",
       "    }\n",
       "\n",
       "    .dataframe thead th {\n",
       "        text-align: right;\n",
       "    }\n",
       "</style>\n",
       "<table border=\"1\" class=\"dataframe\">\n",
       "  <thead>\n",
       "    <tr style=\"text-align: right;\">\n",
       "      <th></th>\n",
       "      <th>review_id</th>\n",
       "      <th>stars</th>\n",
       "      <th>useful</th>\n",
       "      <th>date</th>\n",
       "      <th>text</th>\n",
       "    </tr>\n",
       "  </thead>\n",
       "  <tbody>\n",
       "    <tr>\n",
       "      <th>0</th>\n",
       "      <td>xQY8N_XvtGbearJ5X4QryQ</td>\n",
       "      <td>2.0</td>\n",
       "      <td>5</td>\n",
       "      <td>2015-04-15 05:21:16</td>\n",
       "      <td>As someone who has worked with many museums, I...</td>\n",
       "    </tr>\n",
       "    <tr>\n",
       "      <th>1</th>\n",
       "      <td>UmFMZ8PyXZTY2QcwzsfQYA</td>\n",
       "      <td>1.0</td>\n",
       "      <td>1</td>\n",
       "      <td>2013-12-07 03:16:52</td>\n",
       "      <td>I am actually horrified this place is still in...</td>\n",
       "    </tr>\n",
       "    <tr>\n",
       "      <th>2</th>\n",
       "      <td>LG2ZaYiOgpr2DK_90pYjNw</td>\n",
       "      <td>5.0</td>\n",
       "      <td>1</td>\n",
       "      <td>2015-12-05 03:18:11</td>\n",
       "      <td>I love Deagan's. I do. I really do. The atmosp...</td>\n",
       "    </tr>\n",
       "    <tr>\n",
       "      <th>3</th>\n",
       "      <td>i6g_oA9Yf9Y31qt0wibXpw</td>\n",
       "      <td>1.0</td>\n",
       "      <td>0</td>\n",
       "      <td>2011-05-27 05:30:52</td>\n",
       "      <td>Dismal, lukewarm, defrosted-tasting \"TexMex\" g...</td>\n",
       "    </tr>\n",
       "    <tr>\n",
       "      <th>4</th>\n",
       "      <td>6TdNDKywdbjoTkizeMce8A</td>\n",
       "      <td>4.0</td>\n",
       "      <td>0</td>\n",
       "      <td>2017-01-14 21:56:57</td>\n",
       "      <td>Oh happy day, finally have a Canes near my cas...</td>\n",
       "    </tr>\n",
       "  </tbody>\n",
       "</table>\n",
       "</div>"
      ],
      "text/plain": [
       "                review_id  stars  useful                 date  \\\n",
       "0  xQY8N_XvtGbearJ5X4QryQ    2.0       5  2015-04-15 05:21:16   \n",
       "1  UmFMZ8PyXZTY2QcwzsfQYA    1.0       1  2013-12-07 03:16:52   \n",
       "2  LG2ZaYiOgpr2DK_90pYjNw    5.0       1  2015-12-05 03:18:11   \n",
       "3  i6g_oA9Yf9Y31qt0wibXpw    1.0       0  2011-05-27 05:30:52   \n",
       "4  6TdNDKywdbjoTkizeMce8A    4.0       0  2017-01-14 21:56:57   \n",
       "\n",
       "                                                text  \n",
       "0  As someone who has worked with many museums, I...  \n",
       "1  I am actually horrified this place is still in...  \n",
       "2  I love Deagan's. I do. I really do. The atmosp...  \n",
       "3  Dismal, lukewarm, defrosted-tasting \"TexMex\" g...  \n",
       "4  Oh happy day, finally have a Canes near my cas...  "
      ]
     },
     "execution_count": 3,
     "metadata": {},
     "output_type": "execute_result"
    }
   ],
   "source": [
    "review_df.head()"
   ]
  },
  {
   "cell_type": "code",
   "execution_count": 4,
   "metadata": {
    "colab": {
     "base_uri": "https://localhost:8080/"
    },
    "id": "49AiKNTpAZ82",
    "outputId": "5539d6e3-bc57-4a96-ddb4-79fcb4d40ce2"
   },
   "outputs": [
    {
     "data": {
      "text/plain": [
       "review_id    8021122\n",
       "stars        8021122\n",
       "useful       8021122\n",
       "date         8021122\n",
       "text         8021120\n",
       "dtype: int64"
      ]
     },
     "execution_count": 4,
     "metadata": {},
     "output_type": "execute_result"
    }
   ],
   "source": [
    "review_df.count()"
   ]
  },
  {
   "cell_type": "code",
   "execution_count": 5,
   "metadata": {},
   "outputs": [],
   "source": [
    "review_df[\"date\"] = review_df[\"date\"].map(lambda x: datetime.strptime(x, '%Y-%m-%d %H:%M:%S'))"
   ]
  },
  {
   "cell_type": "code",
   "execution_count": 6,
   "metadata": {},
   "outputs": [
    {
     "data": {
      "text/html": [
       "<div>\n",
       "<style scoped>\n",
       "    .dataframe tbody tr th:only-of-type {\n",
       "        vertical-align: middle;\n",
       "    }\n",
       "\n",
       "    .dataframe tbody tr th {\n",
       "        vertical-align: top;\n",
       "    }\n",
       "\n",
       "    .dataframe thead th {\n",
       "        text-align: right;\n",
       "    }\n",
       "</style>\n",
       "<table border=\"1\" class=\"dataframe\">\n",
       "  <thead>\n",
       "    <tr style=\"text-align: right;\">\n",
       "      <th></th>\n",
       "      <th>review_id</th>\n",
       "      <th>stars</th>\n",
       "      <th>useful</th>\n",
       "      <th>date</th>\n",
       "      <th>text</th>\n",
       "    </tr>\n",
       "  </thead>\n",
       "  <tbody>\n",
       "    <tr>\n",
       "      <th>4</th>\n",
       "      <td>6TdNDKywdbjoTkizeMce8A</td>\n",
       "      <td>4.0</td>\n",
       "      <td>0</td>\n",
       "      <td>2017-01-14 21:56:57</td>\n",
       "      <td>Oh happy day, finally have a Canes near my cas...</td>\n",
       "    </tr>\n",
       "    <tr>\n",
       "      <th>7</th>\n",
       "      <td>lpFIJYpsvDxyph-kPzZ6aA</td>\n",
       "      <td>5.0</td>\n",
       "      <td>0</td>\n",
       "      <td>2017-07-18 18:31:54</td>\n",
       "      <td>Awesome office and staff, very professional an...</td>\n",
       "    </tr>\n",
       "    <tr>\n",
       "      <th>15</th>\n",
       "      <td>mjbs5CL4eMu4o6_VtYhN3Q</td>\n",
       "      <td>1.0</td>\n",
       "      <td>0</td>\n",
       "      <td>2017-08-07 21:36:36</td>\n",
       "      <td>If I could give less than one star, that would...</td>\n",
       "    </tr>\n",
       "    <tr>\n",
       "      <th>17</th>\n",
       "      <td>Ne_2CSfcKIqXHmv_KC0uqg</td>\n",
       "      <td>4.0</td>\n",
       "      <td>3</td>\n",
       "      <td>2018-02-01 19:15:00</td>\n",
       "      <td>A close friend was in town and so instead of t...</td>\n",
       "    </tr>\n",
       "    <tr>\n",
       "      <th>18</th>\n",
       "      <td>Hy-gUXQh3RVhE8FLH9Dt4Q</td>\n",
       "      <td>1.0</td>\n",
       "      <td>0</td>\n",
       "      <td>2017-06-28 00:39:18</td>\n",
       "      <td>Tried to have my car repaired.  Even made an a...</td>\n",
       "    </tr>\n",
       "  </tbody>\n",
       "</table>\n",
       "</div>"
      ],
      "text/plain": [
       "                 review_id  stars  useful                date  \\\n",
       "4   6TdNDKywdbjoTkizeMce8A    4.0       0 2017-01-14 21:56:57   \n",
       "7   lpFIJYpsvDxyph-kPzZ6aA    5.0       0 2017-07-18 18:31:54   \n",
       "15  mjbs5CL4eMu4o6_VtYhN3Q    1.0       0 2017-08-07 21:36:36   \n",
       "17  Ne_2CSfcKIqXHmv_KC0uqg    4.0       3 2018-02-01 19:15:00   \n",
       "18  Hy-gUXQh3RVhE8FLH9Dt4Q    1.0       0 2017-06-28 00:39:18   \n",
       "\n",
       "                                                 text  \n",
       "4   Oh happy day, finally have a Canes near my cas...  \n",
       "7   Awesome office and staff, very professional an...  \n",
       "15  If I could give less than one star, that would...  \n",
       "17  A close friend was in town and so instead of t...  \n",
       "18  Tried to have my car repaired.  Even made an a...  "
      ]
     },
     "execution_count": 6,
     "metadata": {},
     "output_type": "execute_result"
    }
   ],
   "source": [
    "# Filter by year to only get a sort of fresh data to prevent language diversion\n",
    "review_df = review_df[review_df[\"date\"].dt.year >= 2017]\n",
    "review_df.head()"
   ]
  },
  {
   "cell_type": "code",
   "execution_count": 7,
   "metadata": {},
   "outputs": [
    {
     "data": {
      "text/plain": [
       "review_id    3751182\n",
       "stars        3751182\n",
       "useful       3751182\n",
       "date         3751182\n",
       "text         3751182\n",
       "dtype: int64"
      ]
     },
     "execution_count": 7,
     "metadata": {},
     "output_type": "execute_result"
    }
   ],
   "source": [
    "review_df.count()"
   ]
  },
  {
   "cell_type": "code",
   "execution_count": 8,
   "metadata": {},
   "outputs": [
    {
     "data": {
      "text/html": [
       "<div>\n",
       "<style scoped>\n",
       "    .dataframe tbody tr th:only-of-type {\n",
       "        vertical-align: middle;\n",
       "    }\n",
       "\n",
       "    .dataframe tbody tr th {\n",
       "        vertical-align: top;\n",
       "    }\n",
       "\n",
       "    .dataframe thead th {\n",
       "        text-align: right;\n",
       "    }\n",
       "</style>\n",
       "<table border=\"1\" class=\"dataframe\">\n",
       "  <thead>\n",
       "    <tr style=\"text-align: right;\">\n",
       "      <th></th>\n",
       "      <th>review_id</th>\n",
       "      <th>stars</th>\n",
       "      <th>useful</th>\n",
       "      <th>date</th>\n",
       "      <th>text</th>\n",
       "      <th>sentiment</th>\n",
       "    </tr>\n",
       "  </thead>\n",
       "  <tbody>\n",
       "    <tr>\n",
       "      <th>4</th>\n",
       "      <td>6TdNDKywdbjoTkizeMce8A</td>\n",
       "      <td>4.0</td>\n",
       "      <td>0</td>\n",
       "      <td>2017-01-14 21:56:57</td>\n",
       "      <td>Oh happy day, finally have a Canes near my cas...</td>\n",
       "      <td>good</td>\n",
       "    </tr>\n",
       "    <tr>\n",
       "      <th>7</th>\n",
       "      <td>lpFIJYpsvDxyph-kPzZ6aA</td>\n",
       "      <td>5.0</td>\n",
       "      <td>0</td>\n",
       "      <td>2017-07-18 18:31:54</td>\n",
       "      <td>Awesome office and staff, very professional an...</td>\n",
       "      <td>good</td>\n",
       "    </tr>\n",
       "    <tr>\n",
       "      <th>15</th>\n",
       "      <td>mjbs5CL4eMu4o6_VtYhN3Q</td>\n",
       "      <td>1.0</td>\n",
       "      <td>0</td>\n",
       "      <td>2017-08-07 21:36:36</td>\n",
       "      <td>If I could give less than one star, that would...</td>\n",
       "      <td>bad</td>\n",
       "    </tr>\n",
       "    <tr>\n",
       "      <th>17</th>\n",
       "      <td>Ne_2CSfcKIqXHmv_KC0uqg</td>\n",
       "      <td>4.0</td>\n",
       "      <td>3</td>\n",
       "      <td>2018-02-01 19:15:00</td>\n",
       "      <td>A close friend was in town and so instead of t...</td>\n",
       "      <td>good</td>\n",
       "    </tr>\n",
       "    <tr>\n",
       "      <th>18</th>\n",
       "      <td>Hy-gUXQh3RVhE8FLH9Dt4Q</td>\n",
       "      <td>1.0</td>\n",
       "      <td>0</td>\n",
       "      <td>2017-06-28 00:39:18</td>\n",
       "      <td>Tried to have my car repaired.  Even made an a...</td>\n",
       "      <td>bad</td>\n",
       "    </tr>\n",
       "  </tbody>\n",
       "</table>\n",
       "</div>"
      ],
      "text/plain": [
       "                 review_id  stars  useful                date  \\\n",
       "4   6TdNDKywdbjoTkizeMce8A    4.0       0 2017-01-14 21:56:57   \n",
       "7   lpFIJYpsvDxyph-kPzZ6aA    5.0       0 2017-07-18 18:31:54   \n",
       "15  mjbs5CL4eMu4o6_VtYhN3Q    1.0       0 2017-08-07 21:36:36   \n",
       "17  Ne_2CSfcKIqXHmv_KC0uqg    4.0       3 2018-02-01 19:15:00   \n",
       "18  Hy-gUXQh3RVhE8FLH9Dt4Q    1.0       0 2017-06-28 00:39:18   \n",
       "\n",
       "                                                 text sentiment  \n",
       "4   Oh happy day, finally have a Canes near my cas...      good  \n",
       "7   Awesome office and staff, very professional an...      good  \n",
       "15  If I could give less than one star, that would...       bad  \n",
       "17  A close friend was in town and so instead of t...      good  \n",
       "18  Tried to have my car repaired.  Even made an a...       bad  "
      ]
     },
     "execution_count": 8,
     "metadata": {},
     "output_type": "execute_result"
    }
   ],
   "source": [
    "def bin_fn(x):\n",
    "    if 0 <= x < 3:\n",
    "        return \"bad\"\n",
    "    elif 3 <= x <= 5:\n",
    "        return \"good\"\n",
    "\n",
    "review_df[\"sentiment\"] = review_df[\"stars\"].apply(bin_fn)\n",
    "review_df.head()"
   ]
  },
  {
   "cell_type": "code",
   "execution_count": 9,
   "metadata": {},
   "outputs": [
    {
     "data": {
      "text/plain": [
       "<AxesSubplot:xlabel='sentiment', ylabel='Count'>"
      ]
     },
     "execution_count": 9,
     "metadata": {},
     "output_type": "execute_result"
    },
    {
     "data": {
      "image/png": "[encoded data removed]",
      "text/plain": [
       "<Figure size 432x288 with 1 Axes>"
      ]
     },
     "metadata": {
      "needs_background": "light"
     },
     "output_type": "display_data"
    }
   ],
   "source": [
    "sns.histplot(review_df, x=\"sentiment\")"
   ]
  },
  {
   "cell_type": "code",
   "execution_count": 10,
   "metadata": {},
   "outputs": [
    {
     "data": {
      "text/plain": [
       "review_id    1600000\n",
       "stars        1600000\n",
       "useful       1600000\n",
       "date         1600000\n",
       "text         1600000\n",
       "sentiment    1600000\n",
       "dtype: int64"
      ]
     },
     "execution_count": 10,
     "metadata": {},
     "output_type": "execute_result"
    }
   ],
   "source": [
    "total_data = 800000\n",
    "good_df = review_df[review_df[\"sentiment\"] == \"good\"].sample(n=total_data)\n",
    "quite_good_df = review_df[review_df[\"sentiment\"] == \"quite good\"]\n",
    "kind_bad_df = review_df[review_df[\"sentiment\"] == \"kind of bad\"]\n",
    "bad_df = review_df[review_df[\"sentiment\"] == \"bad\"].sample(n=total_data)\n",
    "\n",
    "df = pd.concat([good_df, quite_good_df, kind_bad_df, bad_df])\n",
    "df = df.sample(frac=1).reset_index(drop=True)\n",
    "df.count()"
   ]
  },
  {
   "cell_type": "code",
   "execution_count": 11,
   "metadata": {},
   "outputs": [
    {
     "data": {
      "text/plain": [
       "<AxesSubplot:xlabel='sentiment', ylabel='Count'>"
      ]
     },
     "execution_count": 11,
     "metadata": {},
     "output_type": "execute_result"
    },
    {
     "data": {
      "image/png": "[encoded data removed]",
      "text/plain": [
       "<Figure size 432x288 with 1 Axes>"
      ]
     },
     "metadata": {
      "needs_background": "light"
     },
     "output_type": "display_data"
    }
   ],
   "source": [
    "sns.histplot(df, x=\"sentiment\")"
   ]
  },
  {
   "cell_type": "code",
   "execution_count": 15,
   "metadata": {},
   "outputs": [],
   "source": [
    "sampled_df = df.sample(n=250000, random_state=42)"
   ]
  },
  {
   "cell_type": "code",
   "execution_count": 19,
   "metadata": {
    "id": "BInvWguiAZ82"
   },
   "outputs": [
    {
     "name": "stderr",
     "output_type": "stream",
     "text": [
      "100%|██████████| 250000/250000 [22:09<00:00, 188.10it/s]\n"
     ]
    }
   ],
   "source": [
    "nlp = spacy.load(\"en\", disable=[\"parser\", \"ner\"])\n",
    "\n",
    "\n",
    "def lemmatize(text):\n",
    "    doc = nlp(text)\n",
    "    lem = []\n",
    "    for token in doc:\n",
    "        lem.append(token.lemma_)\n",
    "    return \" \".join(lem)\n",
    "\n",
    "def remove_special_characters(text):\n",
    "    pattern = r'[^a-zA-z0-9\\s]'\n",
    "    text = re.sub(pattern, '', text)\n",
    "    return text\n",
    "\n",
    "def remove_newline(text):\n",
    "    pattern = r'(\\n)+'\n",
    "    text = re.sub(pattern, '', text)\n",
    "    pattern = r'(\\r)+'\n",
    "    text = re.sub(pattern, '', text)\n",
    "    pattern = r'(\\r\\n)+'\n",
    "    text = re.sub(pattern, '', text)\n",
    "    return text\n",
    "\n",
    "def remove_multiple_whitespaces(text):\n",
    "    pattern = r' {2,}'\n",
    "    text = re.sub(pattern, ' ', text)\n",
    "    pattern1 = r\"\\t+\"\n",
    "    text = re.sub(pattern1, ' ', text)\n",
    "    return text\n",
    "\n",
    "def preprocessing(text):\n",
    "    text = str(text).strip().lower()\n",
    "    text = remove_special_characters(text)\n",
    "    text = remove_newline(text)\n",
    "    text = remove_multiple_whitespaces(text)\n",
    "    text = lemmatize(text)\n",
    "    return text\n",
    "\n",
    "sampled_df[\"text\"] = sampled_df[\"text\"].progress_apply(preprocessing)"
   ]
  },
  {
   "cell_type": "code",
   "execution_count": 20,
   "metadata": {},
   "outputs": [
    {
     "data": {
      "text/html": [
       "<div>\n",
       "<style scoped>\n",
       "    .dataframe tbody tr th:only-of-type {\n",
       "        vertical-align: middle;\n",
       "    }\n",
       "\n",
       "    .dataframe tbody tr th {\n",
       "        vertical-align: top;\n",
       "    }\n",
       "\n",
       "    .dataframe thead th {\n",
       "        text-align: right;\n",
       "    }\n",
       "</style>\n",
       "<table border=\"1\" class=\"dataframe\">\n",
       "  <thead>\n",
       "    <tr style=\"text-align: right;\">\n",
       "      <th></th>\n",
       "      <th>review_id</th>\n",
       "      <th>stars</th>\n",
       "      <th>useful</th>\n",
       "      <th>date</th>\n",
       "      <th>text</th>\n",
       "      <th>sentiment</th>\n",
       "    </tr>\n",
       "  </thead>\n",
       "  <tbody>\n",
       "    <tr>\n",
       "      <th>541200</th>\n",
       "      <td>WISlUBSSWTTLe8MxraWbRQ</td>\n",
       "      <td>1.0</td>\n",
       "      <td>0</td>\n",
       "      <td>2017-03-27 19:07:34</td>\n",
       "      <td>i recently discover that jiffy lube do not cha...</td>\n",
       "      <td>bad</td>\n",
       "    </tr>\n",
       "    <tr>\n",
       "      <th>750</th>\n",
       "      <td>fbkeIKtIPQ5IingxK-klEQ</td>\n",
       "      <td>5.0</td>\n",
       "      <td>0</td>\n",
       "      <td>2017-12-20 03:14:36</td>\n",
       "      <td>calgary just get an amazing yoga instructor -P...</td>\n",
       "      <td>good</td>\n",
       "    </tr>\n",
       "    <tr>\n",
       "      <th>766711</th>\n",
       "      <td>sJlElhU1mzQvC-WPxOtDmQ</td>\n",
       "      <td>1.0</td>\n",
       "      <td>3</td>\n",
       "      <td>2018-11-14 18:16:46</td>\n",
       "      <td>the doctor here be so good that management fee...</td>\n",
       "      <td>bad</td>\n",
       "    </tr>\n",
       "    <tr>\n",
       "      <th>285055</th>\n",
       "      <td>KtSuj5digrHEoy_WqO7mPw</td>\n",
       "      <td>2.0</td>\n",
       "      <td>0</td>\n",
       "      <td>2017-09-04 03:50:44</td>\n",
       "      <td>i get to first say that -PRON- past review of ...</td>\n",
       "      <td>bad</td>\n",
       "    </tr>\n",
       "    <tr>\n",
       "      <th>705995</th>\n",
       "      <td>-ZQb5dKis_R2tnOLYUyDKA</td>\n",
       "      <td>1.0</td>\n",
       "      <td>2</td>\n",
       "      <td>2018-06-25 15:20:29</td>\n",
       "      <td>yike this place be horrific i go in a month ag...</td>\n",
       "      <td>bad</td>\n",
       "    </tr>\n",
       "  </tbody>\n",
       "</table>\n",
       "</div>"
      ],
      "text/plain": [
       "                     review_id  stars  useful                date  \\\n",
       "541200  WISlUBSSWTTLe8MxraWbRQ    1.0       0 2017-03-27 19:07:34   \n",
       "750     fbkeIKtIPQ5IingxK-klEQ    5.0       0 2017-12-20 03:14:36   \n",
       "766711  sJlElhU1mzQvC-WPxOtDmQ    1.0       3 2018-11-14 18:16:46   \n",
       "285055  KtSuj5digrHEoy_WqO7mPw    2.0       0 2017-09-04 03:50:44   \n",
       "705995  -ZQb5dKis_R2tnOLYUyDKA    1.0       2 2018-06-25 15:20:29   \n",
       "\n",
       "                                                     text sentiment  \n",
       "541200  i recently discover that jiffy lube do not cha...       bad  \n",
       "750     calgary just get an amazing yoga instructor -P...      good  \n",
       "766711  the doctor here be so good that management fee...       bad  \n",
       "285055  i get to first say that -PRON- past review of ...       bad  \n",
       "705995  yike this place be horrific i go in a month ag...       bad  "
      ]
     },
     "execution_count": 20,
     "metadata": {},
     "output_type": "execute_result"
    }
   ],
   "source": [
    "sampled_df.head()"
   ]
  },
  {
   "cell_type": "code",
   "execution_count": 21,
   "metadata": {},
   "outputs": [],
   "source": [
    "sampled_df[[\"review_id\", \"stars\", \"date\", \"text\", \"sentiment\"]].to_csv(\"yelp_review_sentiment_2classes.tsv\", sep=\"\\t\")"
   ]
  },
  {
   "cell_type": "code",
   "execution_count": null,
   "metadata": {},
   "outputs": [],
   "source": []
  }
 ],
 "metadata": {
  "colab": {
   "include_colab_link": true,
   "name": "Untitled1.ipynb",
   "provenance": []
  },
  "kernelspec": {
   "display_name": "Python 3",
   "language": "python",
   "name": "python3"
  },
  "language_info": {
   "codemirror_mode": {
    "name": "ipython",
    "version": 3
   },
   "file_extension": ".py",
   "mimetype": "text/x-python",
   "name": "python",
   "nbconvert_exporter": "python",
   "pygments_lexer": "ipython3",
   "version": "3.8.5"
  }
 },
 "nbformat": 4,
 "nbformat_minor": 4
}
